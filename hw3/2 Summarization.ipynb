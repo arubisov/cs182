{
 "cells": [
  {
   "cell_type": "markdown",
   "metadata": {
    "id": "Lvk67QawFLp4"
   },
   "source": [
    "# Introduction"
   ]
  },
  {
   "cell_type": "markdown",
   "metadata": {
    "id": "w9k8OvG5FLqU"
   },
   "source": [
    "<center><h3>**Welcome to the Summarization Notebook.**</h3></center>\n",
    "\n",
    "In this assignment, you are going to train a neural network to summarize news articles.\n",
    "Your neural network is going to learn from example, as we provide you with (article, summary) pairs.\n",
    "We provide you with a **toy dataset** made of only articles about police related news.\n",
    "Usual datasets can be 20x larger in size, but we have reduced it for computational purposes.\n",
    "\n",
    "You will do this using a Transformer network, from the __[Attention is all you need](http://papers.nips.cc/paper/7181-attention-is-all-you-need.pdf)__ paper.\n",
    "In this assignment you will:\n",
    "- Learn to process text into sub-word tokens, to avoid fixed vocabulary sizes, and UNK tokens.\n",
    "- Implement the key conceptual blocks of a Transformer.\n",
    "- Use a Transformer to read a news article, and produce a summary.\n",
    "- Perform operations on learned word-vectors to examine what the model has learned.\n",
    "\n",
    "    \n",
    "** Before you start **\n",
    "\n",
    "You should read the Attention is all you need paper.\n",
    "We are providing you with skeleton code for the Transformer, but there will have to implement 5 conceptual blocks of the transformer yourself:\n",
    "-  AttentionQKV: the Query, Key, Value attention mechanism at the center of the Transformer\n",
    "- MultiHeadAttention: the multiple heads that enable each input to attend at many places at once.\n",
    "- PositionEmbedding: the sinusoid-based position embedding of the Transformer.\n",
    "- Encoder & Decoder: The encoder (that reads inputs, such as news articles), the decoder (that produces the output summary, one token at a time)\n",
    "- Full Transformer: piecing it all together."
   ]
  },
  {
   "cell_type": "markdown",
   "metadata": {
    "id": "fJVenhu9FLqX"
   },
   "source": [
    "All dataset files should be placed in the `dataset/` folder of this assignment.\n",
    "\n",
    "If you are using Google Colab, follow the instructions to mount your Google Drive onto the remote machine."
   ]
  },
  {
   "cell_type": "markdown",
   "metadata": {
    "id": "LLzv6ksIFLqZ"
   },
   "source": [
    "# Library imports"
   ]
  },
  {
   "cell_type": "code",
   "execution_count": null,
   "metadata": {
    "colab": {
     "base_uri": "https://localhost:8080/"
    },
    "executionInfo": {
     "elapsed": 6588,
     "status": "ok",
     "timestamp": 1614538646829,
     "user": {
      "displayName": "Sean Chen",
      "photoUrl": "https://lh3.googleusercontent.com/a-/AOh14GjK8rkabs7CsaHjMrOJ7lF9JD8ld_9_f9SxLG76=s64",
      "userId": "07641202443553730242"
     },
     "user_tz": 480
    },
    "id": "IdFfsm8rI5ZG",
    "outputId": "26bec689-cdff-4c61-d986-7e59e8c54bd6"
   },
   "outputs": [],
   "source": [
    "!pip install segtok\n",
    "!pip install sentencepiece"
   ]
  },
  {
   "cell_type": "markdown",
   "metadata": {},
   "source": [
    "Run the first of the following two cells if you are running the homework locally, and run the second cell if you are running the homework in Colab"
   ]
  },
  {
   "cell_type": "code",
   "execution_count": null,
   "metadata": {
    "colab": {
     "base_uri": "https://localhost:8080/"
    },
    "executionInfo": {
     "elapsed": 6549,
     "status": "ok",
     "timestamp": 1614538646834,
     "user": {
      "displayName": "Sean Chen",
      "photoUrl": "https://lh3.googleusercontent.com/a-/AOh14GjK8rkabs7CsaHjMrOJ7lF9JD8ld_9_f9SxLG76=s64",
      "userId": "07641202443553730242"
     },
     "user_tz": 480
    },
    "id": "aGyL5lIXI7qd",
    "outputId": "4dd987d4-605d-4766-e21e-16ae39317914"
   },
   "outputs": [],
   "source": [
    "DRIVE=False\n",
    "root_folder = \"\"\n",
    "dataset_folder = \"dataset/\""
   ]
  },
  {
   "cell_type": "code",
   "execution_count": null,
   "metadata": {},
   "outputs": [],
   "source": [
    "from google.colab import drive\n",
    "drive.mount('/content/drive')\n",
    "root_folder = \"/content/drive/My Drive/cs182_hw3/\"\n",
    "dataset_folder = \"/content/drive/My Drive/cs182_hw3_public/dataset/\""
   ]
  },
  {
   "cell_type": "code",
   "execution_count": null,
   "metadata": {
    "id": "qdIkEfLxFLqb"
   },
   "outputs": [],
   "source": [
    "# This cell autoreloads the notebook when you change you python file code.\n",
    "# If you think the notebook did not reload, rerun this cell.\n",
    "%load_ext autoreload\n",
    "%autoreload 2"
   ]
  },
  {
   "cell_type": "code",
   "execution_count": null,
   "metadata": {
    "colab": {
     "base_uri": "https://localhost:8080/"
    },
    "executionInfo": {
     "elapsed": 11883,
     "status": "ok",
     "timestamp": 1614538652209,
     "user": {
      "displayName": "Sean Chen",
      "photoUrl": "https://lh3.googleusercontent.com/a-/AOh14GjK8rkabs7CsaHjMrOJ7lF9JD8ld_9_f9SxLG76=s64",
      "userId": "07641202443553730242"
     },
     "user_tz": 480
    },
    "id": "hVY5twBBFLqe",
    "outputId": "60fde5c5-9428-44a7-977b-844d660a246c"
   },
   "outputs": [],
   "source": [
    "import os\n",
    "import sys\n",
    "sys.path.append(root_folder)\n",
    "from transformer import Transformer\n",
    "import sentencepiece as spm\n",
    "import torch as th\n",
    "from torch import nn\n",
    "from torch.nn import functional as F\n",
    "from torch import optim\n",
    "import numpy as np\n",
    "import json\n",
    "import capita\n",
    "import os\n",
    "from transformer_utils import set_device\n",
    "import gc\n",
    "from utils import validate_to_array, model_out_to_list\n",
    "\n",
    "list_to_device = lambda th_obj: [tensor.to(device) for tensor in th_obj]"
   ]
  },
  {
   "cell_type": "code",
   "execution_count": null,
   "metadata": {
    "id": "1IDVCg83FLqi"
   },
   "outputs": [],
   "source": [
    "# Load the word piece model that will be used to tokenize the texts into\n",
    "# word pieces with a vocabulary size of 10000\n",
    "sp = spm.SentencePieceProcessor()\n",
    "sp.Load(root_folder+\"dataset/wp_vocab10000.model\")\n",
    "\n",
    "vocab = [line.split('\\t')[0] for line in open(root_folder+\"dataset/wp_vocab10000.vocab\", \"r\")]\n",
    "pad_index = vocab.index('#')\n",
    "\n",
    "def pad_sequence(numerized, pad_index, to_length):\n",
    "    pad = numerized[:to_length]\n",
    "    padded = pad + [pad_index] * (to_length - len(pad))\n",
    "    mask = [w != pad_index for w in padded]\n",
    "    return padded, mask"
   ]
  },
  {
   "cell_type": "markdown",
   "metadata": {
    "id": "591lVK1BFLqk"
   },
   "source": [
    "# Building blocks of a Transformer\n"
   ]
  },
  {
   "cell_type": "markdown",
   "metadata": {
    "id": "Ekya1G4qFLqm"
   },
   "source": [
    "**TODO**:\n",
    "\n",
    "Implement the 5 blocks of the Transformer. In order to finish this section, you should get very small error <1e-7 on each of the 5 checks in this section.\n",
    "\n",
    "\n",
    "The Transformer is split into 3 files: transformer_attention.py, transformer_utils.py and transformer.py\n",
    "\n",
    "Each section below gives you directions and a way to verify your code works properly.\n",
    "\n",
    "You do not need to modify the rest of the code provided, but should read it to understand overall architecture.\n",
    "\n",
    "Our Transformer is built as a Pytorch model, a standard that is good for you to get accustomed to.\n",
    "\n"
   ]
  },
  {
   "cell_type": "markdown",
   "metadata": {
    "id": "bG8RDjwKFLqo"
   },
   "source": [
    "## (1) Implementing the Query-Key-Value Attention (AttentionQKV)"
   ]
  },
  {
   "cell_type": "markdown",
   "metadata": {
    "id": "WurZuO8eFLqp"
   },
   "source": [
    "This part is located in AttentionQKV in transformer_attention.py. You must implement the call function of the class.\n",
    "You will need to implement the mathematical procedure of AttentionQKV that is described in the [Attention is all you need paper](https://arxiv.org/pdf/1706.03762.pdf)."
   ]
  },
  {
   "cell_type": "code",
   "execution_count": null,
   "metadata": {
    "colab": {
     "base_uri": "https://localhost:8080/"
    },
    "executionInfo": {
     "elapsed": 369,
     "status": "ok",
     "timestamp": 1614538691181,
     "user": {
      "displayName": "Sean Chen",
      "photoUrl": "https://lh3.googleusercontent.com/a-/AOh14GjK8rkabs7CsaHjMrOJ7lF9JD8ld_9_f9SxLG76=s64",
      "userId": "07641202443553730242"
     },
     "user_tz": 480
    },
    "id": "kjrFRxw3FLqr",
    "outputId": "71bb19ad-d095-476d-a3e1-9408ef51c815"
   },
   "outputs": [],
   "source": [
    "from transformer_attention import AttentionQKV\n",
    "\n",
    "batch_size = 2;\n",
    "n_queries = 3;\n",
    "n_keyval = 5;\n",
    "depth_k = 2;\n",
    "depth_v = 2\n",
    "\n",
    "with open(root_folder+\"transformer_checks/attention_qkv_io.json\", \"r\") as f:\n",
    "    io = json.load(f)\n",
    "    queries = th.tensor(io['queries'])\n",
    "    keys = th.tensor(io['keys'])\n",
    "    values = th.tensor(io['values'])\n",
    "    expected_output  = th.tensor(io['output'])\n",
    "    expected_weights = th.tensor(io['weights'])\n",
    "\n",
    "attn_qkv = AttentionQKV()\n",
    "output, weights = attn_qkv(queries, keys, values)\n",
    "validate_to_array(model_out_to_list,((queries,keys,values),attn_qkv),'attentionqkv', root_folder)\n",
    "print(\"Total error on the output:\",th.sum(th.abs(expected_output-output)).item(), \"(should be 0.0 or close to 0.0)\")\n",
    "print(\"Total error on the weights:\",th.sum(th.abs(expected_weights-weights)).item(), \"(should be 0.0 or close to 0.0)\")"
   ]
  },
  {
   "cell_type": "markdown",
   "metadata": {
    "id": "WvgZcum5FLqu"
   },
   "source": [
    "## (2) Implementing Multi-head attention"
   ]
  },
  {
   "cell_type": "markdown",
   "metadata": {
    "id": "puN9fYvyFLqu"
   },
   "source": [
    "This part is located in the class MultiHeadProjection in transformer_attention.py.\n",
    "You must implement the call, \\_split_heads, and \\_combine_heads functions.\n",
    "\n",
    "**Procedure**\n",
    "\n",
    "The objective is to leverage the AttentionQKV class you already wrote.\n",
    "\n",
    "Your input are the queries, keys, values as 3-d tensors (batch_size, sequence_length, feature_size).\n",
    "\n",
    "Split them into 4-d tensors (batch_size, n_heads, sequence_length, new_feature_size). Where:\n",
    "$$feature\\_size = n\\_heads * new_{feature\\_size}.$$\n",
    "\n",
    "You can then feed the split qkv to your implemented AttentionQKV, which will treat each head as an independent attention function.\n",
    "\n",
    "Then the output must be combined back into a 3-d tensor.\n",
    "You can test the validity of your implementation in the cell below."
   ]
  },
  {
   "cell_type": "code",
   "execution_count": null,
   "metadata": {
    "colab": {
     "base_uri": "https://localhost:8080/"
    },
    "executionInfo": {
     "elapsed": 434,
     "status": "ok",
     "timestamp": 1614538699382,
     "user": {
      "displayName": "Sean Chen",
      "photoUrl": "https://lh3.googleusercontent.com/a-/AOh14GjK8rkabs7CsaHjMrOJ7lF9JD8ld_9_f9SxLG76=s64",
      "userId": "07641202443553730242"
     },
     "user_tz": 480
    },
    "id": "nZPz8ux1FLqw",
    "outputId": "43573863-8b7d-464a-88a4-fc29546f22a7"
   },
   "outputs": [],
   "source": [
    "from transformer_attention import MultiHeadProjection\n",
    "\n",
    "batch_size = 2;\n",
    "n_queries = 3;\n",
    "n_heads = 4\n",
    "n_keyval = 5;\n",
    "depth_k = 8;\n",
    "depth_v = 8;\n",
    "\n",
    "with open(root_folder+\"transformer_checks/multihead_io.json\", \"r\") as f:\n",
    "    io = json.load(f)\n",
    "    queries = th.tensor(io['queries'])\n",
    "    keys = th.tensor(io['keys'])\n",
    "    values = th.tensor(io['values'])\n",
    "    expected_output  = th.tensor(io['output'])\n",
    "\n",
    "mhp = MultiHeadProjection(n_heads, (depth_k,depth_v))\n",
    "multihead_output = mhp((queries, keys, values))\n",
    "validate_to_array(model_out_to_list,(((queries,keys,values),),mhp),'multihead', root_folder)\n",
    "print(\"Total error on the output:\",th.sum(th.abs(expected_output-multihead_output)).item(), \"(should be 0.0 or close to 0.0)\")"
   ]
  },
  {
   "cell_type": "markdown",
   "metadata": {
    "id": "ZGU6SQ2RFLqz"
   },
   "source": [
    "## (3) Position Embedding "
   ]
  },
  {
   "cell_type": "markdown",
   "metadata": {
    "id": "W_MEJtfTFLq0"
   },
   "source": [
    "You must implement the FeedForward and PositionEmbedding classes in transformer.py.\n",
    "\n",
    "\n",
    "The cell below helps you verify the validity of your implementation\n"
   ]
  },
  {
   "cell_type": "code",
   "execution_count": null,
   "metadata": {
    "colab": {
     "base_uri": "https://localhost:8080/"
    },
    "executionInfo": {
     "elapsed": 10630,
     "status": "ok",
     "timestamp": 1614538717204,
     "user": {
      "displayName": "Sean Chen",
      "photoUrl": "https://lh3.googleusercontent.com/a-/AOh14GjK8rkabs7CsaHjMrOJ7lF9JD8ld_9_f9SxLG76=s64",
      "userId": "07641202443553730242"
     },
     "user_tz": 480
    },
    "id": "AyKCvdAnFLq1",
    "outputId": "40b4d71d-44a4-40aa-d899-cc54b5cd0e2c"
   },
   "outputs": [],
   "source": [
    "from transformer import PositionEmbedding\n",
    "\n",
    "batch_size = 2;\n",
    "sequence_length = 3;\n",
    "dim = 4;\n",
    "\n",
    "with open(root_folder+\"transformer_checks/position_embedding_io.json\", \"r\") as f:\n",
    "    io = json.load(f)\n",
    "    inputs = th.tensor(io['inputs'])\n",
    "    expected_output  = th.tensor(io['output'])\n",
    "\n",
    "pos_emb = PositionEmbedding(dim)\n",
    "(inputs,expected_output,pos_emb) = list_to_device((inputs,expected_output,pos_emb))\n",
    "output_t = pos_emb(inputs)\n",
    "validate_to_array(model_out_to_list,((inputs,),pos_emb),'position_embedding', root_folder)\n",
    "print(\"Total error on the output:\",th.sum(th.abs(expected_output-output_t)).item(), \"(should be 0.0 or close to 0.0)\")"
   ]
  },
  {
   "cell_type": "markdown",
   "metadata": {
    "id": "ZpmSj3lKFLq3"
   },
   "source": [
    "## (4) Transformer Encoder / Transformer Decoder"
   ]
  },
  {
   "cell_type": "markdown",
   "metadata": {
    "id": "k_OPPPkQFLq4"
   },
   "source": [
    "You now have all the blocks needed to implement the Transformer.\n",
    "For this part, you have to fill in 2 classes in the transformer.py file: TransformerEncoderBlock, TransformerDecoderBlock.\n",
    "\n",
    "The code below will verify the accuracy of each block"
   ]
  },
  {
   "cell_type": "code",
   "execution_count": null,
   "metadata": {
    "colab": {
     "base_uri": "https://localhost:8080/"
    },
    "executionInfo": {
     "elapsed": 943,
     "status": "ok",
     "timestamp": 1614538719439,
     "user": {
      "displayName": "Sean Chen",
      "photoUrl": "https://lh3.googleusercontent.com/a-/AOh14GjK8rkabs7CsaHjMrOJ7lF9JD8ld_9_f9SxLG76=s64",
      "userId": "07641202443553730242"
     },
     "user_tz": 480
    },
    "id": "-eTL20vGFLq5",
    "outputId": "0ac0a748-f793-4894-c23c-5f2b3ab0f1dd"
   },
   "outputs": [],
   "source": [
    "from transformer import TransformerEncoderBlock\n",
    "\n",
    "batch_size = 2\n",
    "sequence_length = 5\n",
    "hidden_size = 6\n",
    "filter_size = 12\n",
    "n_heads = 2\n",
    "\n",
    "with open(root_folder+\"transformer_checks/transformer_encoder_block_io_new.json\", \"r\") as f:\n",
    "    io = json.load(f)\n",
    "    inputs = th.tensor(io['inputs'])\n",
    "    expected_output = th.tensor(io['output'])\n",
    "enc_block = TransformerEncoderBlock(input_size=6, n_heads=n_heads, filter_size=filter_size, hidden_size=hidden_size)\n",
    "# th.save(enc_block.state_dict(),root_folder+\"transformer_checks/transformer_encoder_block\")\n",
    "enc_block.load_state_dict(th.load(root_folder+\"transformer_checks/transformer_encoder_block\"))\n",
    "(inputs,expected_output,enc_block) = list_to_device((inputs,expected_output,enc_block))\n",
    "output_t = enc_block(inputs)\n",
    "validate_to_array(model_out_to_list,((inputs,),enc_block),'encoder_block', root_folder)\n",
    "print(\"Total error on the output:\",th.sum(th.abs(expected_output-output_t)).item(), \"(should be 0.0 or close to 0.0)\")"
   ]
  },
  {
   "cell_type": "code",
   "execution_count": null,
   "metadata": {
    "colab": {
     "base_uri": "https://localhost:8080/"
    },
    "executionInfo": {
     "elapsed": 859,
     "status": "ok",
     "timestamp": 1614538726947,
     "user": {
      "displayName": "Sean Chen",
      "photoUrl": "https://lh3.googleusercontent.com/a-/AOh14GjK8rkabs7CsaHjMrOJ7lF9JD8ld_9_f9SxLG76=s64",
      "userId": "07641202443553730242"
     },
     "user_tz": 480
    },
    "id": "tdyhiZtsFLq7",
    "outputId": "57405b4d-ff20-468d-dea6-58e772a2d562"
   },
   "outputs": [],
   "source": [
    "from transformer import TransformerDecoderBlock\n",
    "batch_size = 2\n",
    "encoder_length = 5\n",
    "decoder_length = 3\n",
    "hidden_size = 6\n",
    "filter_size = 12\n",
    "n_heads = 2\n",
    "\n",
    "with open(root_folder+\"transformer_checks/transformer_decoder_block_io_new.json\", \"r\") as f:\n",
    "    io = json.load(f)\n",
    "    decoder_inputs = th.tensor(io['decoder_inputs'])\n",
    "    encoder_output = th.tensor(io['encoder_output'])\n",
    "    expected_output = th.tensor(io['output'])\n",
    "\n",
    "dec_block = TransformerDecoderBlock(input_size=6, n_heads=n_heads, filter_size=filter_size, hidden_size=hidden_size)\n",
    "dec_block.load_state_dict(th.load(root_folder+\"transformer_checks/transformer_decoder_block\"))\n",
    "(decoder_inputs,encoder_output,expected_output,dec_block) = list_to_device((decoder_inputs,encoder_output,expected_output,dec_block))\n",
    "output_t = dec_block(decoder_inputs, encoder_output)\n",
    "validate_to_array(model_out_to_list,((decoder_inputs, encoder_output),dec_block),'decoder_block', root_folder)\n",
    "print(\"Total error on the output:\",th.sum(th.abs(expected_output-output_t)).item(), \"(should be 0.0 or close to 0.0)\")\n"
   ]
  },
  {
   "cell_type": "markdown",
   "metadata": {
    "id": "FzuLYetAFLq9"
   },
   "source": [
    "## (5) Transformer"
   ]
  },
  {
   "cell_type": "markdown",
   "metadata": {
    "id": "j4yTgzFzFLq_"
   },
   "source": [
    "This is the final high-level function that pieces it all together.\n",
    "\n",
    "You have to implement the call function of the Transformer class in the `transformer.py` file.\n",
    "\n",
    "The block below verifies your implementation is correct."
   ]
  },
  {
   "cell_type": "code",
   "execution_count": null,
   "metadata": {
    "colab": {
     "base_uri": "https://localhost:8080/"
    },
    "executionInfo": {
     "elapsed": 877,
     "status": "ok",
     "timestamp": 1614538737714,
     "user": {
      "displayName": "Sean Chen",
      "photoUrl": "https://lh3.googleusercontent.com/a-/AOh14GjK8rkabs7CsaHjMrOJ7lF9JD8ld_9_f9SxLG76=s64",
      "userId": "07641202443553730242"
     },
     "user_tz": 480
    },
    "id": "5QHb6nyeFLrB",
    "outputId": "9f77c70b-7322-4d89-d605-b06c8f042813"
   },
   "outputs": [],
   "source": [
    "from transformer import Transformer\n",
    "\n",
    "batch_size = 2\n",
    "vocab_size = 11\n",
    "n_layers = 3\n",
    "n_heads = 4\n",
    "d_model = 8\n",
    "d_filter = 16\n",
    "input_length = 5\n",
    "output_length = 3\n",
    "\n",
    "with open(root_folder+\"transformer_checks/transformer_io_new.json\", \"r\") as f:\n",
    "    io = json.load(f)\n",
    "    enc_input = th.tensor(io['enc_input'])\n",
    "    dec_input = th.tensor(io['dec_input'])\n",
    "    enc_mask = th.tensor(io['enc_mask'])\n",
    "    dec_mask = th.tensor(io['dec_mask'])\n",
    "    expected_output = th.tensor(io['output'])\n",
    "transformer = Transformer(vocab_size=vocab_size, n_layers=n_layers, n_heads=n_heads, d_model=d_model, d_filter=d_filter)\n",
    "transformer.load_state_dict(th.load(root_folder+\"transformer_checks/transformer\"))\n",
    "(enc_input,dec_input,enc_mask,dec_mask,expected_output,transformer) \\\n",
    "    = list_to_device((enc_input,dec_input,enc_mask,dec_mask,expected_output,transformer))\n",
    "output_t = transformer(enc_input, target_sequence=dec_input, encoder_mask=enc_mask, decoder_mask=dec_mask)\n",
    "validate_to_array(model_out_to_list, ((enc_input, dec_input, enc_mask, dec_mask),transformer),'transformer', root_folder)\n",
    "print(\"Total error on the output:\",th.sum(th.abs(expected_output-output_t)).item(), \"(should be 0.0 or close to 0.0)\")"
   ]
  },
  {
   "cell_type": "markdown",
   "metadata": {
    "id": "6usohlnXFLrD"
   },
   "source": [
    "# Training the model"
   ]
  },
  {
   "cell_type": "markdown",
   "metadata": {
    "id": "6pukC3qFFLrF"
   },
   "source": [
    "Your objective is to train the Language on the dataset you are provided to reach a **validation loss <= 6.50**\n",
    "\n",
    "Careful: we will be testing this loss on an unreleased test set, so make sure to evaluate properly on a validation set and not overfit.\n",
    "\n",
    "You must save the model you want us to test under: models/final_transformer_summarization (the .index, .meta and .data files)\n",
    "\n",
    "**Advice**:\n",
    "- It should be possible to attain validation loss <= 6.50 with the model dimensions we've specified (n_layers=6, d_model=104, d_filter=416), but you can tune these hyperparameters. Increasing d_model will yield better model, at the cost of longer training time.\n",
    "- You should try tuning the learning rate, as well as what optimizer you use.\n",
    "- You might need to train for a few (up to 2 hours) to obtain our expected loss. Remember to tune your hyperparameters first, once you find ones that work well, let it train for longer.\n",
    "\n",
    "**Dataset**: as in the previous notebook, make sure the dataset files are in the `dataset` folder. These can be found on the Google Drive.\n"
   ]
  },
  {
   "cell_type": "code",
   "execution_count": null,
   "metadata": {
    "colab": {
     "base_uri": "https://localhost:8080/"
    },
    "executionInfo": {
     "elapsed": 13498,
     "status": "ok",
     "timestamp": 1614538756521,
     "user": {
      "displayName": "Sean Chen",
      "photoUrl": "https://lh3.googleusercontent.com/a-/AOh14GjK8rkabs7CsaHjMrOJ7lF9JD8ld_9_f9SxLG76=s64",
      "userId": "07641202443553730242"
     },
     "user_tz": 480
    },
    "id": "60AayLbxFLrH",
    "outputId": "aaf94a81-573c-4ae9-ea26-83f41f585423"
   },
   "outputs": [],
   "source": [
    "with open(root_folder+\"dataset/summarization_dataset_preprocessed.json\", \"r\") as f:\n",
    "    dataset = json.load(f)\n",
    "\n",
    "# We load the dataset, and split it into 2 sub-datasets based on if they are training or validation.\n",
    "# Feel free to split this dataset another way, but remember, a validation set is important, to have an idea of \n",
    "# the amount of overfitting that has occurred!\n",
    "\n",
    "d_train = [d for d in dataset if d['cut'] == 'training']\n",
    "d_valid = [d for d in dataset if d['cut'] == 'evaluation']\n",
    "\n",
    "len(d_train), len(d_valid)"
   ]
  },
  {
   "cell_type": "code",
   "execution_count": null,
   "metadata": {
    "colab": {
     "base_uri": "https://localhost:8080/"
    },
    "executionInfo": {
     "elapsed": 12978,
     "status": "ok",
     "timestamp": 1614538756533,
     "user": {
      "displayName": "Sean Chen",
      "photoUrl": "https://lh3.googleusercontent.com/a-/AOh14GjK8rkabs7CsaHjMrOJ7lF9JD8ld_9_f9SxLG76=s64",
      "userId": "07641202443553730242"
     },
     "user_tz": 480
    },
    "id": "DSNmSXaxFLrI",
    "outputId": "4d074ec4-734b-47b2-ebd2-d35a5c7ee626"
   },
   "outputs": [],
   "source": [
    "# An example (article, summary) pair in the training data:\n",
    "\n",
    "print(d_train[145]['story'])\n",
    "print(\"=======================\\n=======================\")\n",
    "print(d_train[145]['summary'])"
   ]
  },
  {
   "cell_type": "markdown",
   "metadata": {
    "id": "CRRN1hJfFLrJ"
   },
   "source": [
    "Similarly to the previous assignment, we create a function to get a random batch to train on, given a dataset."
   ]
  },
  {
   "cell_type": "code",
   "execution_count": null,
   "metadata": {
    "id": "3OLRb5bWFLrK"
   },
   "outputs": [],
   "source": [
    "def build_batch(dataset, batch_size):\n",
    "    indices = list(np.random.randint(0, len(dataset), size=batch_size))\n",
    "    \n",
    "    batch = [dataset[i] for i in indices]\n",
    "    batch_input = np.array([a['input'] for a in batch])\n",
    "    batch_input_mask = np.array([a['input_mask'] for a in batch])\n",
    "    batch_output = np.array([a['output'] for a in batch])\n",
    "    batch_output_mask = np.array([a['output_mask'] for a in batch])\n",
    "    \n",
    "    return batch_input, batch_input_mask, batch_output, batch_output_mask"
   ]
  },
  {
   "cell_type": "markdown",
   "metadata": {
    "id": "T4aVeGB-FLrL"
   },
   "source": [
    "We now instantiate the Transformer with our sets of hyperparameters specific to the task of summarization.\n",
    "In summarization, we are going to go from documents with up to 400 words, to documents with up to 100 words.\n",
    "The vocabulary size is set for you, and is of 10,000 words (we are using WordPieces, [here is a paper about subword encoding](http://aclweb.org/anthology/P18-1007), if you are interested)."
   ]
  },
  {
   "cell_type": "code",
   "execution_count": null,
   "metadata": {
    "id": "61JXS8xNFLrL"
   },
   "outputs": [],
   "source": [
    "# Use this trainer to train a Transformer model\n",
    "\n",
    "class TransformerTrainer(nn.Module):\n",
    "    def __init__(self, vocab_size, d_model, input_length, output_length, n_layers, d_filter, dropout=0, learning_rate=1e-3):\n",
    "        super().__init__()\n",
    "        self.model = Transformer(vocab_size=vocab_size, d_model=d_model, n_layers=n_layers, d_filter=d_filter)\n",
    "\n",
    "        # Summarization loss\n",
    "        criterion = nn.CrossEntropyLoss(reduce='none')\n",
    "        self.loss_fn = lambda pred,target,mask: (criterion(pred.permute(0,2,1),target)*mask).sum()/mask.sum()\n",
    "        self.learning_rate = learning_rate\n",
    "        self.optimizer = optim.Adam(self.model.parameters(), lr=learning_rate)\n",
    "    def forward(self,batch,optimize=True):\n",
    "        pred_logits = self.model(**batch)\n",
    "        target,mask = batch['target_sequence'],batch['decoder_mask']\n",
    "        loss = self.loss_fn(pred_logits,target,mask)\n",
    "        accuracy = (th.eq(pred_logits.argmax(dim=2,keepdim=False),target).float()*mask).sum()/mask.sum()\n",
    "        \n",
    "        if optimize:\n",
    "            self.optimizer.zero_grad()\n",
    "            loss.backward()\n",
    "            self.optimizer.step()\n",
    "                \n",
    "        return loss, accuracy"
   ]
  },
  {
   "cell_type": "code",
   "execution_count": null,
   "metadata": {
    "colab": {
     "base_uri": "https://localhost:8080/"
    },
    "executionInfo": {
     "elapsed": 754,
     "status": "ok",
     "timestamp": 1614538757442,
     "user": {
      "displayName": "Sean Chen",
      "photoUrl": "https://lh3.googleusercontent.com/a-/AOh14GjK8rkabs7CsaHjMrOJ7lF9JD8ld_9_f9SxLG76=s64",
      "userId": "07641202443553730242"
     },
     "user_tz": 480
    },
    "id": "xtAVhYXXFLrN",
    "outputId": "5d9eab85-24f5-410d-d6cf-0cb401f59c9e"
   },
   "outputs": [],
   "source": [
    "# Dataset related parameters\n",
    "vocab_size = len(vocab)\n",
    "ilength = 400 # Length of the article\n",
    "olength  = 100 # Length of the summaries\n",
    "\n",
    "# Model related parameters, feel free to modify these.\n",
    "n_layers = 6\n",
    "d_model  = 160\n",
    "d_filter = 4*d_model\n",
    "batch_size = 16\n",
    "\n",
    "dropout = 0\n",
    "learning_rate = 1e-3\n",
    "trainer = TransformerTrainer(vocab_size, d_model, ilength, olength, n_layers, d_filter, dropout)\n",
    "model_id = 'test1'\n",
    "os.makedirs(root_folder+'models/part2/',exist_ok=True)\n",
    "\n",
    "device = th.device(\"cuda\" if th.cuda.is_available() else \"cpu\")\n",
    "print(device)\n",
    "set_device(device)"
   ]
  },
  {
   "cell_type": "code",
   "execution_count": null,
   "metadata": {
    "colab": {
     "base_uri": "https://localhost:8080/"
    },
    "executionInfo": {
     "elapsed": 194111,
     "status": "ok",
     "timestamp": 1614538953214,
     "user": {
      "displayName": "Sean Chen",
      "photoUrl": "https://lh3.googleusercontent.com/a-/AOh14GjK8rkabs7CsaHjMrOJ7lF9JD8ld_9_f9SxLG76=s64",
      "userId": "07641202443553730242"
     },
     "user_tz": 480
    },
    "id": "2jEzZqG0FLrO",
    "outputId": "fa9f99b6-96d8-4ba1-c551-58d431e76c22"
   },
   "outputs": [],
   "source": [
    "# Skeleton code, as in the previous notebook.\n",
    "# Write code training code and save your best performing model on the\n",
    "# validation set. We will be testing the loss on a held-out test dataset.\n",
    "from tqdm import tqdm\n",
    "gc.collect()\n",
    "trainer.model.to(device)\n",
    "trainer.model.train()\n",
    "losses,accuracies = [],[]\n",
    "t = tqdm(range(int(1e3)+1))\n",
    "for i in t:\n",
    "    # Create a random mini-batch from the training dataset\n",
    "    batch = build_batch(d_train, batch_size)\n",
    "    # Build the feed-dict connecting placeholders and mini-batch\n",
    "    batch_input, batch_input_mask, batch_output, batch_output_mask = [th.tensor(tensor) for tensor in batch]\n",
    "    batch_input, batch_input_mask, batch_output, batch_output_mask \\\n",
    "                = list_to_device([batch_input, batch_input_mask, batch_output, batch_output_mask])\n",
    "    batch = {'source_sequence': batch_input, 'target_sequence': batch_output,\n",
    "            'encoder_mask': batch_input_mask, 'decoder_mask': batch_output_mask}\n",
    "\n",
    "    # Obtain the loss. Be careful when you use the train_op and not, as previously.\n",
    "    train_loss, accuracy = trainer(batch)\n",
    "    losses.append(train_loss.item()),accuracies.append(accuracy.item())\n",
    "    if i % 10 == 0:\n",
    "        t.set_description(f\"Iteration: {i} Loss: {np.mean(losses[-10:])} Accuracy: {np.mean(accuracies[-10:])}\")\n",
    "    if i % 100 == 0:\n",
    "        save_dict = dict(\n",
    "            kwargs = dict(\n",
    "                vocab_size=vocab_size,\n",
    "                d_model=d_model,\n",
    "                n_layers=n_layers, \n",
    "                d_filter=d_filter\n",
    "            ),\n",
    "            model_state_dict = trainer.model.state_dict(),\n",
    "            notes = \"\"\n",
    "        )\n",
    "        th.save(save_dict, root_folder+f'models/part2/model_{model_id}.pt')"
   ]
  },
  {
   "cell_type": "markdown",
   "metadata": {
    "id": "jo6AXe81FLrP"
   },
   "source": [
    "# Using the Summarization model"
   ]
  },
  {
   "cell_type": "markdown",
   "metadata": {
    "id": "FsEOd0GXFLrQ"
   },
   "source": [
    "Now that you have trained a Transformer to perform Summarization, we will use the model on news articles from the wild.\n",
    "\n",
    "The three subsections below explore what the model has learned."
   ]
  },
  {
   "cell_type": "markdown",
   "metadata": {
    "id": "tyO5f0ltFLrR"
   },
   "source": [
    "## The validation loss"
   ]
  },
  {
   "cell_type": "markdown",
   "metadata": {
    "id": "RwMtIj6cFLrR"
   },
   "source": [
    "Measure the validation loss of your model. This part could be used, as in our previous notebook, in deciding what is a likely, vs. unlikely summary for an article.\n",
    "\n",
    "We will use the code here with the unreleased test-set to evaluate your model."
   ]
  },
  {
   "cell_type": "code",
   "execution_count": null,
   "metadata": {
    "id": "M20e8ksXFLrS"
   },
   "outputs": [],
   "source": [
    "gc.collect()\n",
    "model_id = \"test1\"\n",
    "save_dict = th.load(root_folder+'models/part2/'+f\"model_{model_id}.pt\", map_location='cpu')\n",
    "model = Transformer(**save_dict['kwargs'])\n",
    "model.load_state_dict(save_dict['model_state_dict'])\n",
    "set_device('cpu')\n",
    "model.eval()\n",
    "trainer.model = model"
   ]
  },
  {
   "cell_type": "code",
   "execution_count": null,
   "metadata": {
    "colab": {
     "base_uri": "https://localhost:8080/",
     "height": 231
    },
    "executionInfo": {
     "elapsed": 310,
     "status": "error",
     "timestamp": 1614652860824,
     "user": {
      "displayName": "Sean Chen",
      "photoUrl": "https://lh3.googleusercontent.com/a-/AOh14GjK8rkabs7CsaHjMrOJ7lF9JD8ld_9_f9SxLG76=s64",
      "userId": "07641202443553730242"
     },
     "user_tz": 480
    },
    "id": "jpBA-TXJFLrT",
    "outputId": "c7c42387-606e-424f-b23a-9e560cb152d5"
   },
   "outputs": [],
   "source": [
    "gc.collect()\n",
    "losses = []\n",
    "for i in tqdm(range(100)):\n",
    "    batch = build_batch(d_valid, 1)\n",
    "    # Build the feed-dict connecting placeholders and mini-batch\n",
    "    batch_input, batch_input_mask, batch_output, batch_output_mask = [th.tensor(tensor) for tensor in batch]\n",
    "    batch = {'source_sequence': batch_input, 'target_sequence': batch_output,\n",
    "            'encoder_mask': batch_input_mask, 'decoder_mask': batch_output_mask}\n",
    "    valid_loss, accuracy = trainer(batch,optimize=False)\n",
    "    losses.append(float(valid_loss.cpu().item()))\n",
    "print(\"Validation loss:\", np.mean(losses))"
   ]
  },
  {
   "cell_type": "code",
   "execution_count": null,
   "metadata": {
    "id": "KUDdDx4VFLrU"
   },
   "outputs": [],
   "source": [
    "# Your best performing model should go here.\n",
    "os.makedirs(root_folder+\"best_models\",exist_ok=True)\n",
    "best_model_file = root_folder+\"best_models/part2_best_model.pt\"\n",
    "th.save(save_dict,best_model_file)"
   ]
  },
  {
   "cell_type": "markdown",
   "metadata": {
    "id": "fT_BvxRqFLrV"
   },
   "source": [
    "## Generating an article's summary"
   ]
  },
  {
   "cell_type": "markdown",
   "metadata": {
    "id": "s1225KszFLrW"
   },
   "source": [
    "This model we have built is meant to be used to generate summaries for new articles we do not have summaries for.\n",
    "We got a [news article](https://www.chicagotribune.com/news/local/breaking/ct-met-officer-shot-20190309-story.html) from the Chicago Tribune about a police shooting, and want to use our model to produce a summary.\n",
    "\n",
    "As you will see, our model is still limited in its ability, and will most likely not produce an interpretible summary, however, with more data and training, this model would be able to produce good summaries."
   ]
  },
  {
   "cell_type": "code",
   "execution_count": null,
   "metadata": {
    "colab": {
     "base_uri": "https://localhost:8080/"
    },
    "executionInfo": {
     "elapsed": 2838,
     "status": "ok",
     "timestamp": 1614491575580,
     "user": {
      "displayName": "Sean Chen",
      "photoUrl": "https://lh3.googleusercontent.com/a-/AOh14GjK8rkabs7CsaHjMrOJ7lF9JD8ld_9_f9SxLG76=s64",
      "userId": "07641202443553730242"
     },
     "user_tz": 480
    },
    "id": "3t9dSsv1FLrW",
    "outputId": "c026ef3d-d956-469b-9d27-19b45b976240"
   },
   "outputs": [],
   "source": [
    "article_text = \"A 34-year-old Chicago police officer has been shot in the shoulder during the execution of a search warrant in the Humboldt Park neighborhood, police say. The alleged shooter, a 19-year-old woman, was in custody. The shooting happened about 7:20 p.m. in the 2700 block of West Potomac Avenue, police said. The officer, part of the Grand Central District tactical unit, was taken to Stroger Hospital. While officers were serving a \\\"typical\\\" search warrant for \\\"narcotics and illegal weapons\\\" and were attempting to reach a rear door, \\\"a shot was fired,\\\" striking the tactical officer in the shoulder, said Chicago police Superintendent Eddie Johnson during a news briefing outside the hospital. He said the officer, who has about four or five years on the job, was \\\"stable\\\" but in critical condition. \\\"His family is here,\\\" Johnson said. \\\"He’s talking a lot and just wants the ordeal to be over.\\\" He said this incident serves as just another reminder of how dangerous a police officer’s job is. At the scene of the shooting, crime tape closed Potomac from Washtenaw Avenue to California Avenue and encompassed the alley west of the brick apartment building, south of Potomac. Dozens of officers stood in the alley, while even more walked up and down the street. Neighbors gathered at the edge of the yellow tape on the sidewalk along California and watched them work. Standing next to a man, a woman talked to police in the crime scene, across the street. \\\"We're not under arrest? We can go?\\\" the woman checked with officers. They told her she could go, and she and the man walked underneath the yellow tape and out of the crime scene.\"\n",
    "input_length = 400\n",
    "output_length = 100\n",
    "\n",
    "# Process the capitalization with the preprocess_capitalization of the capita package.\n",
    "article_text = capita.preprocess_capitalization(article_text)\n",
    "\n",
    "# Numerize the tokens of the processed text using the loaded sentencepiece model.\n",
    "numerized = sp.EncodeAsIds(article_text)\n",
    "# Pad the sequence and keep the mask of the input\n",
    "padded, mask = pad_sequence(numerized, pad_index, input_length)\n",
    "\n",
    "# Making the news article into a batch of size one, to be fed to the neural network.\n",
    "encoder_input = np.array([padded])\n",
    "encoder_mask = np.array([mask])\n",
    "\n",
    "decoded_so_far = [0]\n",
    "\n",
    "for j in range(output_length):\n",
    "    padded_decoder_input, decoder_mask = pad_sequence(decoded_so_far, pad_index, output_length)\n",
    "    padded_decoder_input = [padded_decoder_input]\n",
    "    decoder_mask = [decoder_mask]\n",
    "    print(\"========================\")\n",
    "    print(padded_decoder_input)\n",
    "    # Use the model to find the distrbution over the vocabulary for the next word\n",
    "    batch = (encoder_input,encoder_mask,padded_decoder_input,decoder_mask)\n",
    "    batch_input, batch_input_mask, batch_output, batch_output_mask = [th.tensor(tensor) for tensor in batch]\n",
    "    batch = {'source_sequence': batch_input, 'target_sequence': batch_output,\n",
    "            'encoder_mask': batch_input_mask, 'decoder_mask': batch_output_mask}\n",
    "    logits = trainer.model(**batch).cpu().detach().numpy()\n",
    "\n",
    "    chosen_words = np.argmax(logits, axis=2) # Take the argmax, getting the most likely next word\n",
    "    decoded_so_far.append(int(chosen_words[0, j])) # We add it to the summary so far\n",
    "\n",
    "\n",
    "print(\"The final summary:\")\n",
    "print(\"\".join([vocab[i] for i in decoded_so_far]).replace(\"▁\", \" \"))"
   ]
  },
  {
   "cell_type": "markdown",
   "metadata": {
    "id": "4cQee2cnFLrY"
   },
   "source": [
    "## Word vectors"
   ]
  },
  {
   "cell_type": "markdown",
   "metadata": {
    "id": "quAhOWx-FLrZ"
   },
   "source": [
    "The model we train learns word representations for each word in our vocabulary. A word represention is a vector of **dim** size.\n",
    "\n",
    "It is common in NLP to inspect the word vectors, as some properties of language often appear in the embedding structure.\n",
    "\n",
    "\n",
    "We are going to load the word embeddings learned by our model, and inspect it.\n",
    "Because our network was not trained for long, we are going for the simplest patterns, but if we let the network train longer, it learns more complex, semantic patterns."
   ]
  },
  {
   "cell_type": "code",
   "execution_count": null,
   "metadata": {
    "colab": {
     "base_uri": "https://localhost:8080/"
    },
    "executionInfo": {
     "elapsed": 338,
     "status": "ok",
     "timestamp": 1614491588891,
     "user": {
      "displayName": "Sean Chen",
      "photoUrl": "https://lh3.googleusercontent.com/a-/AOh14GjK8rkabs7CsaHjMrOJ7lF9JD8ld_9_f9SxLG76=s64",
      "userId": "07641202443553730242"
     },
     "user_tz": 480
    },
    "id": "Sny1RT7cFLrZ",
    "outputId": "07c2fb5a-0c57-4389-e1fc-be63bda66627"
   },
   "outputs": [],
   "source": [
    "# We help you load the matrix, as it is hidden within the Transformer structure.\n",
    "E = trainer.model.encoder.embedding_layer.embedding.weight.cpu().detach().numpy()\n",
    "\n",
    "print(\"The embedding matrix has shape:\", E.shape)\n",
    "print(\"The vocabulary has length:\", len(vocab))"
   ]
  },
  {
   "cell_type": "markdown",
   "metadata": {
    "id": "MR4SX887FLra"
   },
   "source": [
    "Pronouns serve very similar purposes, therefore we should expect the representation of \"he\" and \"she\" to be similar, and have cosine similarity.\n",
    "\n",
    "- **TODO**:  Find the cosine similarity between the vectors that represent words \"she\" and \"he\".\n",
    "- **TODO**:  Find the cosine similarity between the vectors that represent words \"more\" and \"less\".\n",
    "\n",
    "We can contrast that with the cosine similarity to a random, non-related word, like \"ball\", or \"gorilla\".\n",
    "- **TODO**: Compute the cosine similarity between \"she\" and \"ball\".\n",
    "- **TODO**: Compute the cosine similarity between \"more\" and \"protest\".\n",
    "\n"
   ]
  },
  {
   "cell_type": "code",
   "execution_count": null,
   "metadata": {
    "colab": {
     "base_uri": "https://localhost:8080/"
    },
    "executionInfo": {
     "elapsed": 334,
     "status": "ok",
     "timestamp": 1614491589989,
     "user": {
      "displayName": "Sean Chen",
      "photoUrl": "https://lh3.googleusercontent.com/a-/AOh14GjK8rkabs7CsaHjMrOJ7lF9JD8ld_9_f9SxLG76=s64",
      "userId": "07641202443553730242"
     },
     "user_tz": 480
    },
    "id": "4wR1tDGMFLrb",
    "outputId": "528c5e6b-d46f-455b-a3f1-18ca5a98a7c7"
   },
   "outputs": [],
   "source": [
    "def cosine_sim(v1, v2):\n",
    "    # TODO: Implement the cosine similarity of 2 vectors. Careful: the words might not have unit norm.\n",
    "    return your_code\n",
    "\n",
    "for w1, w2 in [(\"she\", \"he\"), (\"more\", \"less\"), (\"she\", \"ball\"), (\"more\", \"gorilla\")]:\n",
    "    w1_index = vocab.index('▁'+w1) # The index of the first  word in our vocabulary\n",
    "    w2_index = vocab.index('▁'+w2) # The index of the second word in our vocabulary\n",
    "    w1_vec = E[w1_index] # Get the embedding vector of the first  word\n",
    "    w2_vec = E[w2_index] # Get the embedding vector of the second word\n",
    "    \n",
    "    print(w1,\" vs. \", w2, \"similarity:\",cosine_sim(w1_vec, w2_vec))\n",
    "validate_to_array(lambda f,i: (f(*i),i), (cosine_sim,tuple(20*np.random.random((2,1000))-1)),'cosine_sim') "
   ]
  },
  {
   "cell_type": "markdown",
   "metadata": {
    "id": "5kJaau6wFLrc"
   },
   "source": [
    "These effects are unfortunately small, as we have only trained the network on a few hours on a few thousand articles.\n",
    "However, the same model trained for longer on more data exhibits many interesting semantic and syntactic patterns, such as:\n",
    "\n",
    "- Words vectors with high cosine similarity usually represent words that have semantic similarity (such as duck and pigeon)\n",
    "- Analogies can occur, a famous case is that of: woman - man + king ≈ queen. Or france - paris + rome ≈ italy.\n",
    "\n",
    "- Looking at top-k similar words can help find synonyms.\n",
    "\n",
    "To read examples of more complex patterns that appear in word embedding spaces, read [this blog](https://explosion.ai/blog/sense2vec-with-spacy). To play with a live demo and try similarities on rich word embeddings, [go here.](https://explosion.ai/demos/sense2vec)"
   ]
  },
  {
   "cell_type": "code",
   "execution_count": null,
   "metadata": {
    "id": "lHxM8eDmFLrd"
   },
   "outputs": [],
   "source": []
  }
 ],
 "metadata": {
  "accelerator": "GPU",
  "anaconda-cloud": {},
  "colab": {
   "collapsed_sections": [],
   "name": "2 Summarization.ipynb",
   "provenance": [],
   "toc_visible": true
  },
  "kernelspec": {
   "display_name": "Python 3",
   "language": "python",
   "name": "python3"
  },
  "language_info": {
   "codemirror_mode": {
    "name": "ipython",
    "version": 3
   },
   "file_extension": ".py",
   "mimetype": "text/x-python",
   "name": "python",
   "nbconvert_exporter": "python",
   "pygments_lexer": "ipython3",
   "version": "3.8.5"
  }
 },
 "nbformat": 4,
 "nbformat_minor": 1
}
