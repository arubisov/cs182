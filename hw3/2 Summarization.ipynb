{
  "cells": [
    {
      "cell_type": "markdown",
      "metadata": {
        "id": "Lvk67QawFLp4"
      },
      "source": [
        "# Introduction"
      ]
    },
    {
      "cell_type": "markdown",
      "metadata": {
        "id": "w9k8OvG5FLqU"
      },
      "source": [
        "In this assignment, you are going to train a neural network to summarize news articles.\n",
        "Your neural network is going to learn from example, as we provide you with (article, summary) pairs.\n",
        "We provide you with a **toy dataset** made of only articles about police related news.\n",
        "Usual datasets can be 20x larger in size, but we have reduced it for computational purposes.\n",
        "\n",
        "You will do this using a Transformer network, from the [Attention Is All You Need](https://arxiv.org/pdf/1706.03762.pdf) paper.\n",
        "In this assignment you will:\n",
        "- Learn to process text into sub-word tokens, to avoid fixed vocabulary sizes, and UNK tokens.\n",
        "- Implement the key conceptual blocks of a Transformer.\n",
        "- Use a Transformer to read a news article, and produce a summary.\n",
        "- Perform operations on learned word-vectors to examine what the model has learned.\n",
        "\n",
        "**Before you start**\n",
        "\n",
        "You should read the Attention Is All You Need paper.  \n",
        "We are providing you with skeleton code for the Transformer, but you will implement 5 conceptual blocks of the transformer yourself:\n",
        "- AttentionQKV: the Query, Key, Value attention mechanism at the center of the Transformer\n",
        "- MultiHeadAttention: the multiple heads that enable each input to attend at many places at once.\n",
        "- PositionEmbedding: the sinusoid-based position embedding of the Transformer.\n",
        "- Encoder & Decoder: The encoder (that reads inputs, such as news articles), the decoder (that produces the output summary, one token at a time)\n",
        "- Full Transformer: piecing it all together."
      ]
    },
    {
      "cell_type": "markdown",
      "metadata": {
        "id": "fJVenhu9FLqX"
      },
      "source": [
        "All dataset files should be placed in the `dataset/` folder of this assignment.\n",
        "\n",
        "If you are using Google Colab, follow the instructions to mount your Google Drive onto the remote machine."
      ]
    },
    {
      "cell_type": "markdown",
      "metadata": {
        "id": "LLzv6ksIFLqZ"
      },
      "source": [
        "# Library imports"
      ]
    },
    {
      "cell_type": "code",
      "execution_count": 3,
      "metadata": {
        "colab": {
          "base_uri": "https://localhost:8080/"
        },
        "id": "IdFfsm8rI5ZG",
        "outputId": "31cfe3ba-f131-4afc-dcb0-88f69b586739"
      },
      "outputs": [
        {
          "output_type": "stream",
          "name": "stdout",
          "text": [
            "Collecting segtok\n",
            "  Downloading segtok-1.5.11-py3-none-any.whl (24 kB)\n",
            "Requirement already satisfied: regex in /usr/local/lib/python3.10/dist-packages (from segtok) (2023.6.3)\n",
            "Installing collected packages: segtok\n",
            "Successfully installed segtok-1.5.11\n",
            "Collecting sentencepiece\n",
            "  Downloading sentencepiece-0.1.99-cp310-cp310-manylinux_2_17_x86_64.manylinux2014_x86_64.whl (1.3 MB)\n",
            "\u001b[2K     \u001b[90m━━━━━━━━━━━━━━━━━━━━━━━━━━━━━━━━━━━━━━━━\u001b[0m \u001b[32m1.3/1.3 MB\u001b[0m \u001b[31m13.7 MB/s\u001b[0m eta \u001b[36m0:00:00\u001b[0m\n",
            "\u001b[?25hInstalling collected packages: sentencepiece\n",
            "Successfully installed sentencepiece-0.1.99\n"
          ]
        }
      ],
      "source": [
        "!pip install segtok\n",
        "!pip install sentencepiece"
      ]
    },
    {
      "cell_type": "markdown",
      "metadata": {
        "id": "e-U41i2iQgUw"
      },
      "source": [
        "Run the first of the following two cells if you are running the homework locally, and run the second cell if you are running the homework in Colab"
      ]
    },
    {
      "cell_type": "code",
      "execution_count": 1,
      "metadata": {
        "id": "DR41LTbJQgUx",
        "outputId": "2236300a-b0cc-4114-e3db-b54f5bd3cab1",
        "colab": {
          "base_uri": "https://localhost:8080/"
        }
      },
      "outputs": [
        {
          "output_type": "stream",
          "name": "stdout",
          "text": [
            "Mounted at /content/drive\n",
            "Running on Colab\n"
          ]
        }
      ],
      "source": [
        "import sys\n",
        "\n",
        "if 'google.colab' in sys.modules:\n",
        "    from google.colab import drive\n",
        "    drive.mount('/content/drive')\n",
        "    root_folder = \"/content/drive/My Drive/cs182_hw3_anton/\"\n",
        "    public_folder = \"/content/drive/My Drive/cs182_hw3_public/\"\n",
        "    dataset_folder = \"/content/drive/My Drive/cs182_hw3_public/dataset/\"\n",
        "    print('Running on Colab')\n",
        "else:\n",
        "    DRIVE=False\n",
        "    root_folder = \"\"\n",
        "    public_folder = \"\"\n",
        "    dataset_folder = \"dataset/\"\n",
        "    print('Running on localhost')"
      ]
    },
    {
      "cell_type": "code",
      "execution_count": 4,
      "metadata": {
        "colab": {
          "base_uri": "https://localhost:8080/"
        },
        "id": "hVY5twBBFLqe",
        "outputId": "5233df4b-20d8-49d0-99cf-b97755d786c0"
      },
      "outputs": [
        {
          "output_type": "stream",
          "name": "stdout",
          "text": [
            "cpu\n"
          ]
        }
      ],
      "source": [
        "import os\n",
        "import sys\n",
        "sys.path.append(root_folder)\n",
        "from transformer import Transformer\n",
        "import sentencepiece as spm\n",
        "import torch\n",
        "from torch import nn\n",
        "from torch.nn import functional as F\n",
        "from torch import optim\n",
        "import numpy as np\n",
        "import json\n",
        "import capita\n",
        "import os\n",
        "from transformer_utils import set_device\n",
        "import gc\n",
        "from utils import validate_to_array, model_out_to_list\n",
        "\n",
        "device = torch.device(\"cuda\" if torch.cuda.is_available() else \"cpu\")\n",
        "print(device)\n",
        "set_device(device)\n",
        "\n",
        "list_to_device = lambda torch_obj: [tensor.to(device) for tensor in torch_obj]\n",
        "\n",
        "# This cell autoreloads the notebook when you change you python file code.\n",
        "# If you think the notebook did not reload, rerun this cell.\n",
        "%load_ext autoreload\n",
        "%autoreload 2"
      ]
    },
    {
      "cell_type": "code",
      "execution_count": 5,
      "metadata": {
        "id": "1IDVCg83FLqi"
      },
      "outputs": [],
      "source": [
        "# Load the word piece model that will be used to tokenize the texts into\n",
        "# word pieces with a vocabulary size of 10000\n",
        "sp = spm.SentencePieceProcessor()\n",
        "sp.Load(dataset_folder+\"wp_vocab10000.model\")\n",
        "\n",
        "vocab = [line.split('\\t')[0] for line in open(dataset_folder+\"wp_vocab10000.vocab\", \"r\")]\n",
        "pad_index = vocab.index('#')\n",
        "\n",
        "def pad_sequence(numerized, pad_index, to_length):\n",
        "    pad = numerized[:to_length]\n",
        "    padded = pad + [pad_index] * (to_length - len(pad))\n",
        "    mask = [w != pad_index for w in padded]\n",
        "    return padded, mask"
      ]
    },
    {
      "cell_type": "markdown",
      "metadata": {
        "id": "591lVK1BFLqk"
      },
      "source": [
        "# Building blocks of a Transformer\n"
      ]
    },
    {
      "cell_type": "markdown",
      "metadata": {
        "id": "Ekya1G4qFLqm"
      },
      "source": [
        "**TODO**:\n",
        "\n",
        "Implement the 5 blocks of the Transformer. In order to finish this section, you should get very small error <1e-7 on each of the 5 checks in this section.\n",
        "\n",
        "\n",
        "The Transformer is split into 3 files: transformer_attention.py, transformer_utils.py and transformer.py\n",
        "\n",
        "Each section below gives you directions and a way to verify your code works properly.\n",
        "\n",
        "You do not need to modify the rest of the code provided, but should read it to understand overall architecture.\n",
        "\n",
        "Our Transformer is built as a Pytorch model, a standard that is good for you to get accustomed to.\n",
        "\n"
      ]
    },
    {
      "cell_type": "markdown",
      "metadata": {
        "id": "bG8RDjwKFLqo"
      },
      "source": [
        "## (1) Implementing the Query-Key-Value Attention (AttentionQKV)"
      ]
    },
    {
      "cell_type": "markdown",
      "metadata": {
        "id": "WurZuO8eFLqp"
      },
      "source": [
        "Finish implementing the AttentionQKV class in `transformer_attention.py`. Specifically, you must implement the `forward` function of the class using the mathematical procedure described in the [Attention Is All You Need](https://arxiv.org/pdf/1706.03762.pdf)."
      ]
    },
    {
      "cell_type": "code",
      "execution_count": 21,
      "metadata": {
        "colab": {
          "base_uri": "https://localhost:8080/"
        },
        "id": "kjrFRxw3FLqr",
        "outputId": "9ad4eaf1-032e-4dc0-abe3-a2d1d8888b1a"
      },
      "outputs": [
        {
          "output_type": "stream",
          "name": "stdout",
          "text": [
            "Total error on the output: 3.2782554626464844e-07 (should be 0.0 or close to 0.0)\n",
            "Total error on the weights: 1.816079020500183e-07 (should be 0.0 or close to 0.0)\n"
          ]
        }
      ],
      "source": [
        "from transformer_attention import AttentionQKV\n",
        "\n",
        "batch_size = 2;\n",
        "n_queries = 3;\n",
        "n_keyval = 5;\n",
        "depth_k = 2;\n",
        "depth_v = 2\n",
        "\n",
        "with open(public_folder+\"transformer_checks/attention_qkv_io.json\", \"r\") as f:\n",
        "    io = json.load(f)\n",
        "    queries = torch.tensor(io['queries'])\n",
        "    keys = torch.tensor(io['keys'])\n",
        "    values = torch.tensor(io['values'])\n",
        "    expected_output  = torch.tensor(io['output'])\n",
        "    expected_weights = torch.tensor(io['weights'])\n",
        "\n",
        "attn_qkv = AttentionQKV()\n",
        "output, weights = attn_qkv(queries, keys, values)\n",
        "\n",
        "print(\"Total error on the output:\",torch.sum(torch.abs(expected_output-output)).item(), \"(should be 0.0 or close to 0.0)\")\n",
        "print(\"Total error on the weights:\",torch.sum(torch.abs(expected_weights-weights)).item(), \"(should be 0.0 or close to 0.0)\")"
      ]
    },
    {
      "cell_type": "markdown",
      "metadata": {
        "id": "WvgZcum5FLqu"
      },
      "source": [
        "## (2) Implementing Multi-head attention"
      ]
    },
    {
      "cell_type": "markdown",
      "metadata": {
        "id": "puN9fYvyFLqu"
      },
      "source": [
        "Finish implementing the MultiHeadProjection class in `transformer_attention.py`. You must implement the `forward` call, `_split_heads`, and `_combine_heads` functions. Leverage the AttentionQKV class you already wrote.\n",
        "\n",
        "Your input are the queries, keys, values as 3-d tensors (batch_size, sequence_length, feature_size). Split them into 4-d tensors (batch_size, n_heads, sequence_length, new_feature_size) where $feature\\_size = n\\_heads * new\\_feature\\_size$. You can then feed the split qkv to your implemented AttentionQKV, which will treat each head as an independent attention function. Then the output must be combined back into a 3-d tensor.  \n",
        "\n",
        "You can test the validity of your implementation in the cell below."
      ]
    },
    {
      "cell_type": "code",
      "execution_count": 23,
      "metadata": {
        "colab": {
          "base_uri": "https://localhost:8080/"
        },
        "id": "nZPz8ux1FLqw",
        "outputId": "15552931-4dac-42de-ae01-96b7f54fc92e"
      },
      "outputs": [
        {
          "output_type": "stream",
          "name": "stdout",
          "text": [
            "Total error on the output: 1.407228410243988e-06 (should be 0.0 or close to 0.0)\n"
          ]
        }
      ],
      "source": [
        "from transformer_attention import MultiHeadProjection\n",
        "\n",
        "batch_size = 2;\n",
        "n_queries = 3;\n",
        "n_heads = 4\n",
        "n_keyval = 5;\n",
        "depth_k = 8;\n",
        "depth_v = 8;\n",
        "\n",
        "with open(public_folder+\"transformer_checks/multihead_io.json\", \"r\") as f:\n",
        "    io = json.load(f)\n",
        "    queries = torch.tensor(io['queries'])\n",
        "    keys = torch.tensor(io['keys'])\n",
        "    values = torch.tensor(io['values'])\n",
        "    expected_output  = torch.tensor(io['output'])\n",
        "\n",
        "mhp = MultiHeadProjection(n_heads, (depth_k,depth_v))\n",
        "multihead_output = mhp((queries, keys, values))\n",
        "\n",
        "print(\"Total error on the output:\",torch.sum(torch.abs(expected_output-multihead_output)).item(), \"(should be 0.0 or close to 0.0)\")"
      ]
    },
    {
      "cell_type": "markdown",
      "metadata": {
        "id": "ZGU6SQ2RFLqz"
      },
      "source": [
        "## (3) Position Embedding"
      ]
    },
    {
      "cell_type": "markdown",
      "metadata": {
        "id": "W_MEJtfTFLq0"
      },
      "source": [
        "Implement the FeedForward and PositionEmbedding classes in `transformer.py`.\n",
        "\n",
        "You can test the validity of your implementation in the cell below."
      ]
    },
    {
      "cell_type": "code",
      "execution_count": 24,
      "metadata": {
        "id": "-VBSadNmQgU6"
      },
      "outputs": [],
      "source": [
        "# wrapping my head around how this code works...\n",
        "\n",
        "d_model = 512\n",
        "\n",
        "seq_pos = torch.arange(1, 10 + 1, dtype=torch.float32)\n",
        "seq_pos_expanded = seq_pos[None,:,None]\n",
        "index = seq_pos_expanded.repeat(*[1,1,d_model//2])\n",
        "assert index.shape == (1, 10, d_model//2)\n",
        "\n",
        "power = torch.arange(0, d_model, step=2, dtype=torch.float32)[:] / d_model\n",
        "divisor = 10000 ** power\n",
        "assert divisor.shape == (d_model // 2,)\n",
        "\n",
        "assert (index / divisor).shape == index.shape\n",
        "assert (index / divisor)[0,1,0] == 2*(index * divisor)[0,0,0]"
      ]
    },
    {
      "cell_type": "code",
      "execution_count": 26,
      "metadata": {
        "colab": {
          "base_uri": "https://localhost:8080/"
        },
        "id": "AyKCvdAnFLq1",
        "outputId": "de6214e3-8332-47e6-bfde-6d1d522e1c9e"
      },
      "outputs": [
        {
          "output_type": "stream",
          "name": "stdout",
          "text": [
            "Total error on the output: 2.980232238769531e-07 (should be 0.0 or close to 0.0)\n"
          ]
        }
      ],
      "source": [
        "from transformer import PositionEmbedding\n",
        "\n",
        "batch_size = 2;\n",
        "sequence_length = 3;\n",
        "dim = 4;\n",
        "\n",
        "with open(public_folder+\"transformer_checks/position_embedding_io.json\", \"r\") as f:\n",
        "    io = json.load(f)\n",
        "    inputs = torch.tensor(io['inputs'])\n",
        "    expected_output  = torch.tensor(io['output'])\n",
        "\n",
        "pos_emb = PositionEmbedding(dim)\n",
        "(inputs,expected_output,pos_emb) = list_to_device((inputs,expected_output,pos_emb))\n",
        "output_t = pos_emb(inputs)\n",
        "\n",
        "print(\"Total error on the output:\",torch.sum(torch.abs(expected_output-output_t)).item(), \"(should be 0.0 or close to 0.0)\")"
      ]
    },
    {
      "cell_type": "markdown",
      "metadata": {
        "id": "ZpmSj3lKFLq3"
      },
      "source": [
        "## (4) Transformer Encoder / Transformer Decoder"
      ]
    },
    {
      "cell_type": "markdown",
      "metadata": {
        "id": "k_OPPPkQFLq4"
      },
      "source": [
        "You now have all the blocks needed to implement the Transformer.\n",
        "For this part, you have to fill in 2 classes in the transformer.py file: TransformerEncoderBlock, TransformerDecoderBlock.\n",
        "\n",
        "The code below will verify the accuracy of each block"
      ]
    },
    {
      "cell_type": "code",
      "execution_count": 27,
      "metadata": {
        "colab": {
          "base_uri": "https://localhost:8080/"
        },
        "id": "-eTL20vGFLq5",
        "outputId": "1bc4ea00-b4de-44a8-94f1-47c27610628f"
      },
      "outputs": [
        {
          "output_type": "stream",
          "name": "stdout",
          "text": [
            "Total error on the output: 4.999339580535889e-06 (should be 0.0 or close to 0.0)\n"
          ]
        }
      ],
      "source": [
        "from transformer import TransformerEncoderBlock\n",
        "\n",
        "batch_size = 2\n",
        "sequence_length = 5\n",
        "hidden_size = 6\n",
        "filter_size = 12\n",
        "n_heads = 2\n",
        "\n",
        "with open(public_folder+\"transformer_checks/transformer_encoder_block_io_new.json\", \"r\") as f:\n",
        "    io = json.load(f)\n",
        "    inputs = torch.tensor(io['inputs'])\n",
        "    expected_output = torch.tensor(io['output'])\n",
        "\n",
        "enc_block = TransformerEncoderBlock(input_size=6,\n",
        "                                    n_heads=n_heads,\n",
        "                                    filter_size=filter_size,\n",
        "                                    hidden_size=hidden_size)\n",
        "enc_block.load_state_dict(torch.load(public_folder+\"transformer_checks/transformer_encoder_block\"))\n",
        "\n",
        "inputs, expected_output, enc_block = list_to_device((inputs,expected_output,enc_block))\n",
        "output_t = enc_block(inputs)\n",
        "\n",
        "print(\"Total error on the output:\",torch.sum(torch.abs(expected_output-output_t)).item(), \"(should be 0.0 or close to 0.0)\")"
      ]
    },
    {
      "cell_type": "code",
      "execution_count": 29,
      "metadata": {
        "colab": {
          "base_uri": "https://localhost:8080/"
        },
        "id": "tdyhiZtsFLq7",
        "outputId": "cf34f072-6e14-4060-d0b9-f6bd46225600"
      },
      "outputs": [
        {
          "output_type": "stream",
          "name": "stdout",
          "text": [
            "Total error on the output: 3.2186508178710938e-06 (should be 0.0 or close to 0.0)\n"
          ]
        }
      ],
      "source": [
        "from transformer import TransformerDecoderBlock\n",
        "batch_size = 2\n",
        "encoder_length = 5\n",
        "decoder_length = 3\n",
        "hidden_size = 6\n",
        "filter_size = 12\n",
        "n_heads = 2\n",
        "\n",
        "with open(public_folder+\"transformer_checks/transformer_decoder_block_io_new.json\", \"r\") as f:\n",
        "    io = json.load(f)\n",
        "    decoder_inputs = torch.tensor(io['decoder_inputs'])\n",
        "    encoder_output = torch.tensor(io['encoder_output'])\n",
        "    expected_output = torch.tensor(io['output'])\n",
        "\n",
        "dec_block = TransformerDecoderBlock(input_size=6,\n",
        "                                    n_heads=n_heads,\n",
        "                                    filter_size=filter_size,\n",
        "                                    hidden_size=hidden_size)\n",
        "\n",
        "# Added by Anton for compatibility with poor quality variable names\n",
        "old_state_dict = torch.load(public_folder+\"transformer_checks/transformer_decoder_block\")\n",
        "update = {'cross_norm_source.weight': 'cross_norm_encoder.weight',\n",
        "          'cross_norm_source.bias':   'cross_norm_encoder.bias',\n",
        "          'cross_norm_target.weight': 'cross_norm_decoder.weight',\n",
        "          'cross_norm_target.bias':   'cross_norm_decoder.bias'}\n",
        "state_dict = {update[k] if k in update.keys() else k: v for k, v in old_state_dict.items()}\n",
        "\n",
        "dec_block.load_state_dict(state_dict)\n",
        "\n",
        "decoder_inputs, encoder_output, expected_output, dec_block = list_to_device((decoder_inputs,encoder_output,expected_output,dec_block))\n",
        "output_t = dec_block(decoder_inputs, encoder_output)\n",
        "\n",
        "print(\"Total error on the output:\",torch.sum(torch.abs(expected_output-output_t)).item(), \"(should be 0.0 or close to 0.0)\")"
      ]
    },
    {
      "cell_type": "markdown",
      "metadata": {
        "id": "FzuLYetAFLq9"
      },
      "source": [
        "## (5) Transformer"
      ]
    },
    {
      "cell_type": "markdown",
      "metadata": {
        "id": "j4yTgzFzFLq_"
      },
      "source": [
        "This is the final high-level function that pieces it all together.\n",
        "\n",
        "You have to implement the call function of the Transformer class in the `transformer.py` file.\n",
        "\n",
        "The block below verifies your implementation is correct."
      ]
    },
    {
      "cell_type": "code",
      "execution_count": 30,
      "metadata": {
        "colab": {
          "base_uri": "https://localhost:8080/"
        },
        "id": "5QHb6nyeFLrB",
        "outputId": "7b3c7e8f-db4b-437d-ade8-9387da574e26"
      },
      "outputs": [
        {
          "output_type": "stream",
          "name": "stdout",
          "text": [
            "Total error on the output: 5.602836608886719e-05 (should be 0.0 or close to 0.0)\n"
          ]
        }
      ],
      "source": [
        "from transformer import Transformer\n",
        "\n",
        "batch_size = 2\n",
        "vocab_size = 11\n",
        "n_layers = 3\n",
        "n_heads = 4\n",
        "d_model = 8\n",
        "d_filter = 16\n",
        "input_length = 5\n",
        "output_length = 3\n",
        "\n",
        "with open(public_folder+\"transformer_checks/transformer_io_new.json\", \"r\") as f:\n",
        "    io = json.load(f)\n",
        "    enc_input = torch.tensor(io['enc_input'])\n",
        "    dec_input = torch.tensor(io['dec_input'])\n",
        "    enc_mask = torch.tensor(io['enc_mask'])\n",
        "    dec_mask = torch.tensor(io['dec_mask'])\n",
        "    expected_output = torch.tensor(io['output'])\n",
        "\n",
        "transformer = Transformer(vocab_size=vocab_size, n_layers=n_layers, n_heads=n_heads, d_model=d_model, d_filter=d_filter)\n",
        "old_state_dict = torch.load(public_folder+\"transformer_checks/transformer\")\n",
        "state_dict = {k.replace('cross_norm_source', 'cross_norm_encoder').replace('cross_norm_target', 'cross_norm_decoder'): v\n",
        "              for k, v in old_state_dict.items()}\n",
        "transformer.load_state_dict(state_dict)\n",
        "\n",
        "(enc_input,dec_input,enc_mask,dec_mask,expected_output,transformer) \\\n",
        "    = list_to_device((enc_input,dec_input,enc_mask,dec_mask,expected_output,transformer))\n",
        "output_t = transformer(enc_input, target_sequence=dec_input, encoder_mask=enc_mask, decoder_mask=dec_mask)\n",
        "\n",
        "print(\"Total error on the output:\",torch.sum(torch.abs(expected_output-output_t)).item(), \"(should be 0.0 or close to 0.0)\")"
      ]
    },
    {
      "cell_type": "markdown",
      "metadata": {
        "id": "6usohlnXFLrD"
      },
      "source": [
        "# Training the model"
      ]
    },
    {
      "cell_type": "markdown",
      "metadata": {
        "id": "6pukC3qFFLrF"
      },
      "source": [
        "Your objective is to train the Language on the dataset you are provided to reach a **validation loss <= 6.50**\n",
        "\n",
        "Careful: we will be testing this loss on an unreleased test set, so make sure to evaluate properly on a validation set and not overfit.\n",
        "\n",
        "You must save the model you want us to test under: models/final_transformer_summarization (the .index, .meta and .data files)\n",
        "\n",
        "**Advice**:\n",
        "- It should be possible to attain validation loss <= 6.50 with the model dimensions we've specified (n_layers=6, d_model=104, d_filter=416), but you can tune these hyperparameters. Increasing d_model will yield better model, at the cost of longer training time.\n",
        "- You should try tuning the learning rate, as well as what optimizer you use.\n",
        "- You might need to train for a few (up to 2 hours) to obtain our expected loss. Remember to tune your hyperparameters first, once you find ones that work well, let it train for longer.\n",
        "\n",
        "**Dataset**: as in the previous notebook, make sure the dataset files are in the `dataset` folder. These can be found on the Google Drive.\n"
      ]
    },
    {
      "cell_type": "code",
      "execution_count": 14,
      "metadata": {
        "colab": {
          "base_uri": "https://localhost:8080/"
        },
        "id": "60AayLbxFLrH",
        "outputId": "ccf00995-7518-4bd7-9651-455de6d8a372"
      },
      "outputs": [
        {
          "output_type": "execute_result",
          "data": {
            "text/plain": [
              "(61055, 1558)"
            ]
          },
          "metadata": {},
          "execution_count": 14
        }
      ],
      "source": [
        "with open(dataset_folder+\"summarization_dataset_preprocessed.json\", \"r\") as f:\n",
        "    dataset = json.load(f)\n",
        "\n",
        "# We load the dataset, and split it into 2 sub-datasets based on if they are training or validation.\n",
        "# Feel free to split this dataset another way, but remember, a validation set is important, to have an idea of\n",
        "# the amount of overfitting that has occurred!\n",
        "\n",
        "d_train = [d for d in dataset if d['cut'] == 'training']\n",
        "d_valid = [d for d in dataset if d['cut'] == 'evaluation']\n",
        "\n",
        "len(d_train), len(d_valid)"
      ]
    },
    {
      "cell_type": "code",
      "execution_count": 32,
      "metadata": {
        "colab": {
          "base_uri": "https://localhost:8080/"
        },
        "id": "DSNmSXaxFLrI",
        "outputId": "144be09a-a093-42ad-a653-93063a2d193f"
      },
      "outputs": [
        {
          "output_type": "stream",
          "name": "stdout",
          "text": [
            "Tbilisi, Georgia (CNN)Police have shot and killed a white tiger that killed a man Wednesday in Tbilisi, Georgia, a Ministry of Internal Affairs representative said, after severe flooding allowed hundreds of wild animals to escape the city zoo. \n",
            "The tiger attack happened at a warehouse in the city center. The animal had been unaccounted for since the weekend floods destroyed the zoo premises.\n",
            "The man killed, who was 43, worked in a company based in the warehouse, the Ministry of Internal Affairs said. Doctors said he was attacked in the throat and died before reaching the hospital. \n",
            "Experts are still searching the warehouse, the ministry said, adding that earlier reports that the tiger had injured a second man were unfounded. \n",
            "The zoo administration said Wednesday that another tiger was still missing. It was unable to confirm if the creature was dead or had escaped alive.\n",
            "Georgian Prime Minister Irakli Garibashvili apologized to the public, saying he had been misinformed by the zoo's management when he'd previously said there were no more dangerous animals on the run.\n",
            "City residents were urged to stay indoors for their own safety in the immediate aftermath of the floods. Volunteers have since been helping city workers with the cleanup operation.\n",
            "At least 19 people died in the flooding, according to Civil Georgia, a news website run by the nongovernmental organization United Nations Association of Georgia. Six more remained missing, it said Tuesday, citing the State Security and Crisis Management Council.\n",
            "Meanwhile, the zoo lost about half of its 600 animals, including lions, tigers, bears and wolves, in the natural disaster. \n",
            "Some animals have since been recaptured, Civil Georgia reported. Others died in the floods or have been killed by police as they scour the streets for escapees.\n",
            "Russian state news outlet RT.com  that an African penguin had made it 60 kilometers (37 miles) downriver from Tbilisi before being caught alive in a dragnet on the border with Azerbaijan. \n",
            "Video from the city showed a large crocodile being restrained by rescuers, as well as a hippopotamus standing in floodwaters, looking confused.\n",
            "The latter was eventually cornered in a city square before being tranquilized and recaptured.\n",
            "One terrified bear escaped the flood by perching on a window ledge.\n",
            "Video footage also showed devastation across swaths of the Georgian capital, where flash floods swept away roads, at least one house and many trees. The corpses of dead animals could be seen amid the wreckage.\n",
            "The problems began before midnight Saturday when heavy rainfall turned the Vere River, usually little more than a stream through the center of Tbilisi, into a raging torrent, according to Civil Georgia.\n",
            "Images on Tbilisi City Hall's Facebook page showed roads washed out, hillsides collapsed and vehicles tossed about like toys. Rescue workers carried people on their shoulders through waist-high water.\n",
            "Garibashvili extended his condolences Tuesday to the families of those killed in the flooding.\n",
            "He also proposed the creation of a park in the zoo premises to honor those lost. \"It will be a park of solidarity, a symbol of our unity, selflessness, and mutual support,\" he said in a statement on his website.\n",
            "President Georgi Margvelashvili earlier said the capital's mayoral office would help those who had lost out financially as a result of the floods.\n",
            "\"The situation is difficult, but it can be handled except for the fact that we cannot bring back those who died,\" he said.\n",
            "According to the World Wildlife Fund, as few as 3,200 tigers exist in the wild today.\n",
            "\n",
            "Journalist Eka Kadagishvili reported from Tbilisi, and Laura Smith-Spark wrote from London. CNN's Kimberly Hutcherson contributed to this report.\n",
            "=======================\n",
            "=======================\n",
            "Police have shot dead a tiger that killed a man in Tbilisi, Georgia, a government official says, after zoo animals escaped in weekend flooding.\n"
          ]
        }
      ],
      "source": [
        "# An example (article, summary) pair in the training data:\n",
        "\n",
        "print(d_train[145]['story'])\n",
        "print(\"=======================\\n=======================\")\n",
        "print(d_train[145]['summary'])"
      ]
    },
    {
      "cell_type": "markdown",
      "metadata": {
        "id": "CRRN1hJfFLrJ"
      },
      "source": [
        "Similarly to the previous assignment, we create a function to get a random batch to train on, given a dataset."
      ]
    },
    {
      "cell_type": "code",
      "execution_count": 12,
      "metadata": {
        "id": "3OLRb5bWFLrK"
      },
      "outputs": [],
      "source": [
        "def build_batch(dataset, batch_size):\n",
        "    \"\"\"Create a random minibatch from the dataset\"\"\"\n",
        "\n",
        "    indices = list(np.random.randint(0, len(dataset), size=batch_size))\n",
        "\n",
        "    batch = [dataset[i] for i in indices]\n",
        "    batch_input = np.array([a['input'] for a in batch])\n",
        "    batch_input_mask = np.array([a['input_mask'] for a in batch])\n",
        "    batch_output = np.array([a['output'] for a in batch])\n",
        "    batch_output_mask = np.array([a['output_mask'] for a in batch])\n",
        "\n",
        "    return batch_input, batch_input_mask, batch_output, batch_output_mask\n",
        "\n",
        "\n",
        "def get_minibatch(dataset, batch_size):\n",
        "    \"\"\"Return minibatch in dictionary format, loaded to device\"\"\"\n",
        "\n",
        "    batch = build_batch(dataset, batch_size)\n",
        "    # Build the dict connecting placeholders and mini-batch\n",
        "    batch_input, batch_input_mask, batch_output, batch_output_mask = [torch.tensor(tensor) for tensor in batch]\n",
        "    batch_input, batch_input_mask, batch_output, batch_output_mask \\\n",
        "                = list_to_device([batch_input, batch_input_mask, batch_output, batch_output_mask])\n",
        "    batch = {'source_sequence': batch_input, 'target_sequence': batch_output,\n",
        "            'encoder_mask': batch_input_mask, 'decoder_mask': batch_output_mask}\n",
        "    return batch"
      ]
    },
    {
      "cell_type": "markdown",
      "metadata": {
        "id": "T4aVeGB-FLrL"
      },
      "source": [
        "We now instantiate the Transformer with our sets of hyperparameters specific to the task of summarization.\n",
        "In summarization, we are going to go from documents with up to 400 words, to documents with up to 100 words.\n",
        "The vocabulary size is set for you, and is of 10,000 words (we are using WordPieces, [here is a paper about subword encoding](http://aclweb.org/anthology/P18-1007), if you are interested)."
      ]
    },
    {
      "cell_type": "code",
      "execution_count": 19,
      "metadata": {
        "id": "61JXS8xNFLrL"
      },
      "outputs": [],
      "source": [
        "# Use this trainer to train a Transformer model\n",
        "\n",
        "class TransformerTrainer(nn.Module):\n",
        "    def __init__(self, model, optimizer):\n",
        "        super().__init__()\n",
        "\n",
        "        self.model = model\n",
        "        self.optimizer = optimizer\n",
        "\n",
        "        # Summarization loss\n",
        "        criterion = nn.CrossEntropyLoss(reduce='none')\n",
        "        self.loss_fn = lambda pred, target, mask: (criterion(pred.permute(0,2,1), target)*mask).sum()/mask.sum()\n",
        "\n",
        "\n",
        "    def forward(self, batch, optimize=True):\n",
        "        pred_logits = self.model(**batch)\n",
        "        target, mask = batch['target_sequence'], batch['decoder_mask']\n",
        "        loss = self.loss_fn(pred_logits, target, mask)\n",
        "        accuracy = (torch.eq(pred_logits.argmax(dim=2, keepdim=False), target).float()*mask).sum()/mask.sum()\n",
        "\n",
        "        if optimize:\n",
        "            self.optimizer.zero_grad()\n",
        "            loss.backward()\n",
        "            self.optimizer.step()\n",
        "\n",
        "        return loss, accuracy"
      ]
    },
    {
      "cell_type": "code",
      "execution_count": 36,
      "metadata": {
        "colab": {
          "base_uri": "https://localhost:8080/"
        },
        "id": "xtAVhYXXFLrN",
        "outputId": "d3650b41-0250-4a37-bdb1-d60649402f90"
      },
      "outputs": [
        {
          "output_type": "stream",
          "name": "stdout",
          "text": [
            "cuda\n"
          ]
        },
        {
          "output_type": "stream",
          "name": "stderr",
          "text": [
            "/usr/local/lib/python3.10/dist-packages/torch/nn/_reduction.py:42: UserWarning: size_average and reduce args will be deprecated, please use reduction='mean' instead.\n",
            "  warnings.warn(warning.format(ret))\n"
          ]
        }
      ],
      "source": [
        "# Dataset related parameters\n",
        "vocab_size = len(vocab)\n",
        "ilength = 400 # Length of the article\n",
        "olength  = 100 # Length of the summaries\n",
        "\n",
        "# Model related parameters\n",
        "n_layers = 6\n",
        "d_model  = 128\n",
        "d_filter = 4*d_model  # feedforward projection space size\n",
        "batch_size = 32\n",
        "dropout = 0.1\n",
        "model = Transformer(vocab_size=vocab_size, d_model=d_model, n_layers=n_layers, d_filter=d_filter, dropout=dropout)\n",
        "\n",
        "# trainer parameters\n",
        "lr = 1e-3\n",
        "lr_decay = 0.9\n",
        "epochs = 10\n",
        "optimizer = optim.Adam(model.parameters(), lr=lr, weight_decay=lr_decay)\n",
        "trainer = TransformerTrainer(model, optimizer)\n",
        "\n",
        "model_id = 'test1'\n",
        "os.makedirs(root_folder+'models/part2/', exist_ok=True)\n",
        "\n",
        "device = torch.device(\"cuda\" if torch.cuda.is_available() else \"cpu\")\n",
        "print(device)\n",
        "set_device(device)"
      ]
    },
    {
      "cell_type": "code",
      "execution_count": 45,
      "metadata": {
        "colab": {
          "base_uri": "https://localhost:8080/"
        },
        "id": "2jEzZqG0FLrO",
        "outputId": "1207052f-d14d-42a1-9cf3-9aa3b1320c9f"
      },
      "outputs": [
        {
          "output_type": "stream",
          "name": "stdout",
          "text": [
            "==================\n",
            "Experiment 1 of 20\n",
            "lr=5.592691e-04, dropout=0.3569\n"
          ]
        },
        {
          "output_type": "stream",
          "name": "stderr",
          "text": [
            "Epoch 0/1. Iteration: 0 Loss: 86.89588928222656 Accuracy: 0.0009737098589539528:   2%|▏         | 2/101 [00:00<00:19,  5.02it/s]"
          ]
        },
        {
          "output_type": "stream",
          "name": "stdout",
          "text": [
            "(Epoch 1/1) val loss: 105.54676818847656; val acc: 0.0\n"
          ]
        },
        {
          "output_type": "stream",
          "name": "stderr",
          "text": [
            "Epoch 0/1. Iteration: 100 Loss: 36.056027221679685 Accuracy: 0.09842775315046311: 100%|██████████| 101/101 [00:14<00:00,  6.87it/s]\n"
          ]
        },
        {
          "output_type": "stream",
          "name": "stdout",
          "text": [
            "(Epoch 1/1) val loss: 49.17786407470703; val acc: 0.10789679735898972\n",
            "==================\n",
            "Experiment 2 of 20\n",
            "lr=1.739770e-03, dropout=0.3692\n"
          ]
        },
        {
          "output_type": "stream",
          "name": "stderr",
          "text": [
            "Epoch 0/1. Iteration: 0 Loss: 39.2494571685791 Accuracy: 0.089481782913208:   2%|▏         | 2/101 [00:00<00:16,  5.94it/s]"
          ]
        },
        {
          "output_type": "stream",
          "name": "stdout",
          "text": [
            "(Epoch 1/1) val loss: 84.2785873413086; val acc: 0.0\n"
          ]
        },
        {
          "output_type": "stream",
          "name": "stderr",
          "text": [
            "Epoch 0/1. Iteration: 100 Loss: 33.64618854522705 Accuracy: 0.11994030736386777: 100%|██████████| 101/101 [00:14<00:00,  6.86it/s]\n"
          ]
        },
        {
          "output_type": "stream",
          "name": "stdout",
          "text": [
            "(Epoch 1/1) val loss: 39.16978454589844; val acc: 0.13327205181121826\n",
            "==================\n",
            "Experiment 3 of 20\n",
            "lr=6.454894e-02, dropout=0.3167\n"
          ]
        },
        {
          "output_type": "stream",
          "name": "stderr",
          "text": [
            "Epoch 0/1. Iteration: 0 Loss: 37.711001777648924 Accuracy: 0.10545228980481625:   2%|▏         | 2/101 [00:00<00:17,  5.55it/s]"
          ]
        },
        {
          "output_type": "stream",
          "name": "stdout",
          "text": [
            "(Epoch 1/1) val loss: 798.796875; val acc: 0.0\n"
          ]
        },
        {
          "output_type": "stream",
          "name": "stderr",
          "text": [
            "Epoch 0/1. Iteration: 100 Loss: 8.686459922790528 Accuracy: 0.0: 100%|██████████| 101/101 [00:14<00:00,  6.91it/s]\n"
          ]
        },
        {
          "output_type": "stream",
          "name": "stdout",
          "text": [
            "(Epoch 1/1) val loss: 9.0984525680542; val acc: 0.0\n",
            "==================\n",
            "Experiment 4 of 20\n",
            "lr=5.127627e-04, dropout=0.4793\n"
          ]
        },
        {
          "output_type": "stream",
          "name": "stderr",
          "text": [
            "Epoch 0/1. Iteration: 0 Loss: 14.481757164001465 Accuracy: 0.0:   2%|▏         | 2/101 [00:00<00:17,  5.68it/s]"
          ]
        },
        {
          "output_type": "stream",
          "name": "stdout",
          "text": [
            "(Epoch 1/1) val loss: 107.97550201416016; val acc: 0.0\n"
          ]
        },
        {
          "output_type": "stream",
          "name": "stderr",
          "text": [
            "Epoch 0/1. Iteration: 100 Loss: 41.833504104614256 Accuracy: 0.0889276035130024: 100%|██████████| 101/101 [00:14<00:00,  6.84it/s]\n"
          ]
        },
        {
          "output_type": "stream",
          "name": "stdout",
          "text": [
            "(Epoch 1/1) val loss: 59.48481369018555; val acc: 0.07919366657733917\n",
            "==================\n",
            "Experiment 5 of 20\n",
            "lr=2.142013e-04, dropout=0.4361\n"
          ]
        },
        {
          "output_type": "stream",
          "name": "stderr",
          "text": [
            "Epoch 0/1. Iteration: 0 Loss: 45.015542602539064 Accuracy: 0.07953533828258515:   2%|▏         | 2/101 [00:00<00:16,  6.05it/s]"
          ]
        },
        {
          "output_type": "stream",
          "name": "stdout",
          "text": [
            "(Epoch 1/1) val loss: 114.12635803222656; val acc: 0.0\n"
          ]
        },
        {
          "output_type": "stream",
          "name": "stderr",
          "text": [
            "Epoch 0/1. Iteration: 100 Loss: 42.688822174072264 Accuracy: 0.08371297493577004: 100%|██████████| 101/101 [00:14<00:00,  6.93it/s]\n"
          ]
        },
        {
          "output_type": "stream",
          "name": "stdout",
          "text": [
            "(Epoch 1/1) val loss: 50.89136505126953; val acc: 0.10192837566137314\n",
            "==================\n",
            "Experiment 6 of 20\n",
            "lr=4.438441e-04, dropout=0.3805\n"
          ]
        },
        {
          "output_type": "stream",
          "name": "stderr",
          "text": [
            "Epoch 0/1. Iteration: 0 Loss: 43.546159744262695 Accuracy: 0.07546012178063392:   2%|▏         | 2/101 [00:00<00:17,  5.53it/s]"
          ]
        },
        {
          "output_type": "stream",
          "name": "stdout",
          "text": [
            "(Epoch 1/1) val loss: 111.14080047607422; val acc: 0.0014054813655093312\n"
          ]
        },
        {
          "output_type": "stream",
          "name": "stderr",
          "text": [
            "Epoch 0/1. Iteration: 100 Loss: 34.088938522338864 Accuracy: 0.0861500084400177: 100%|██████████| 101/101 [00:14<00:00,  6.95it/s]\n"
          ]
        },
        {
          "output_type": "stream",
          "name": "stdout",
          "text": [
            "(Epoch 1/1) val loss: 50.48798370361328; val acc: 0.11486486345529556\n",
            "==================\n",
            "Experiment 7 of 20\n",
            "lr=3.533240e-02, dropout=0.1823\n"
          ]
        },
        {
          "output_type": "stream",
          "name": "stderr",
          "text": [
            "Epoch 0/1. Iteration: 0 Loss: 38.63574752807617 Accuracy: 0.0787299171090126:   2%|▏         | 2/101 [00:00<00:17,  5.52it/s]"
          ]
        },
        {
          "output_type": "stream",
          "name": "stdout",
          "text": [
            "(Epoch 1/1) val loss: 251.09066772460938; val acc: 0.0\n"
          ]
        },
        {
          "output_type": "stream",
          "name": "stderr",
          "text": [
            "Epoch 0/1. Iteration: 100 Loss: 7.287444829940796 Accuracy: 0.0: 100%|██████████| 101/101 [00:14<00:00,  6.93it/s]\n"
          ]
        },
        {
          "output_type": "stream",
          "name": "stdout",
          "text": [
            "(Epoch 1/1) val loss: 8.34176254272461; val acc: 0.0\n",
            "==================\n",
            "Experiment 8 of 20\n",
            "lr=3.541083e-04, dropout=0.4036\n"
          ]
        },
        {
          "output_type": "stream",
          "name": "stderr",
          "text": [
            "Epoch 0/1. Iteration: 0 Loss: 15.105563163757324 Accuracy: 0.0:   2%|▏         | 2/101 [00:00<00:17,  5.55it/s]"
          ]
        },
        {
          "output_type": "stream",
          "name": "stdout",
          "text": [
            "(Epoch 1/1) val loss: 101.83775329589844; val acc: 0.0\n"
          ]
        },
        {
          "output_type": "stream",
          "name": "stderr",
          "text": [
            "Epoch 0/1. Iteration: 100 Loss: 36.81281719207764 Accuracy: 0.08202475160360337: 100%|██████████| 101/101 [00:14<00:00,  6.89it/s]\n"
          ]
        },
        {
          "output_type": "stream",
          "name": "stdout",
          "text": [
            "(Epoch 1/1) val loss: 48.356014251708984; val acc: 0.0839826837182045\n",
            "==================\n",
            "Experiment 9 of 20\n",
            "lr=3.641326e-04, dropout=0.3814\n"
          ]
        },
        {
          "output_type": "stream",
          "name": "stderr",
          "text": [
            "Epoch 0/1. Iteration: 0 Loss: 40.60747890472412 Accuracy: 0.07394704222679138:   2%|▏         | 2/101 [00:00<00:18,  5.38it/s]"
          ]
        },
        {
          "output_type": "stream",
          "name": "stdout",
          "text": [
            "(Epoch 1/1) val loss: 88.93000793457031; val acc: 0.0\n"
          ]
        },
        {
          "output_type": "stream",
          "name": "stderr",
          "text": [
            "Epoch 0/1. Iteration: 100 Loss: 37.93932571411133 Accuracy: 0.0912585698068142: 100%|██████████| 101/101 [00:14<00:00,  6.85it/s]\n"
          ]
        },
        {
          "output_type": "stream",
          "name": "stdout",
          "text": [
            "(Epoch 1/1) val loss: 54.93415069580078; val acc: 0.10078627616167068\n",
            "==================\n",
            "Experiment 10 of 20\n",
            "lr=2.419360e-03, dropout=0.0313\n"
          ]
        },
        {
          "output_type": "stream",
          "name": "stderr",
          "text": [
            "Epoch 0/1. Iteration: 0 Loss: 40.984622955322266 Accuracy: 0.0823413722217083:   2%|▏         | 2/101 [00:00<00:18,  5.47it/s]"
          ]
        },
        {
          "output_type": "stream",
          "name": "stdout",
          "text": [
            "(Epoch 1/1) val loss: 81.68582916259766; val acc: 0.0\n"
          ]
        },
        {
          "output_type": "stream",
          "name": "stderr",
          "text": [
            "Epoch 0/1. Iteration: 100 Loss: 30.572784996032716 Accuracy: 0.10260354951024056: 100%|██████████| 101/101 [00:14<00:00,  6.89it/s]\n"
          ]
        },
        {
          "output_type": "stream",
          "name": "stdout",
          "text": [
            "(Epoch 1/1) val loss: 38.22150802612305; val acc: 0.11024844646453857\n",
            "==================\n",
            "Experiment 11 of 20\n",
            "lr=2.415331e-03, dropout=0.1556\n"
          ]
        },
        {
          "output_type": "stream",
          "name": "stderr",
          "text": [
            "Epoch 0/1. Iteration: 0 Loss: 35.36472911834717 Accuracy: 0.09086560606956481:   2%|▏         | 2/101 [00:00<00:16,  6.00it/s]"
          ]
        },
        {
          "output_type": "stream",
          "name": "stdout",
          "text": [
            "(Epoch 1/1) val loss: 72.52505493164062; val acc: 0.08579088747501373\n"
          ]
        },
        {
          "output_type": "stream",
          "name": "stderr",
          "text": [
            "Epoch 0/1. Iteration: 100 Loss: 28.877438354492188 Accuracy: 0.11458127573132515: 100%|██████████| 101/101 [00:14<00:00,  6.97it/s]\n"
          ]
        },
        {
          "output_type": "stream",
          "name": "stdout",
          "text": [
            "(Epoch 1/1) val loss: 37.176937103271484; val acc: 0.13116057217121124\n",
            "==================\n",
            "Experiment 12 of 20\n",
            "lr=1.105175e-04, dropout=0.0089\n"
          ]
        },
        {
          "output_type": "stream",
          "name": "stderr",
          "text": [
            "Epoch 0/1. Iteration: 0 Loss: 32.804124450683595 Accuracy: 0.10170169398188592:   1%|          | 1/101 [00:00<00:20,  4.91it/s]"
          ]
        },
        {
          "output_type": "stream",
          "name": "stdout",
          "text": [
            "(Epoch 1/1) val loss: 110.89585876464844; val acc: 0.0021834061481058598\n"
          ]
        },
        {
          "output_type": "stream",
          "name": "stderr",
          "text": [
            "Epoch 0/1. Iteration: 100 Loss: 34.47009105682373 Accuracy: 0.09987314566969871: 100%|██████████| 101/101 [00:15<00:00,  6.66it/s]\n"
          ]
        },
        {
          "output_type": "stream",
          "name": "stdout",
          "text": [
            "(Epoch 1/1) val loss: 44.30207443237305; val acc: 0.12128514051437378\n",
            "==================\n",
            "Experiment 13 of 20\n",
            "lr=6.307942e-02, dropout=0.2538\n"
          ]
        },
        {
          "output_type": "stream",
          "name": "stderr",
          "text": [
            "Epoch 0/1. Iteration: 0 Loss: 37.51595211029053 Accuracy: 0.0894819475710392:   2%|▏         | 2/101 [00:00<00:16,  5.96it/s]"
          ]
        },
        {
          "output_type": "stream",
          "name": "stdout",
          "text": [
            "(Epoch 1/1) val loss: 128.0049285888672; val acc: 0.0\n"
          ]
        },
        {
          "output_type": "stream",
          "name": "stderr",
          "text": [
            "Epoch 0/1. Iteration: 100 Loss: 6.8480613231658936 Accuracy: 0.0: 100%|██████████| 101/101 [00:14<00:00,  6.97it/s]\n"
          ]
        },
        {
          "output_type": "stream",
          "name": "stdout",
          "text": [
            "(Epoch 1/1) val loss: 7.759701728820801; val acc: 0.0\n",
            "==================\n",
            "Experiment 14 of 20\n",
            "lr=1.724665e-03, dropout=0.4788\n"
          ]
        },
        {
          "output_type": "stream",
          "name": "stderr",
          "text": [
            "Epoch 0/1. Iteration: 0 Loss: 15.598576259613036 Accuracy: 0.0:   2%|▏         | 2/101 [00:00<00:16,  6.01it/s]"
          ]
        },
        {
          "output_type": "stream",
          "name": "stdout",
          "text": [
            "(Epoch 1/1) val loss: 132.7911376953125; val acc: 0.0\n"
          ]
        },
        {
          "output_type": "stream",
          "name": "stderr",
          "text": [
            "Epoch 0/1. Iteration: 100 Loss: 38.44895439147949 Accuracy: 0.1129253163933754: 100%|██████████| 101/101 [00:14<00:00,  6.94it/s]\n"
          ]
        },
        {
          "output_type": "stream",
          "name": "stdout",
          "text": [
            "(Epoch 1/1) val loss: 50.02727127075195; val acc: 0.10215053707361221\n",
            "==================\n",
            "Experiment 15 of 20\n",
            "lr=4.403611e-04, dropout=0.4331\n"
          ]
        },
        {
          "output_type": "stream",
          "name": "stderr",
          "text": [
            "Epoch 0/1. Iteration: 0 Loss: 42.421321868896484 Accuracy: 0.10214895457029342:   2%|▏         | 2/101 [00:00<00:16,  6.06it/s]"
          ]
        },
        {
          "output_type": "stream",
          "name": "stdout",
          "text": [
            "(Epoch 1/1) val loss: 98.53439331054688; val acc: 0.002481389557942748\n"
          ]
        },
        {
          "output_type": "stream",
          "name": "stderr",
          "text": [
            "Epoch 0/1. Iteration: 100 Loss: 37.89188365936279 Accuracy: 0.08862417712807655: 100%|██████████| 101/101 [00:14<00:00,  6.94it/s]\n"
          ]
        },
        {
          "output_type": "stream",
          "name": "stdout",
          "text": [
            "(Epoch 1/1) val loss: 52.81816482543945; val acc: 0.07711038738489151\n",
            "==================\n",
            "Experiment 16 of 20\n",
            "lr=9.092520e-04, dropout=0.3273\n"
          ]
        },
        {
          "output_type": "stream",
          "name": "stderr",
          "text": [
            "Epoch 0/1. Iteration: 0 Loss: 39.69145832061768 Accuracy: 0.08142648041248321:   2%|▏         | 2/101 [00:00<00:16,  5.98it/s]"
          ]
        },
        {
          "output_type": "stream",
          "name": "stdout",
          "text": [
            "(Epoch 1/1) val loss: 92.34660339355469; val acc: 0.0032025619875639677\n"
          ]
        },
        {
          "output_type": "stream",
          "name": "stderr",
          "text": [
            "Epoch 0/1. Iteration: 100 Loss: 20.723396492004394 Accuracy: 0.10310936532914639: 100%|██████████| 101/101 [00:14<00:00,  6.82it/s]\n"
          ]
        },
        {
          "output_type": "stream",
          "name": "stdout",
          "text": [
            "(Epoch 1/1) val loss: 26.574037551879883; val acc: 0.12855006754398346\n",
            "==================\n",
            "Experiment 17 of 20\n",
            "lr=7.317861e-02, dropout=0.2738\n"
          ]
        },
        {
          "output_type": "stream",
          "name": "stderr",
          "text": [
            "Epoch 0/1. Iteration: 0 Loss: 25.150929260253907 Accuracy: 0.09215698428452015:   2%|▏         | 2/101 [00:00<00:17,  5.50it/s]"
          ]
        },
        {
          "output_type": "stream",
          "name": "stdout",
          "text": [
            "(Epoch 1/1) val loss: 610.203857421875; val acc: 0.0\n"
          ]
        },
        {
          "output_type": "stream",
          "name": "stderr",
          "text": [
            "Epoch 0/1. Iteration: 100 Loss: 8.212886762619018 Accuracy: 0.12136920839548111: 100%|██████████| 101/101 [00:14<00:00,  6.85it/s]\n"
          ]
        },
        {
          "output_type": "stream",
          "name": "stdout",
          "text": [
            "(Epoch 1/1) val loss: 8.603231430053711; val acc: 0.12997746467590332\n",
            "==================\n",
            "Experiment 18 of 20\n",
            "lr=6.720953e-03, dropout=0.4224\n"
          ]
        },
        {
          "output_type": "stream",
          "name": "stderr",
          "text": [
            "Epoch 0/1. Iteration: 0 Loss: 13.247795724868775 Accuracy: 0.10858570337295533:   2%|▏         | 2/101 [00:00<00:16,  5.92it/s]"
          ]
        },
        {
          "output_type": "stream",
          "name": "stdout",
          "text": [
            "(Epoch 1/1) val loss: 119.03179931640625; val acc: 0.0036231884732842445\n"
          ]
        },
        {
          "output_type": "stream",
          "name": "stderr",
          "text": [
            "Epoch 0/1. Iteration: 100 Loss: 22.4865083694458 Accuracy: 0.05849347971379757: 100%|██████████| 101/101 [00:14<00:00,  6.91it/s]\n"
          ]
        },
        {
          "output_type": "stream",
          "name": "stdout",
          "text": [
            "(Epoch 1/1) val loss: 30.58523941040039; val acc: 0.034866467118263245\n",
            "==================\n",
            "Experiment 19 of 20\n",
            "lr=2.746106e-02, dropout=0.2538\n"
          ]
        },
        {
          "output_type": "stream",
          "name": "stderr",
          "text": [
            "Epoch 0/1. Iteration: 0 Loss: 27.26737251281738 Accuracy: 0.05110481567680836:   2%|▏         | 2/101 [00:00<00:16,  6.03it/s]"
          ]
        },
        {
          "output_type": "stream",
          "name": "stdout",
          "text": [
            "(Epoch 1/1) val loss: 99.73124694824219; val acc: 0.02994483895599842\n"
          ]
        },
        {
          "output_type": "stream",
          "name": "stderr",
          "text": [
            "Epoch 0/1. Iteration: 100 Loss: 6.147905731201172 Accuracy: 0.0: 100%|██████████| 101/101 [00:14<00:00,  6.93it/s]\n"
          ]
        },
        {
          "output_type": "stream",
          "name": "stdout",
          "text": [
            "(Epoch 1/1) val loss: 7.604753494262695; val acc: 0.0\n",
            "==================\n",
            "Experiment 20 of 20\n",
            "lr=6.405336e-04, dropout=0.3865\n"
          ]
        },
        {
          "output_type": "stream",
          "name": "stderr",
          "text": [
            "Epoch 0/1. Iteration: 0 Loss: 13.785102367401123 Accuracy: 0.0:   2%|▏         | 2/101 [00:00<00:16,  6.03it/s]"
          ]
        },
        {
          "output_type": "stream",
          "name": "stdout",
          "text": [
            "(Epoch 1/1) val loss: 91.82673645019531; val acc: 0.0\n"
          ]
        },
        {
          "output_type": "stream",
          "name": "stderr",
          "text": [
            "Epoch 0/1. Iteration: 100 Loss: 35.06514263153076 Accuracy: 0.09724149964749813: 100%|██████████| 101/101 [00:14<00:00,  6.91it/s]"
          ]
        },
        {
          "output_type": "stream",
          "name": "stdout",
          "text": [
            "(Epoch 1/1) val loss: 40.146663665771484; val acc: 0.09090909361839294\n"
          ]
        },
        {
          "output_type": "stream",
          "name": "stderr",
          "text": [
            "\n"
          ]
        }
      ],
      "source": [
        "# Run a quick random parameter search to see what combination gives best initial training results.\n",
        "# Then run for real in the next cell.\n",
        "\n",
        "from tqdm import tqdm\n",
        "\n",
        "gc.collect()\n",
        "trainer.model.to(device)\n",
        "trainer.model.train()\n",
        "\n",
        "losses, accuracies = [], []\n",
        "val_losses, val_accuracies = [], []\n",
        "\n",
        "epochs = 1\n",
        "\n",
        "max_count = 20\n",
        "for count in range(max_count):\n",
        "    lr = 10**np.random.uniform(-4, -1)\n",
        "    dropout = np.random.uniform(0, 0.5)\n",
        "    print(f\"==================\")\n",
        "    print(f\"Experiment {count+1} of {max_count}\")\n",
        "    print(f\"lr={lr:e}, dropout={dropout:.4f}\")\n",
        "\n",
        "    model = Transformer(vocab_size=vocab_size, d_model=d_model, n_layers=n_layers, d_filter=d_filter, dropout=dropout)\n",
        "    model.to(device)\n",
        "    optimizer = optim.Adam(model.parameters(), lr=lr, weight_decay=lr_decay)\n",
        "    trainer = TransformerTrainer(model, optimizer)\n",
        "\n",
        "    for epoch in range(epochs):\n",
        "\n",
        "        # for each epoch, get a random permutation of minibatches\n",
        "        # t = tqdm(range(0,(len(d_train)//batch_size)+1))\n",
        "        t = tqdm(range(0,101))\n",
        "\n",
        "        for i in t:\n",
        "            # Create a random mini-batch from the training dataset\n",
        "            batch = get_minibatch(d_train, batch_size)\n",
        "\n",
        "            # Obtain the training loss\n",
        "            train_loss, accuracy = trainer(batch)\n",
        "            losses.append(train_loss.item())\n",
        "            accuracies.append(accuracy.item())\n",
        "\n",
        "            if i % 10 == 0:\n",
        "                t.set_description(f\"Epoch {epoch}/{epochs}. Iteration: {i} Loss: {np.mean(losses[-10:])} Accuracy: {np.mean(accuracies[-10:])}\")\n",
        "\n",
        "            epoch_end = (i == len(t)-1)\n",
        "            if epoch_end:\n",
        "                for g in optimizer.param_groups:\n",
        "                    g['lr'] *= lr_decay\n",
        "                pass\n",
        "\n",
        "            # at first iteration and after each epoch, output accuracies and losses on validation set.\n",
        "            first_it = (epoch == 0 and i == 0)\n",
        "\n",
        "            if first_it or epoch_end:\n",
        "                # create validation minibatch (full size of val set)\n",
        "                val_batch = get_minibatch(d_valid, batch_size)\n",
        "                with torch.no_grad():\n",
        "                    val_loss, val_acc = trainer(val_batch, optimize=False)\n",
        "                    val_losses.append(val_loss)\n",
        "                    val_accuracies.append(val_acc)\n",
        "\n",
        "                    print(f'(Epoch {epoch+1}/{epochs}) val loss: {val_loss}; val acc: {val_acc}')\n"
      ]
    },
    {
      "cell_type": "code",
      "source": [
        "# full train cycle with best parameters.\n",
        "d_model = 256\n",
        "d_filter = 4*d_model\n",
        "\n",
        "lr = 5e-4\n",
        "dropout = 0.25\n",
        "epochs = 2\n",
        "batch_size = 64\n",
        "\n",
        "gc.collect()\n",
        "\n",
        "losses, accuracies = [], []\n",
        "val_losses, val_accuracies = [], []\n",
        "\n",
        "model = Transformer(vocab_size=vocab_size, d_model=d_model, n_layers=n_layers, d_filter=d_filter, dropout=dropout)\n",
        "model.to(device)\n",
        "optimizer = optim.Adam(model.parameters(), lr=lr)\n",
        "scheduler = optim.lr_scheduler.ExponentialLR(optimizer, gamma=lr_decay)\n",
        "trainer = TransformerTrainer(model, optimizer)\n",
        "trainer.model.train()\n",
        "\n",
        "for epoch in range(epochs):\n",
        "\n",
        "    # for each epoch, get a random permutation of minibatches\n",
        "    t = tqdm(range(0,(len(d_train)//batch_size)+1))\n",
        "\n",
        "    for i in t:\n",
        "        # Create a random mini-batch from the training dataset\n",
        "        batch = get_minibatch(d_train, batch_size)\n",
        "\n",
        "        # Obtain the training loss\n",
        "        train_loss, accuracy = trainer(batch)\n",
        "        losses.append(train_loss.item())\n",
        "        accuracies.append(accuracy.item())\n",
        "\n",
        "        if i % 10 == 0:\n",
        "            t.set_description(f\"Epoch {epoch+1}/{epochs}. Iteration: {i} Loss: {np.mean(losses[-10:]):.4f} Accuracy: {np.mean(accuracies[-10:]):.4f}\")\n",
        "\n",
        "        # at first iteration and after each epoch, output accuracies and losses on validation set.\n",
        "        first_it = (epoch == 0 and i == 0)\n",
        "        epoch_end = (i == len(t)-1)\n",
        "\n",
        "        if first_it or epoch_end:\n",
        "            # create validation minibatch\n",
        "            val_batch = get_minibatch(d_valid, 8*batch_size)\n",
        "            with torch.no_grad():\n",
        "                trainer.model.eval()\n",
        "                val_loss, val_acc = trainer(val_batch, optimize=False)\n",
        "                trainer.model.train()\n",
        "                val_losses.append(val_loss)\n",
        "                val_accuracies.append(val_acc)\n",
        "\n",
        "                print(f'Epoch {epoch+1}/{epochs}. val loss: {val_loss:.4f}; val acc: {val_acc:.4f}')\n",
        "    scheduler.step()"
      ],
      "metadata": {
        "id": "Ye9rccT7WNdu",
        "outputId": "364fee2e-8413-4316-a682-08154dedccd8",
        "colab": {
          "base_uri": "https://localhost:8080/"
        }
      },
      "execution_count": 67,
      "outputs": [
        {
          "output_type": "stream",
          "name": "stderr",
          "text": [
            "/usr/local/lib/python3.10/dist-packages/torch/nn/_reduction.py:42: UserWarning: size_average and reduce args will be deprecated, please use reduction='mean' instead.\n",
            "  warnings.warn(warning.format(ret))\n",
            "Epoch 1/2. Iteration: 0 Loss: 142.9693 Accuracy: 0.0000:   0%|          | 1/954 [00:02<46:36,  2.93s/it]"
          ]
        },
        {
          "output_type": "stream",
          "name": "stdout",
          "text": [
            "Epoch 1/2. val loss: 159.0312; val acc: 0.0002\n"
          ]
        },
        {
          "output_type": "stream",
          "name": "stderr",
          "text": [
            "Epoch 1/2. Iteration: 950 Loss: 4.2664 Accuracy: 0.2244: 100%|██████████| 954/954 [11:22<00:00,  1.40it/s]\n"
          ]
        },
        {
          "output_type": "stream",
          "name": "stdout",
          "text": [
            "Epoch 1/2. val loss: 5.0128; val acc: 0.2640\n"
          ]
        },
        {
          "output_type": "stream",
          "name": "stderr",
          "text": [
            "Epoch 2/2. Iteration: 950 Loss: 3.9047 Accuracy: 0.2600: 100%|██████████| 954/954 [11:19<00:00,  1.40it/s]"
          ]
        },
        {
          "output_type": "stream",
          "name": "stdout",
          "text": [
            "Epoch 2/2. val loss: 4.6912; val acc: 0.2872\n"
          ]
        },
        {
          "output_type": "stream",
          "name": "stderr",
          "text": [
            "\n"
          ]
        }
      ]
    },
    {
      "cell_type": "code",
      "source": [
        "model_dict = dict(\n",
        "                kwargs = dict(\n",
        "                    vocab_size=vocab_size,\n",
        "                    d_model=d_model,\n",
        "                    n_layers=n_layers,\n",
        "                    d_filter=d_filter,\n",
        "                    dropout=dropout\n",
        "                ),\n",
        "                model_state_dict = trainer.model.state_dict(),\n",
        "                notes = \"\"\n",
        "            )\n",
        "torch.save(model_dict, root_folder+f'models/part2/model_{model_id}.pt')"
      ],
      "metadata": {
        "id": "kxWYqjuchi8I"
      },
      "execution_count": 68,
      "outputs": []
    },
    {
      "cell_type": "markdown",
      "metadata": {
        "id": "jo6AXe81FLrP"
      },
      "source": [
        "# Using the Summarization model"
      ]
    },
    {
      "cell_type": "markdown",
      "metadata": {
        "id": "FsEOd0GXFLrQ"
      },
      "source": [
        "On Google Colab, switch the runtime from GPU to CPU and rerun all the above cells that load Python modules, load the dataset, etc.\n",
        "\n",
        "Now that you have trained a Transformer to perform Summarization, we will use the model on news articles from the wild.\n",
        "\n",
        "The three subsections below explore what the model has learned."
      ]
    },
    {
      "cell_type": "markdown",
      "metadata": {
        "id": "tyO5f0ltFLrR"
      },
      "source": [
        "## The validation loss"
      ]
    },
    {
      "cell_type": "markdown",
      "metadata": {
        "id": "RwMtIj6cFLrR"
      },
      "source": [
        "Measure the validation loss of your model. This part could be used, as in our previous notebook, in deciding what is a likely, vs. unlikely summary for an article.\n",
        "\n",
        "We will use the code here with the unreleased test-set to evaluate your model."
      ]
    },
    {
      "cell_type": "code",
      "execution_count": 20,
      "metadata": {
        "id": "M20e8ksXFLrS",
        "outputId": "4e9856b8-cb69-41fd-d149-ca3081093646",
        "colab": {
          "base_uri": "https://localhost:8080/"
        }
      },
      "outputs": [
        {
          "output_type": "stream",
          "name": "stderr",
          "text": [
            "/usr/local/lib/python3.10/dist-packages/torch/nn/_reduction.py:42: UserWarning: size_average and reduce args will be deprecated, please use reduction='mean' instead.\n",
            "  warnings.warn(warning.format(ret))\n"
          ]
        }
      ],
      "source": [
        "model_id = \"test1\"\n",
        "save_dict = torch.load(root_folder+'models/part2/'+f\"model_{model_id}.pt\", map_location='cpu')\n",
        "model = Transformer(**save_dict['kwargs'])\n",
        "model.load_state_dict(save_dict['model_state_dict'])\n",
        "set_device('cpu')\n",
        "model.eval()\n",
        "trainer = TransformerTrainer(model=model, optimizer=None)"
      ]
    },
    {
      "cell_type": "code",
      "execution_count": 21,
      "metadata": {
        "colab": {
          "base_uri": "https://localhost:8080/"
        },
        "id": "jpBA-TXJFLrT",
        "outputId": "b1b0ea27-e402-411a-ed0b-6967e9975675"
      },
      "outputs": [
        {
          "output_type": "stream",
          "name": "stderr",
          "text": [
            "100%|██████████| 100/100 [00:28<00:00,  3.49it/s]"
          ]
        },
        {
          "output_type": "stream",
          "name": "stdout",
          "text": [
            "Validation loss: 4.433573721051216\n"
          ]
        },
        {
          "output_type": "stream",
          "name": "stderr",
          "text": [
            "\n"
          ]
        }
      ],
      "source": [
        "from tqdm import tqdm\n",
        "\n",
        "gc.collect()\n",
        "losses = []\n",
        "\n",
        "for i in tqdm(range(100)):\n",
        "    batch = build_batch(d_valid, 1)\n",
        "    # Build the feed-dict connecting placeholders and mini-batch\n",
        "    batch_input, batch_input_mask, batch_output, batch_output_mask = [torch.tensor(tensor) for tensor in batch]\n",
        "    batch = {'source_sequence': batch_input, 'target_sequence': batch_output,\n",
        "            'encoder_mask': batch_input_mask, 'decoder_mask': batch_output_mask}\n",
        "    valid_loss, accuracy = trainer(batch, optimize=False)\n",
        "    losses.append(float(valid_loss.cpu().item()))\n",
        "print(\"Validation loss:\", np.mean(losses))"
      ]
    },
    {
      "cell_type": "markdown",
      "metadata": {
        "id": "fT_BvxRqFLrV"
      },
      "source": [
        "## Generating an article's summary"
      ]
    },
    {
      "cell_type": "markdown",
      "metadata": {
        "id": "s1225KszFLrW"
      },
      "source": [
        "This model we have built is meant to be used to generate summaries for new articles we do not have summaries for.\n",
        "We got a [news article](https://www.chicagotribune.com/news/local/breaking/ct-met-officer-shot-20190309-story.html) from the Chicago Tribune about a police shooting, and want to use our model to produce a summary.\n",
        "\n",
        "As you will see, our model is still limited in its ability, and will most likely not produce an interpretible summary, however, with more data and training, this model would be able to produce good summaries."
      ]
    },
    {
      "cell_type": "code",
      "execution_count": 22,
      "metadata": {
        "colab": {
          "base_uri": "https://localhost:8080/"
        },
        "id": "3t9dSsv1FLrW",
        "outputId": "e8750d17-c354-4df7-d81d-0bf987037d9f"
      },
      "outputs": [
        {
          "output_type": "stream",
          "name": "stdout",
          "text": [
            "========================\n",
            "[[0, 9998, 9998, 9998, 9998, 9998, 9998, 9998, 9998, 9998, 9998, 9998, 9998, 9998, 9998, 9998, 9998, 9998, 9998, 9998, 9998, 9998, 9998, 9998, 9998, 9998, 9998, 9998, 9998, 9998, 9998, 9998, 9998, 9998, 9998, 9998, 9998, 9998, 9998, 9998, 9998, 9998, 9998, 9998, 9998, 9998, 9998, 9998, 9998, 9998, 9998, 9998, 9998, 9998, 9998, 9998, 9998, 9998, 9998, 9998, 9998, 9998, 9998, 9998, 9998, 9998, 9998, 9998, 9998, 9998, 9998, 9998, 9998, 9998, 9998, 9998, 9998, 9998, 9998, 9998, 9998, 9998, 9998, 9998, 9998, 9998, 9998, 9998, 9998, 9998, 9998, 9998, 9998, 9998, 9998, 9998, 9998, 9998, 9998, 9998]]\n",
            "========================\n",
            "[[0, 3, 9998, 9998, 9998, 9998, 9998, 9998, 9998, 9998, 9998, 9998, 9998, 9998, 9998, 9998, 9998, 9998, 9998, 9998, 9998, 9998, 9998, 9998, 9998, 9998, 9998, 9998, 9998, 9998, 9998, 9998, 9998, 9998, 9998, 9998, 9998, 9998, 9998, 9998, 9998, 9998, 9998, 9998, 9998, 9998, 9998, 9998, 9998, 9998, 9998, 9998, 9998, 9998, 9998, 9998, 9998, 9998, 9998, 9998, 9998, 9998, 9998, 9998, 9998, 9998, 9998, 9998, 9998, 9998, 9998, 9998, 9998, 9998, 9998, 9998, 9998, 9998, 9998, 9998, 9998, 9998, 9998, 9998, 9998, 9998, 9998, 9998, 9998, 9998, 9998, 9998, 9998, 9998, 9998, 9998, 9998, 9998, 9998, 9998]]\n",
            "========================\n",
            "[[0, 3, 3, 9998, 9998, 9998, 9998, 9998, 9998, 9998, 9998, 9998, 9998, 9998, 9998, 9998, 9998, 9998, 9998, 9998, 9998, 9998, 9998, 9998, 9998, 9998, 9998, 9998, 9998, 9998, 9998, 9998, 9998, 9998, 9998, 9998, 9998, 9998, 9998, 9998, 9998, 9998, 9998, 9998, 9998, 9998, 9998, 9998, 9998, 9998, 9998, 9998, 9998, 9998, 9998, 9998, 9998, 9998, 9998, 9998, 9998, 9998, 9998, 9998, 9998, 9998, 9998, 9998, 9998, 9998, 9998, 9998, 9998, 9998, 9998, 9998, 9998, 9998, 9998, 9998, 9998, 9998, 9998, 9998, 9998, 9998, 9998, 9998, 9998, 9998, 9998, 9998, 9998, 9998, 9998, 9998, 9998, 9998, 9998, 9998]]\n",
            "========================\n",
            "[[0, 3, 3, 4, 9998, 9998, 9998, 9998, 9998, 9998, 9998, 9998, 9998, 9998, 9998, 9998, 9998, 9998, 9998, 9998, 9998, 9998, 9998, 9998, 9998, 9998, 9998, 9998, 9998, 9998, 9998, 9998, 9998, 9998, 9998, 9998, 9998, 9998, 9998, 9998, 9998, 9998, 9998, 9998, 9998, 9998, 9998, 9998, 9998, 9998, 9998, 9998, 9998, 9998, 9998, 9998, 9998, 9998, 9998, 9998, 9998, 9998, 9998, 9998, 9998, 9998, 9998, 9998, 9998, 9998, 9998, 9998, 9998, 9998, 9998, 9998, 9998, 9998, 9998, 9998, 9998, 9998, 9998, 9998, 9998, 9998, 9998, 9998, 9998, 9998, 9998, 9998, 9998, 9998, 9998, 9998, 9998, 9998, 9998, 9998]]\n",
            "========================\n",
            "[[0, 3, 3, 4, 4, 9998, 9998, 9998, 9998, 9998, 9998, 9998, 9998, 9998, 9998, 9998, 9998, 9998, 9998, 9998, 9998, 9998, 9998, 9998, 9998, 9998, 9998, 9998, 9998, 9998, 9998, 9998, 9998, 9998, 9998, 9998, 9998, 9998, 9998, 9998, 9998, 9998, 9998, 9998, 9998, 9998, 9998, 9998, 9998, 9998, 9998, 9998, 9998, 9998, 9998, 9998, 9998, 9998, 9998, 9998, 9998, 9998, 9998, 9998, 9998, 9998, 9998, 9998, 9998, 9998, 9998, 9998, 9998, 9998, 9998, 9998, 9998, 9998, 9998, 9998, 9998, 9998, 9998, 9998, 9998, 9998, 9998, 9998, 9998, 9998, 9998, 9998, 9998, 9998, 9998, 9998, 9998, 9998, 9998, 9998]]\n",
            "========================\n",
            "[[0, 3, 3, 4, 4, 107, 9998, 9998, 9998, 9998, 9998, 9998, 9998, 9998, 9998, 9998, 9998, 9998, 9998, 9998, 9998, 9998, 9998, 9998, 9998, 9998, 9998, 9998, 9998, 9998, 9998, 9998, 9998, 9998, 9998, 9998, 9998, 9998, 9998, 9998, 9998, 9998, 9998, 9998, 9998, 9998, 9998, 9998, 9998, 9998, 9998, 9998, 9998, 9998, 9998, 9998, 9998, 9998, 9998, 9998, 9998, 9998, 9998, 9998, 9998, 9998, 9998, 9998, 9998, 9998, 9998, 9998, 9998, 9998, 9998, 9998, 9998, 9998, 9998, 9998, 9998, 9998, 9998, 9998, 9998, 9998, 9998, 9998, 9998, 9998, 9998, 9998, 9998, 9998, 9998, 9998, 9998, 9998, 9998, 9998]]\n",
            "========================\n",
            "[[0, 3, 3, 4, 4, 107, 107, 9998, 9998, 9998, 9998, 9998, 9998, 9998, 9998, 9998, 9998, 9998, 9998, 9998, 9998, 9998, 9998, 9998, 9998, 9998, 9998, 9998, 9998, 9998, 9998, 9998, 9998, 9998, 9998, 9998, 9998, 9998, 9998, 9998, 9998, 9998, 9998, 9998, 9998, 9998, 9998, 9998, 9998, 9998, 9998, 9998, 9998, 9998, 9998, 9998, 9998, 9998, 9998, 9998, 9998, 9998, 9998, 9998, 9998, 9998, 9998, 9998, 9998, 9998, 9998, 9998, 9998, 9998, 9998, 9998, 9998, 9998, 9998, 9998, 9998, 9998, 9998, 9998, 9998, 9998, 9998, 9998, 9998, 9998, 9998, 9998, 9998, 9998, 9998, 9998, 9998, 9998, 9998, 9998]]\n",
            "========================\n",
            "[[0, 3, 3, 4, 4, 107, 107, 194, 9998, 9998, 9998, 9998, 9998, 9998, 9998, 9998, 9998, 9998, 9998, 9998, 9998, 9998, 9998, 9998, 9998, 9998, 9998, 9998, 9998, 9998, 9998, 9998, 9998, 9998, 9998, 9998, 9998, 9998, 9998, 9998, 9998, 9998, 9998, 9998, 9998, 9998, 9998, 9998, 9998, 9998, 9998, 9998, 9998, 9998, 9998, 9998, 9998, 9998, 9998, 9998, 9998, 9998, 9998, 9998, 9998, 9998, 9998, 9998, 9998, 9998, 9998, 9998, 9998, 9998, 9998, 9998, 9998, 9998, 9998, 9998, 9998, 9998, 9998, 9998, 9998, 9998, 9998, 9998, 9998, 9998, 9998, 9998, 9998, 9998, 9998, 9998, 9998, 9998, 9998, 9998]]\n",
            "========================\n",
            "[[0, 3, 3, 4, 4, 107, 107, 194, 194, 9998, 9998, 9998, 9998, 9998, 9998, 9998, 9998, 9998, 9998, 9998, 9998, 9998, 9998, 9998, 9998, 9998, 9998, 9998, 9998, 9998, 9998, 9998, 9998, 9998, 9998, 9998, 9998, 9998, 9998, 9998, 9998, 9998, 9998, 9998, 9998, 9998, 9998, 9998, 9998, 9998, 9998, 9998, 9998, 9998, 9998, 9998, 9998, 9998, 9998, 9998, 9998, 9998, 9998, 9998, 9998, 9998, 9998, 9998, 9998, 9998, 9998, 9998, 9998, 9998, 9998, 9998, 9998, 9998, 9998, 9998, 9998, 9998, 9998, 9998, 9998, 9998, 9998, 9998, 9998, 9998, 9998, 9998, 9998, 9998, 9998, 9998, 9998, 9998, 9998, 9998]]\n",
            "========================\n",
            "[[0, 3, 3, 4, 4, 107, 107, 194, 194, 5, 9998, 9998, 9998, 9998, 9998, 9998, 9998, 9998, 9998, 9998, 9998, 9998, 9998, 9998, 9998, 9998, 9998, 9998, 9998, 9998, 9998, 9998, 9998, 9998, 9998, 9998, 9998, 9998, 9998, 9998, 9998, 9998, 9998, 9998, 9998, 9998, 9998, 9998, 9998, 9998, 9998, 9998, 9998, 9998, 9998, 9998, 9998, 9998, 9998, 9998, 9998, 9998, 9998, 9998, 9998, 9998, 9998, 9998, 9998, 9998, 9998, 9998, 9998, 9998, 9998, 9998, 9998, 9998, 9998, 9998, 9998, 9998, 9998, 9998, 9998, 9998, 9998, 9998, 9998, 9998, 9998, 9998, 9998, 9998, 9998, 9998, 9998, 9998, 9998, 9998]]\n",
            "========================\n",
            "[[0, 3, 3, 4, 4, 107, 107, 194, 194, 5, 49, 9998, 9998, 9998, 9998, 9998, 9998, 9998, 9998, 9998, 9998, 9998, 9998, 9998, 9998, 9998, 9998, 9998, 9998, 9998, 9998, 9998, 9998, 9998, 9998, 9998, 9998, 9998, 9998, 9998, 9998, 9998, 9998, 9998, 9998, 9998, 9998, 9998, 9998, 9998, 9998, 9998, 9998, 9998, 9998, 9998, 9998, 9998, 9998, 9998, 9998, 9998, 9998, 9998, 9998, 9998, 9998, 9998, 9998, 9998, 9998, 9998, 9998, 9998, 9998, 9998, 9998, 9998, 9998, 9998, 9998, 9998, 9998, 9998, 9998, 9998, 9998, 9998, 9998, 9998, 9998, 9998, 9998, 9998, 9998, 9998, 9998, 9998, 9998, 9998]]\n",
            "========================\n",
            "[[0, 3, 3, 4, 4, 107, 107, 194, 194, 5, 49, 3, 9998, 9998, 9998, 9998, 9998, 9998, 9998, 9998, 9998, 9998, 9998, 9998, 9998, 9998, 9998, 9998, 9998, 9998, 9998, 9998, 9998, 9998, 9998, 9998, 9998, 9998, 9998, 9998, 9998, 9998, 9998, 9998, 9998, 9998, 9998, 9998, 9998, 9998, 9998, 9998, 9998, 9998, 9998, 9998, 9998, 9998, 9998, 9998, 9998, 9998, 9998, 9998, 9998, 9998, 9998, 9998, 9998, 9998, 9998, 9998, 9998, 9998, 9998, 9998, 9998, 9998, 9998, 9998, 9998, 9998, 9998, 9998, 9998, 9998, 9998, 9998, 9998, 9998, 9998, 9998, 9998, 9998, 9998, 9998, 9998, 9998, 9998, 9998]]\n",
            "========================\n",
            "[[0, 3, 3, 4, 4, 107, 107, 194, 194, 5, 49, 3, 58, 9998, 9998, 9998, 9998, 9998, 9998, 9998, 9998, 9998, 9998, 9998, 9998, 9998, 9998, 9998, 9998, 9998, 9998, 9998, 9998, 9998, 9998, 9998, 9998, 9998, 9998, 9998, 9998, 9998, 9998, 9998, 9998, 9998, 9998, 9998, 9998, 9998, 9998, 9998, 9998, 9998, 9998, 9998, 9998, 9998, 9998, 9998, 9998, 9998, 9998, 9998, 9998, 9998, 9998, 9998, 9998, 9998, 9998, 9998, 9998, 9998, 9998, 9998, 9998, 9998, 9998, 9998, 9998, 9998, 9998, 9998, 9998, 9998, 9998, 9998, 9998, 9998, 9998, 9998, 9998, 9998, 9998, 9998, 9998, 9998, 9998, 9998]]\n",
            "========================\n",
            "[[0, 3, 3, 4, 4, 107, 107, 194, 194, 5, 49, 3, 58, 4, 9998, 9998, 9998, 9998, 9998, 9998, 9998, 9998, 9998, 9998, 9998, 9998, 9998, 9998, 9998, 9998, 9998, 9998, 9998, 9998, 9998, 9998, 9998, 9998, 9998, 9998, 9998, 9998, 9998, 9998, 9998, 9998, 9998, 9998, 9998, 9998, 9998, 9998, 9998, 9998, 9998, 9998, 9998, 9998, 9998, 9998, 9998, 9998, 9998, 9998, 9998, 9998, 9998, 9998, 9998, 9998, 9998, 9998, 9998, 9998, 9998, 9998, 9998, 9998, 9998, 9998, 9998, 9998, 9998, 9998, 9998, 9998, 9998, 9998, 9998, 9998, 9998, 9998, 9998, 9998, 9998, 9998, 9998, 9998, 9998, 9998]]\n",
            "========================\n",
            "[[0, 3, 3, 4, 4, 107, 107, 194, 194, 5, 49, 3, 58, 4, 153, 9998, 9998, 9998, 9998, 9998, 9998, 9998, 9998, 9998, 9998, 9998, 9998, 9998, 9998, 9998, 9998, 9998, 9998, 9998, 9998, 9998, 9998, 9998, 9998, 9998, 9998, 9998, 9998, 9998, 9998, 9998, 9998, 9998, 9998, 9998, 9998, 9998, 9998, 9998, 9998, 9998, 9998, 9998, 9998, 9998, 9998, 9998, 9998, 9998, 9998, 9998, 9998, 9998, 9998, 9998, 9998, 9998, 9998, 9998, 9998, 9998, 9998, 9998, 9998, 9998, 9998, 9998, 9998, 9998, 9998, 9998, 9998, 9998, 9998, 9998, 9998, 9998, 9998, 9998, 9998, 9998, 9998, 9998, 9998, 9998]]\n",
            "========================\n",
            "[[0, 3, 3, 4, 4, 107, 107, 194, 194, 5, 49, 3, 58, 4, 153, 3, 9998, 9998, 9998, 9998, 9998, 9998, 9998, 9998, 9998, 9998, 9998, 9998, 9998, 9998, 9998, 9998, 9998, 9998, 9998, 9998, 9998, 9998, 9998, 9998, 9998, 9998, 9998, 9998, 9998, 9998, 9998, 9998, 9998, 9998, 9998, 9998, 9998, 9998, 9998, 9998, 9998, 9998, 9998, 9998, 9998, 9998, 9998, 9998, 9998, 9998, 9998, 9998, 9998, 9998, 9998, 9998, 9998, 9998, 9998, 9998, 9998, 9998, 9998, 9998, 9998, 9998, 9998, 9998, 9998, 9998, 9998, 9998, 9998, 9998, 9998, 9998, 9998, 9998, 9998, 9998, 9998, 9998, 9998, 9998]]\n",
            "========================\n",
            "[[0, 3, 3, 4, 4, 107, 107, 194, 194, 5, 49, 3, 58, 4, 153, 3, 10, 9998, 9998, 9998, 9998, 9998, 9998, 9998, 9998, 9998, 9998, 9998, 9998, 9998, 9998, 9998, 9998, 9998, 9998, 9998, 9998, 9998, 9998, 9998, 9998, 9998, 9998, 9998, 9998, 9998, 9998, 9998, 9998, 9998, 9998, 9998, 9998, 9998, 9998, 9998, 9998, 9998, 9998, 9998, 9998, 9998, 9998, 9998, 9998, 9998, 9998, 9998, 9998, 9998, 9998, 9998, 9998, 9998, 9998, 9998, 9998, 9998, 9998, 9998, 9998, 9998, 9998, 9998, 9998, 9998, 9998, 9998, 9998, 9998, 9998, 9998, 9998, 9998, 9998, 9998, 9998, 9998, 9998, 9998]]\n",
            "========================\n",
            "[[0, 3, 3, 4, 4, 107, 107, 194, 194, 5, 49, 3, 58, 4, 153, 3, 10, 4, 9998, 9998, 9998, 9998, 9998, 9998, 9998, 9998, 9998, 9998, 9998, 9998, 9998, 9998, 9998, 9998, 9998, 9998, 9998, 9998, 9998, 9998, 9998, 9998, 9998, 9998, 9998, 9998, 9998, 9998, 9998, 9998, 9998, 9998, 9998, 9998, 9998, 9998, 9998, 9998, 9998, 9998, 9998, 9998, 9998, 9998, 9998, 9998, 9998, 9998, 9998, 9998, 9998, 9998, 9998, 9998, 9998, 9998, 9998, 9998, 9998, 9998, 9998, 9998, 9998, 9998, 9998, 9998, 9998, 9998, 9998, 9998, 9998, 9998, 9998, 9998, 9998, 9998, 9998, 9998, 9998, 9998]]\n",
            "========================\n",
            "[[0, 3, 3, 4, 4, 107, 107, 194, 194, 5, 49, 3, 58, 4, 153, 3, 10, 4, 3, 9998, 9998, 9998, 9998, 9998, 9998, 9998, 9998, 9998, 9998, 9998, 9998, 9998, 9998, 9998, 9998, 9998, 9998, 9998, 9998, 9998, 9998, 9998, 9998, 9998, 9998, 9998, 9998, 9998, 9998, 9998, 9998, 9998, 9998, 9998, 9998, 9998, 9998, 9998, 9998, 9998, 9998, 9998, 9998, 9998, 9998, 9998, 9998, 9998, 9998, 9998, 9998, 9998, 9998, 9998, 9998, 9998, 9998, 9998, 9998, 9998, 9998, 9998, 9998, 9998, 9998, 9998, 9998, 9998, 9998, 9998, 9998, 9998, 9998, 9998, 9998, 9998, 9998, 9998, 9998, 9998]]\n",
            "========================\n",
            "[[0, 3, 3, 4, 4, 107, 107, 194, 194, 5, 49, 3, 58, 4, 153, 3, 10, 4, 3, 3, 9998, 9998, 9998, 9998, 9998, 9998, 9998, 9998, 9998, 9998, 9998, 9998, 9998, 9998, 9998, 9998, 9998, 9998, 9998, 9998, 9998, 9998, 9998, 9998, 9998, 9998, 9998, 9998, 9998, 9998, 9998, 9998, 9998, 9998, 9998, 9998, 9998, 9998, 9998, 9998, 9998, 9998, 9998, 9998, 9998, 9998, 9998, 9998, 9998, 9998, 9998, 9998, 9998, 9998, 9998, 9998, 9998, 9998, 9998, 9998, 9998, 9998, 9998, 9998, 9998, 9998, 9998, 9998, 9998, 9998, 9998, 9998, 9998, 9998, 9998, 9998, 9998, 9998, 9998, 9998]]\n",
            "========================\n",
            "[[0, 3, 3, 4, 4, 107, 107, 194, 194, 5, 49, 3, 58, 4, 153, 3, 10, 4, 3, 3, 4, 9998, 9998, 9998, 9998, 9998, 9998, 9998, 9998, 9998, 9998, 9998, 9998, 9998, 9998, 9998, 9998, 9998, 9998, 9998, 9998, 9998, 9998, 9998, 9998, 9998, 9998, 9998, 9998, 9998, 9998, 9998, 9998, 9998, 9998, 9998, 9998, 9998, 9998, 9998, 9998, 9998, 9998, 9998, 9998, 9998, 9998, 9998, 9998, 9998, 9998, 9998, 9998, 9998, 9998, 9998, 9998, 9998, 9998, 9998, 9998, 9998, 9998, 9998, 9998, 9998, 9998, 9998, 9998, 9998, 9998, 9998, 9998, 9998, 9998, 9998, 9998, 9998, 9998, 9998]]\n",
            "========================\n",
            "[[0, 3, 3, 4, 4, 107, 107, 194, 194, 5, 49, 3, 58, 4, 153, 3, 10, 4, 3, 3, 4, 4, 9998, 9998, 9998, 9998, 9998, 9998, 9998, 9998, 9998, 9998, 9998, 9998, 9998, 9998, 9998, 9998, 9998, 9998, 9998, 9998, 9998, 9998, 9998, 9998, 9998, 9998, 9998, 9998, 9998, 9998, 9998, 9998, 9998, 9998, 9998, 9998, 9998, 9998, 9998, 9998, 9998, 9998, 9998, 9998, 9998, 9998, 9998, 9998, 9998, 9998, 9998, 9998, 9998, 9998, 9998, 9998, 9998, 9998, 9998, 9998, 9998, 9998, 9998, 9998, 9998, 9998, 9998, 9998, 9998, 9998, 9998, 9998, 9998, 9998, 9998, 9998, 9998, 9998]]\n",
            "========================\n",
            "[[0, 3, 3, 4, 4, 107, 107, 194, 194, 5, 49, 3, 58, 4, 153, 3, 10, 4, 3, 3, 4, 4, 3, 9998, 9998, 9998, 9998, 9998, 9998, 9998, 9998, 9998, 9998, 9998, 9998, 9998, 9998, 9998, 9998, 9998, 9998, 9998, 9998, 9998, 9998, 9998, 9998, 9998, 9998, 9998, 9998, 9998, 9998, 9998, 9998, 9998, 9998, 9998, 9998, 9998, 9998, 9998, 9998, 9998, 9998, 9998, 9998, 9998, 9998, 9998, 9998, 9998, 9998, 9998, 9998, 9998, 9998, 9998, 9998, 9998, 9998, 9998, 9998, 9998, 9998, 9998, 9998, 9998, 9998, 9998, 9998, 9998, 9998, 9998, 9998, 9998, 9998, 9998, 9998, 9998]]\n",
            "========================\n",
            "[[0, 3, 3, 4, 4, 107, 107, 194, 194, 5, 49, 3, 58, 4, 153, 3, 10, 4, 3, 3, 4, 4, 3, 3, 9998, 9998, 9998, 9998, 9998, 9998, 9998, 9998, 9998, 9998, 9998, 9998, 9998, 9998, 9998, 9998, 9998, 9998, 9998, 9998, 9998, 9998, 9998, 9998, 9998, 9998, 9998, 9998, 9998, 9998, 9998, 9998, 9998, 9998, 9998, 9998, 9998, 9998, 9998, 9998, 9998, 9998, 9998, 9998, 9998, 9998, 9998, 9998, 9998, 9998, 9998, 9998, 9998, 9998, 9998, 9998, 9998, 9998, 9998, 9998, 9998, 9998, 9998, 9998, 9998, 9998, 9998, 9998, 9998, 9998, 9998, 9998, 9998, 9998, 9998, 9998]]\n",
            "========================\n",
            "[[0, 3, 3, 4, 4, 107, 107, 194, 194, 5, 49, 3, 58, 4, 153, 3, 10, 4, 3, 3, 4, 4, 3, 3, 4, 9998, 9998, 9998, 9998, 9998, 9998, 9998, 9998, 9998, 9998, 9998, 9998, 9998, 9998, 9998, 9998, 9998, 9998, 9998, 9998, 9998, 9998, 9998, 9998, 9998, 9998, 9998, 9998, 9998, 9998, 9998, 9998, 9998, 9998, 9998, 9998, 9998, 9998, 9998, 9998, 9998, 9998, 9998, 9998, 9998, 9998, 9998, 9998, 9998, 9998, 9998, 9998, 9998, 9998, 9998, 9998, 9998, 9998, 9998, 9998, 9998, 9998, 9998, 9998, 9998, 9998, 9998, 9998, 9998, 9998, 9998, 9998, 9998, 9998, 9998]]\n",
            "========================\n",
            "[[0, 3, 3, 4, 4, 107, 107, 194, 194, 5, 49, 3, 58, 4, 153, 3, 10, 4, 3, 3, 4, 4, 3, 3, 4, 4, 9998, 9998, 9998, 9998, 9998, 9998, 9998, 9998, 9998, 9998, 9998, 9998, 9998, 9998, 9998, 9998, 9998, 9998, 9998, 9998, 9998, 9998, 9998, 9998, 9998, 9998, 9998, 9998, 9998, 9998, 9998, 9998, 9998, 9998, 9998, 9998, 9998, 9998, 9998, 9998, 9998, 9998, 9998, 9998, 9998, 9998, 9998, 9998, 9998, 9998, 9998, 9998, 9998, 9998, 9998, 9998, 9998, 9998, 9998, 9998, 9998, 9998, 9998, 9998, 9998, 9998, 9998, 9998, 9998, 9998, 9998, 9998, 9998, 9998]]\n",
            "========================\n",
            "[[0, 3, 3, 4, 4, 107, 107, 194, 194, 5, 49, 3, 58, 4, 153, 3, 10, 4, 3, 3, 4, 4, 3, 3, 4, 4, 3, 9998, 9998, 9998, 9998, 9998, 9998, 9998, 9998, 9998, 9998, 9998, 9998, 9998, 9998, 9998, 9998, 9998, 9998, 9998, 9998, 9998, 9998, 9998, 9998, 9998, 9998, 9998, 9998, 9998, 9998, 9998, 9998, 9998, 9998, 9998, 9998, 9998, 9998, 9998, 9998, 9998, 9998, 9998, 9998, 9998, 9998, 9998, 9998, 9998, 9998, 9998, 9998, 9998, 9998, 9998, 9998, 9998, 9998, 9998, 9998, 9998, 9998, 9998, 9998, 9998, 9998, 9998, 9998, 9998, 9998, 9998, 9998, 9998]]\n",
            "========================\n",
            "[[0, 3, 3, 4, 4, 107, 107, 194, 194, 5, 49, 3, 58, 4, 153, 3, 10, 4, 3, 3, 4, 4, 3, 3, 4, 4, 3, 3, 9998, 9998, 9998, 9998, 9998, 9998, 9998, 9998, 9998, 9998, 9998, 9998, 9998, 9998, 9998, 9998, 9998, 9998, 9998, 9998, 9998, 9998, 9998, 9998, 9998, 9998, 9998, 9998, 9998, 9998, 9998, 9998, 9998, 9998, 9998, 9998, 9998, 9998, 9998, 9998, 9998, 9998, 9998, 9998, 9998, 9998, 9998, 9998, 9998, 9998, 9998, 9998, 9998, 9998, 9998, 9998, 9998, 9998, 9998, 9998, 9998, 9998, 9998, 9998, 9998, 9998, 9998, 9998, 9998, 9998, 9998, 9998]]\n",
            "========================\n",
            "[[0, 3, 3, 4, 4, 107, 107, 194, 194, 5, 49, 3, 58, 4, 153, 3, 10, 4, 3, 3, 4, 4, 3, 3, 4, 4, 3, 3, 4, 9998, 9998, 9998, 9998, 9998, 9998, 9998, 9998, 9998, 9998, 9998, 9998, 9998, 9998, 9998, 9998, 9998, 9998, 9998, 9998, 9998, 9998, 9998, 9998, 9998, 9998, 9998, 9998, 9998, 9998, 9998, 9998, 9998, 9998, 9998, 9998, 9998, 9998, 9998, 9998, 9998, 9998, 9998, 9998, 9998, 9998, 9998, 9998, 9998, 9998, 9998, 9998, 9998, 9998, 9998, 9998, 9998, 9998, 9998, 9998, 9998, 9998, 9998, 9998, 9998, 9998, 9998, 9998, 9998, 9998, 9998]]\n",
            "========================\n",
            "[[0, 3, 3, 4, 4, 107, 107, 194, 194, 5, 49, 3, 58, 4, 153, 3, 10, 4, 3, 3, 4, 4, 3, 3, 4, 4, 3, 3, 4, 4, 9998, 9998, 9998, 9998, 9998, 9998, 9998, 9998, 9998, 9998, 9998, 9998, 9998, 9998, 9998, 9998, 9998, 9998, 9998, 9998, 9998, 9998, 9998, 9998, 9998, 9998, 9998, 9998, 9998, 9998, 9998, 9998, 9998, 9998, 9998, 9998, 9998, 9998, 9998, 9998, 9998, 9998, 9998, 9998, 9998, 9998, 9998, 9998, 9998, 9998, 9998, 9998, 9998, 9998, 9998, 9998, 9998, 9998, 9998, 9998, 9998, 9998, 9998, 9998, 9998, 9998, 9998, 9998, 9998, 9998]]\n",
            "========================\n",
            "[[0, 3, 3, 4, 4, 107, 107, 194, 194, 5, 49, 3, 58, 4, 153, 3, 10, 4, 3, 3, 4, 4, 3, 3, 4, 4, 3, 3, 4, 4, 3, 9998, 9998, 9998, 9998, 9998, 9998, 9998, 9998, 9998, 9998, 9998, 9998, 9998, 9998, 9998, 9998, 9998, 9998, 9998, 9998, 9998, 9998, 9998, 9998, 9998, 9998, 9998, 9998, 9998, 9998, 9998, 9998, 9998, 9998, 9998, 9998, 9998, 9998, 9998, 9998, 9998, 9998, 9998, 9998, 9998, 9998, 9998, 9998, 9998, 9998, 9998, 9998, 9998, 9998, 9998, 9998, 9998, 9998, 9998, 9998, 9998, 9998, 9998, 9998, 9998, 9998, 9998, 9998, 9998]]\n",
            "========================\n",
            "[[0, 3, 3, 4, 4, 107, 107, 194, 194, 5, 49, 3, 58, 4, 153, 3, 10, 4, 3, 3, 4, 4, 3, 3, 4, 4, 3, 3, 4, 4, 3, 3, 9998, 9998, 9998, 9998, 9998, 9998, 9998, 9998, 9998, 9998, 9998, 9998, 9998, 9998, 9998, 9998, 9998, 9998, 9998, 9998, 9998, 9998, 9998, 9998, 9998, 9998, 9998, 9998, 9998, 9998, 9998, 9998, 9998, 9998, 9998, 9998, 9998, 9998, 9998, 9998, 9998, 9998, 9998, 9998, 9998, 9998, 9998, 9998, 9998, 9998, 9998, 9998, 9998, 9998, 9998, 9998, 9998, 9998, 9998, 9998, 9998, 9998, 9998, 9998, 9998, 9998, 9998, 9998]]\n",
            "========================\n",
            "[[0, 3, 3, 4, 4, 107, 107, 194, 194, 5, 49, 3, 58, 4, 153, 3, 10, 4, 3, 3, 4, 4, 3, 3, 4, 4, 3, 3, 4, 4, 3, 3, 4, 9998, 9998, 9998, 9998, 9998, 9998, 9998, 9998, 9998, 9998, 9998, 9998, 9998, 9998, 9998, 9998, 9998, 9998, 9998, 9998, 9998, 9998, 9998, 9998, 9998, 9998, 9998, 9998, 9998, 9998, 9998, 9998, 9998, 9998, 9998, 9998, 9998, 9998, 9998, 9998, 9998, 9998, 9998, 9998, 9998, 9998, 9998, 9998, 9998, 9998, 9998, 9998, 9998, 9998, 9998, 9998, 9998, 9998, 9998, 9998, 9998, 9998, 9998, 9998, 9998, 9998, 9998]]\n",
            "========================\n",
            "[[0, 3, 3, 4, 4, 107, 107, 194, 194, 5, 49, 3, 58, 4, 153, 3, 10, 4, 3, 3, 4, 4, 3, 3, 4, 4, 3, 3, 4, 4, 3, 3, 4, 4, 9998, 9998, 9998, 9998, 9998, 9998, 9998, 9998, 9998, 9998, 9998, 9998, 9998, 9998, 9998, 9998, 9998, 9998, 9998, 9998, 9998, 9998, 9998, 9998, 9998, 9998, 9998, 9998, 9998, 9998, 9998, 9998, 9998, 9998, 9998, 9998, 9998, 9998, 9998, 9998, 9998, 9998, 9998, 9998, 9998, 9998, 9998, 9998, 9998, 9998, 9998, 9998, 9998, 9998, 9998, 9998, 9998, 9998, 9998, 9998, 9998, 9998, 9998, 9998, 9998, 9998]]\n",
            "========================\n",
            "[[0, 3, 3, 4, 4, 107, 107, 194, 194, 5, 49, 3, 58, 4, 153, 3, 10, 4, 3, 3, 4, 4, 3, 3, 4, 4, 3, 3, 4, 4, 3, 3, 4, 4, 3, 9998, 9998, 9998, 9998, 9998, 9998, 9998, 9998, 9998, 9998, 9998, 9998, 9998, 9998, 9998, 9998, 9998, 9998, 9998, 9998, 9998, 9998, 9998, 9998, 9998, 9998, 9998, 9998, 9998, 9998, 9998, 9998, 9998, 9998, 9998, 9998, 9998, 9998, 9998, 9998, 9998, 9998, 9998, 9998, 9998, 9998, 9998, 9998, 9998, 9998, 9998, 9998, 9998, 9998, 9998, 9998, 9998, 9998, 9998, 9998, 9998, 9998, 9998, 9998, 9998]]\n",
            "========================\n",
            "[[0, 3, 3, 4, 4, 107, 107, 194, 194, 5, 49, 3, 58, 4, 153, 3, 10, 4, 3, 3, 4, 4, 3, 3, 4, 4, 3, 3, 4, 4, 3, 3, 4, 4, 3, 3, 9998, 9998, 9998, 9998, 9998, 9998, 9998, 9998, 9998, 9998, 9998, 9998, 9998, 9998, 9998, 9998, 9998, 9998, 9998, 9998, 9998, 9998, 9998, 9998, 9998, 9998, 9998, 9998, 9998, 9998, 9998, 9998, 9998, 9998, 9998, 9998, 9998, 9998, 9998, 9998, 9998, 9998, 9998, 9998, 9998, 9998, 9998, 9998, 9998, 9998, 9998, 9998, 9998, 9998, 9998, 9998, 9998, 9998, 9998, 9998, 9998, 9998, 9998, 9998]]\n",
            "========================\n",
            "[[0, 3, 3, 4, 4, 107, 107, 194, 194, 5, 49, 3, 58, 4, 153, 3, 10, 4, 3, 3, 4, 4, 3, 3, 4, 4, 3, 3, 4, 4, 3, 3, 4, 4, 3, 3, 4, 9998, 9998, 9998, 9998, 9998, 9998, 9998, 9998, 9998, 9998, 9998, 9998, 9998, 9998, 9998, 9998, 9998, 9998, 9998, 9998, 9998, 9998, 9998, 9998, 9998, 9998, 9998, 9998, 9998, 9998, 9998, 9998, 9998, 9998, 9998, 9998, 9998, 9998, 9998, 9998, 9998, 9998, 9998, 9998, 9998, 9998, 9998, 9998, 9998, 9998, 9998, 9998, 9998, 9998, 9998, 9998, 9998, 9998, 9998, 9998, 9998, 9998, 9998]]\n",
            "========================\n",
            "[[0, 3, 3, 4, 4, 107, 107, 194, 194, 5, 49, 3, 58, 4, 153, 3, 10, 4, 3, 3, 4, 4, 3, 3, 4, 4, 3, 3, 4, 4, 3, 3, 4, 4, 3, 3, 4, 4, 9998, 9998, 9998, 9998, 9998, 9998, 9998, 9998, 9998, 9998, 9998, 9998, 9998, 9998, 9998, 9998, 9998, 9998, 9998, 9998, 9998, 9998, 9998, 9998, 9998, 9998, 9998, 9998, 9998, 9998, 9998, 9998, 9998, 9998, 9998, 9998, 9998, 9998, 9998, 9998, 9998, 9998, 9998, 9998, 9998, 9998, 9998, 9998, 9998, 9998, 9998, 9998, 9998, 9998, 9998, 9998, 9998, 9998, 9998, 9998, 9998, 9998]]\n",
            "========================\n",
            "[[0, 3, 3, 4, 4, 107, 107, 194, 194, 5, 49, 3, 58, 4, 153, 3, 10, 4, 3, 3, 4, 4, 3, 3, 4, 4, 3, 3, 4, 4, 3, 3, 4, 4, 3, 3, 4, 4, 3, 9998, 9998, 9998, 9998, 9998, 9998, 9998, 9998, 9998, 9998, 9998, 9998, 9998, 9998, 9998, 9998, 9998, 9998, 9998, 9998, 9998, 9998, 9998, 9998, 9998, 9998, 9998, 9998, 9998, 9998, 9998, 9998, 9998, 9998, 9998, 9998, 9998, 9998, 9998, 9998, 9998, 9998, 9998, 9998, 9998, 9998, 9998, 9998, 9998, 9998, 9998, 9998, 9998, 9998, 9998, 9998, 9998, 9998, 9998, 9998, 9998]]\n",
            "========================\n",
            "[[0, 3, 3, 4, 4, 107, 107, 194, 194, 5, 49, 3, 58, 4, 153, 3, 10, 4, 3, 3, 4, 4, 3, 3, 4, 4, 3, 3, 4, 4, 3, 3, 4, 4, 3, 3, 4, 4, 3, 3, 9998, 9998, 9998, 9998, 9998, 9998, 9998, 9998, 9998, 9998, 9998, 9998, 9998, 9998, 9998, 9998, 9998, 9998, 9998, 9998, 9998, 9998, 9998, 9998, 9998, 9998, 9998, 9998, 9998, 9998, 9998, 9998, 9998, 9998, 9998, 9998, 9998, 9998, 9998, 9998, 9998, 9998, 9998, 9998, 9998, 9998, 9998, 9998, 9998, 9998, 9998, 9998, 9998, 9998, 9998, 9998, 9998, 9998, 9998, 9998]]\n",
            "========================\n",
            "[[0, 3, 3, 4, 4, 107, 107, 194, 194, 5, 49, 3, 58, 4, 153, 3, 10, 4, 3, 3, 4, 4, 3, 3, 4, 4, 3, 3, 4, 4, 3, 3, 4, 4, 3, 3, 4, 4, 3, 3, 4, 9998, 9998, 9998, 9998, 9998, 9998, 9998, 9998, 9998, 9998, 9998, 9998, 9998, 9998, 9998, 9998, 9998, 9998, 9998, 9998, 9998, 9998, 9998, 9998, 9998, 9998, 9998, 9998, 9998, 9998, 9998, 9998, 9998, 9998, 9998, 9998, 9998, 9998, 9998, 9998, 9998, 9998, 9998, 9998, 9998, 9998, 9998, 9998, 9998, 9998, 9998, 9998, 9998, 9998, 9998, 9998, 9998, 9998, 9998]]\n",
            "========================\n",
            "[[0, 3, 3, 4, 4, 107, 107, 194, 194, 5, 49, 3, 58, 4, 153, 3, 10, 4, 3, 3, 4, 4, 3, 3, 4, 4, 3, 3, 4, 4, 3, 3, 4, 4, 3, 3, 4, 4, 3, 3, 4, 4, 9998, 9998, 9998, 9998, 9998, 9998, 9998, 9998, 9998, 9998, 9998, 9998, 9998, 9998, 9998, 9998, 9998, 9998, 9998, 9998, 9998, 9998, 9998, 9998, 9998, 9998, 9998, 9998, 9998, 9998, 9998, 9998, 9998, 9998, 9998, 9998, 9998, 9998, 9998, 9998, 9998, 9998, 9998, 9998, 9998, 9998, 9998, 9998, 9998, 9998, 9998, 9998, 9998, 9998, 9998, 9998, 9998, 9998]]\n",
            "========================\n",
            "[[0, 3, 3, 4, 4, 107, 107, 194, 194, 5, 49, 3, 58, 4, 153, 3, 10, 4, 3, 3, 4, 4, 3, 3, 4, 4, 3, 3, 4, 4, 3, 3, 4, 4, 3, 3, 4, 4, 3, 3, 4, 4, 3, 9998, 9998, 9998, 9998, 9998, 9998, 9998, 9998, 9998, 9998, 9998, 9998, 9998, 9998, 9998, 9998, 9998, 9998, 9998, 9998, 9998, 9998, 9998, 9998, 9998, 9998, 9998, 9998, 9998, 9998, 9998, 9998, 9998, 9998, 9998, 9998, 9998, 9998, 9998, 9998, 9998, 9998, 9998, 9998, 9998, 9998, 9998, 9998, 9998, 9998, 9998, 9998, 9998, 9998, 9998, 9998, 9998]]\n",
            "========================\n",
            "[[0, 3, 3, 4, 4, 107, 107, 194, 194, 5, 49, 3, 58, 4, 153, 3, 10, 4, 3, 3, 4, 4, 3, 3, 4, 4, 3, 3, 4, 4, 3, 3, 4, 4, 3, 3, 4, 4, 3, 3, 4, 4, 3, 3, 9998, 9998, 9998, 9998, 9998, 9998, 9998, 9998, 9998, 9998, 9998, 9998, 9998, 9998, 9998, 9998, 9998, 9998, 9998, 9998, 9998, 9998, 9998, 9998, 9998, 9998, 9998, 9998, 9998, 9998, 9998, 9998, 9998, 9998, 9998, 9998, 9998, 9998, 9998, 9998, 9998, 9998, 9998, 9998, 9998, 9998, 9998, 9998, 9998, 9998, 9998, 9998, 9998, 9998, 9998, 9998]]\n",
            "========================\n",
            "[[0, 3, 3, 4, 4, 107, 107, 194, 194, 5, 49, 3, 58, 4, 153, 3, 10, 4, 3, 3, 4, 4, 3, 3, 4, 4, 3, 3, 4, 4, 3, 3, 4, 4, 3, 3, 4, 4, 3, 3, 4, 4, 3, 3, 4, 9998, 9998, 9998, 9998, 9998, 9998, 9998, 9998, 9998, 9998, 9998, 9998, 9998, 9998, 9998, 9998, 9998, 9998, 9998, 9998, 9998, 9998, 9998, 9998, 9998, 9998, 9998, 9998, 9998, 9998, 9998, 9998, 9998, 9998, 9998, 9998, 9998, 9998, 9998, 9998, 9998, 9998, 9998, 9998, 9998, 9998, 9998, 9998, 9998, 9998, 9998, 9998, 9998, 9998, 9998]]\n",
            "========================\n",
            "[[0, 3, 3, 4, 4, 107, 107, 194, 194, 5, 49, 3, 58, 4, 153, 3, 10, 4, 3, 3, 4, 4, 3, 3, 4, 4, 3, 3, 4, 4, 3, 3, 4, 4, 3, 3, 4, 4, 3, 3, 4, 4, 3, 3, 4, 4, 9998, 9998, 9998, 9998, 9998, 9998, 9998, 9998, 9998, 9998, 9998, 9998, 9998, 9998, 9998, 9998, 9998, 9998, 9998, 9998, 9998, 9998, 9998, 9998, 9998, 9998, 9998, 9998, 9998, 9998, 9998, 9998, 9998, 9998, 9998, 9998, 9998, 9998, 9998, 9998, 9998, 9998, 9998, 9998, 9998, 9998, 9998, 9998, 9998, 9998, 9998, 9998, 9998, 9998]]\n",
            "========================\n",
            "[[0, 3, 3, 4, 4, 107, 107, 194, 194, 5, 49, 3, 58, 4, 153, 3, 10, 4, 3, 3, 4, 4, 3, 3, 4, 4, 3, 3, 4, 4, 3, 3, 4, 4, 3, 3, 4, 4, 3, 3, 4, 4, 3, 3, 4, 4, 3, 9998, 9998, 9998, 9998, 9998, 9998, 9998, 9998, 9998, 9998, 9998, 9998, 9998, 9998, 9998, 9998, 9998, 9998, 9998, 9998, 9998, 9998, 9998, 9998, 9998, 9998, 9998, 9998, 9998, 9998, 9998, 9998, 9998, 9998, 9998, 9998, 9998, 9998, 9998, 9998, 9998, 9998, 9998, 9998, 9998, 9998, 9998, 9998, 9998, 9998, 9998, 9998, 9998]]\n",
            "========================\n",
            "[[0, 3, 3, 4, 4, 107, 107, 194, 194, 5, 49, 3, 58, 4, 153, 3, 10, 4, 3, 3, 4, 4, 3, 3, 4, 4, 3, 3, 4, 4, 3, 3, 4, 4, 3, 3, 4, 4, 3, 3, 4, 4, 3, 3, 4, 4, 3, 3, 9998, 9998, 9998, 9998, 9998, 9998, 9998, 9998, 9998, 9998, 9998, 9998, 9998, 9998, 9998, 9998, 9998, 9998, 9998, 9998, 9998, 9998, 9998, 9998, 9998, 9998, 9998, 9998, 9998, 9998, 9998, 9998, 9998, 9998, 9998, 9998, 9998, 9998, 9998, 9998, 9998, 9998, 9998, 9998, 9998, 9998, 9998, 9998, 9998, 9998, 9998, 9998]]\n",
            "========================\n",
            "[[0, 3, 3, 4, 4, 107, 107, 194, 194, 5, 49, 3, 58, 4, 153, 3, 10, 4, 3, 3, 4, 4, 3, 3, 4, 4, 3, 3, 4, 4, 3, 3, 4, 4, 3, 3, 4, 4, 3, 3, 4, 4, 3, 3, 4, 4, 3, 3, 4, 9998, 9998, 9998, 9998, 9998, 9998, 9998, 9998, 9998, 9998, 9998, 9998, 9998, 9998, 9998, 9998, 9998, 9998, 9998, 9998, 9998, 9998, 9998, 9998, 9998, 9998, 9998, 9998, 9998, 9998, 9998, 9998, 9998, 9998, 9998, 9998, 9998, 9998, 9998, 9998, 9998, 9998, 9998, 9998, 9998, 9998, 9998, 9998, 9998, 9998, 9998]]\n",
            "========================\n",
            "[[0, 3, 3, 4, 4, 107, 107, 194, 194, 5, 49, 3, 58, 4, 153, 3, 10, 4, 3, 3, 4, 4, 3, 3, 4, 4, 3, 3, 4, 4, 3, 3, 4, 4, 3, 3, 4, 4, 3, 3, 4, 4, 3, 3, 4, 4, 3, 3, 4, 4, 9998, 9998, 9998, 9998, 9998, 9998, 9998, 9998, 9998, 9998, 9998, 9998, 9998, 9998, 9998, 9998, 9998, 9998, 9998, 9998, 9998, 9998, 9998, 9998, 9998, 9998, 9998, 9998, 9998, 9998, 9998, 9998, 9998, 9998, 9998, 9998, 9998, 9998, 9998, 9998, 9998, 9998, 9998, 9998, 9998, 9998, 9998, 9998, 9998, 9998]]\n",
            "========================\n",
            "[[0, 3, 3, 4, 4, 107, 107, 194, 194, 5, 49, 3, 58, 4, 153, 3, 10, 4, 3, 3, 4, 4, 3, 3, 4, 4, 3, 3, 4, 4, 3, 3, 4, 4, 3, 3, 4, 4, 3, 3, 4, 4, 3, 3, 4, 4, 3, 3, 4, 4, 3, 9998, 9998, 9998, 9998, 9998, 9998, 9998, 9998, 9998, 9998, 9998, 9998, 9998, 9998, 9998, 9998, 9998, 9998, 9998, 9998, 9998, 9998, 9998, 9998, 9998, 9998, 9998, 9998, 9998, 9998, 9998, 9998, 9998, 9998, 9998, 9998, 9998, 9998, 9998, 9998, 9998, 9998, 9998, 9998, 9998, 9998, 9998, 9998, 9998]]\n",
            "========================\n",
            "[[0, 3, 3, 4, 4, 107, 107, 194, 194, 5, 49, 3, 58, 4, 153, 3, 10, 4, 3, 3, 4, 4, 3, 3, 4, 4, 3, 3, 4, 4, 3, 3, 4, 4, 3, 3, 4, 4, 3, 3, 4, 4, 3, 3, 4, 4, 3, 3, 4, 4, 3, 3, 9998, 9998, 9998, 9998, 9998, 9998, 9998, 9998, 9998, 9998, 9998, 9998, 9998, 9998, 9998, 9998, 9998, 9998, 9998, 9998, 9998, 9998, 9998, 9998, 9998, 9998, 9998, 9998, 9998, 9998, 9998, 9998, 9998, 9998, 9998, 9998, 9998, 9998, 9998, 9998, 9998, 9998, 9998, 9998, 9998, 9998, 9998, 9998]]\n",
            "========================\n",
            "[[0, 3, 3, 4, 4, 107, 107, 194, 194, 5, 49, 3, 58, 4, 153, 3, 10, 4, 3, 3, 4, 4, 3, 3, 4, 4, 3, 3, 4, 4, 3, 3, 4, 4, 3, 3, 4, 4, 3, 3, 4, 4, 3, 3, 4, 4, 3, 3, 4, 4, 3, 3, 4, 9998, 9998, 9998, 9998, 9998, 9998, 9998, 9998, 9998, 9998, 9998, 9998, 9998, 9998, 9998, 9998, 9998, 9998, 9998, 9998, 9998, 9998, 9998, 9998, 9998, 9998, 9998, 9998, 9998, 9998, 9998, 9998, 9998, 9998, 9998, 9998, 9998, 9998, 9998, 9998, 9998, 9998, 9998, 9998, 9998, 9998, 9998]]\n",
            "========================\n",
            "[[0, 3, 3, 4, 4, 107, 107, 194, 194, 5, 49, 3, 58, 4, 153, 3, 10, 4, 3, 3, 4, 4, 3, 3, 4, 4, 3, 3, 4, 4, 3, 3, 4, 4, 3, 3, 4, 4, 3, 3, 4, 4, 3, 3, 4, 4, 3, 3, 4, 4, 3, 3, 4, 4, 9998, 9998, 9998, 9998, 9998, 9998, 9998, 9998, 9998, 9998, 9998, 9998, 9998, 9998, 9998, 9998, 9998, 9998, 9998, 9998, 9998, 9998, 9998, 9998, 9998, 9998, 9998, 9998, 9998, 9998, 9998, 9998, 9998, 9998, 9998, 9998, 9998, 9998, 9998, 9998, 9998, 9998, 9998, 9998, 9998, 9998]]\n",
            "========================\n",
            "[[0, 3, 3, 4, 4, 107, 107, 194, 194, 5, 49, 3, 58, 4, 153, 3, 10, 4, 3, 3, 4, 4, 3, 3, 4, 4, 3, 3, 4, 4, 3, 3, 4, 4, 3, 3, 4, 4, 3, 3, 4, 4, 3, 3, 4, 4, 3, 3, 4, 4, 3, 3, 4, 4, 3, 9998, 9998, 9998, 9998, 9998, 9998, 9998, 9998, 9998, 9998, 9998, 9998, 9998, 9998, 9998, 9998, 9998, 9998, 9998, 9998, 9998, 9998, 9998, 9998, 9998, 9998, 9998, 9998, 9998, 9998, 9998, 9998, 9998, 9998, 9998, 9998, 9998, 9998, 9998, 9998, 9998, 9998, 9998, 9998, 9998]]\n",
            "========================\n",
            "[[0, 3, 3, 4, 4, 107, 107, 194, 194, 5, 49, 3, 58, 4, 153, 3, 10, 4, 3, 3, 4, 4, 3, 3, 4, 4, 3, 3, 4, 4, 3, 3, 4, 4, 3, 3, 4, 4, 3, 3, 4, 4, 3, 3, 4, 4, 3, 3, 4, 4, 3, 3, 4, 4, 3, 3, 9998, 9998, 9998, 9998, 9998, 9998, 9998, 9998, 9998, 9998, 9998, 9998, 9998, 9998, 9998, 9998, 9998, 9998, 9998, 9998, 9998, 9998, 9998, 9998, 9998, 9998, 9998, 9998, 9998, 9998, 9998, 9998, 9998, 9998, 9998, 9998, 9998, 9998, 9998, 9998, 9998, 9998, 9998, 9998]]\n",
            "========================\n",
            "[[0, 3, 3, 4, 4, 107, 107, 194, 194, 5, 49, 3, 58, 4, 153, 3, 10, 4, 3, 3, 4, 4, 3, 3, 4, 4, 3, 3, 4, 4, 3, 3, 4, 4, 3, 3, 4, 4, 3, 3, 4, 4, 3, 3, 4, 4, 3, 3, 4, 4, 3, 3, 4, 4, 3, 3, 4, 9998, 9998, 9998, 9998, 9998, 9998, 9998, 9998, 9998, 9998, 9998, 9998, 9998, 9998, 9998, 9998, 9998, 9998, 9998, 9998, 9998, 9998, 9998, 9998, 9998, 9998, 9998, 9998, 9998, 9998, 9998, 9998, 9998, 9998, 9998, 9998, 9998, 9998, 9998, 9998, 9998, 9998, 9998]]\n",
            "========================\n",
            "[[0, 3, 3, 4, 4, 107, 107, 194, 194, 5, 49, 3, 58, 4, 153, 3, 10, 4, 3, 3, 4, 4, 3, 3, 4, 4, 3, 3, 4, 4, 3, 3, 4, 4, 3, 3, 4, 4, 3, 3, 4, 4, 3, 3, 4, 4, 3, 3, 4, 4, 3, 3, 4, 4, 3, 3, 4, 4, 9998, 9998, 9998, 9998, 9998, 9998, 9998, 9998, 9998, 9998, 9998, 9998, 9998, 9998, 9998, 9998, 9998, 9998, 9998, 9998, 9998, 9998, 9998, 9998, 9998, 9998, 9998, 9998, 9998, 9998, 9998, 9998, 9998, 9998, 9998, 9998, 9998, 9998, 9998, 9998, 9998, 9998]]\n",
            "========================\n",
            "[[0, 3, 3, 4, 4, 107, 107, 194, 194, 5, 49, 3, 58, 4, 153, 3, 10, 4, 3, 3, 4, 4, 3, 3, 4, 4, 3, 3, 4, 4, 3, 3, 4, 4, 3, 3, 4, 4, 3, 3, 4, 4, 3, 3, 4, 4, 3, 3, 4, 4, 3, 3, 4, 4, 3, 3, 4, 4, 3, 9998, 9998, 9998, 9998, 9998, 9998, 9998, 9998, 9998, 9998, 9998, 9998, 9998, 9998, 9998, 9998, 9998, 9998, 9998, 9998, 9998, 9998, 9998, 9998, 9998, 9998, 9998, 9998, 9998, 9998, 9998, 9998, 9998, 9998, 9998, 9998, 9998, 9998, 9998, 9998, 9998]]\n",
            "========================\n",
            "[[0, 3, 3, 4, 4, 107, 107, 194, 194, 5, 49, 3, 58, 4, 153, 3, 10, 4, 3, 3, 4, 4, 3, 3, 4, 4, 3, 3, 4, 4, 3, 3, 4, 4, 3, 3, 4, 4, 3, 3, 4, 4, 3, 3, 4, 4, 3, 3, 4, 4, 3, 3, 4, 4, 3, 3, 4, 4, 3, 3, 9998, 9998, 9998, 9998, 9998, 9998, 9998, 9998, 9998, 9998, 9998, 9998, 9998, 9998, 9998, 9998, 9998, 9998, 9998, 9998, 9998, 9998, 9998, 9998, 9998, 9998, 9998, 9998, 9998, 9998, 9998, 9998, 9998, 9998, 9998, 9998, 9998, 9998, 9998, 9998]]\n",
            "========================\n",
            "[[0, 3, 3, 4, 4, 107, 107, 194, 194, 5, 49, 3, 58, 4, 153, 3, 10, 4, 3, 3, 4, 4, 3, 3, 4, 4, 3, 3, 4, 4, 3, 3, 4, 4, 3, 3, 4, 4, 3, 3, 4, 4, 3, 3, 4, 4, 3, 3, 4, 4, 3, 3, 4, 4, 3, 3, 4, 4, 3, 3, 4, 9998, 9998, 9998, 9998, 9998, 9998, 9998, 9998, 9998, 9998, 9998, 9998, 9998, 9998, 9998, 9998, 9998, 9998, 9998, 9998, 9998, 9998, 9998, 9998, 9998, 9998, 9998, 9998, 9998, 9998, 9998, 9998, 9998, 9998, 9998, 9998, 9998, 9998, 9998]]\n",
            "========================\n",
            "[[0, 3, 3, 4, 4, 107, 107, 194, 194, 5, 49, 3, 58, 4, 153, 3, 10, 4, 3, 3, 4, 4, 3, 3, 4, 4, 3, 3, 4, 4, 3, 3, 4, 4, 3, 3, 4, 4, 3, 3, 4, 4, 3, 3, 4, 4, 3, 3, 4, 4, 3, 3, 4, 4, 3, 3, 4, 4, 3, 3, 4, 4, 9998, 9998, 9998, 9998, 9998, 9998, 9998, 9998, 9998, 9998, 9998, 9998, 9998, 9998, 9998, 9998, 9998, 9998, 9998, 9998, 9998, 9998, 9998, 9998, 9998, 9998, 9998, 9998, 9998, 9998, 9998, 9998, 9998, 9998, 9998, 9998, 9998, 9998]]\n",
            "========================\n",
            "[[0, 3, 3, 4, 4, 107, 107, 194, 194, 5, 49, 3, 58, 4, 153, 3, 10, 4, 3, 3, 4, 4, 3, 3, 4, 4, 3, 3, 4, 4, 3, 3, 4, 4, 3, 3, 4, 4, 3, 3, 4, 4, 3, 3, 4, 4, 3, 3, 4, 4, 3, 3, 4, 4, 3, 3, 4, 4, 3, 3, 4, 4, 3, 9998, 9998, 9998, 9998, 9998, 9998, 9998, 9998, 9998, 9998, 9998, 9998, 9998, 9998, 9998, 9998, 9998, 9998, 9998, 9998, 9998, 9998, 9998, 9998, 9998, 9998, 9998, 9998, 9998, 9998, 9998, 9998, 9998, 9998, 9998, 9998, 9998]]\n",
            "========================\n",
            "[[0, 3, 3, 4, 4, 107, 107, 194, 194, 5, 49, 3, 58, 4, 153, 3, 10, 4, 3, 3, 4, 4, 3, 3, 4, 4, 3, 3, 4, 4, 3, 3, 4, 4, 3, 3, 4, 4, 3, 3, 4, 4, 3, 3, 4, 4, 3, 3, 4, 4, 3, 3, 4, 4, 3, 3, 4, 4, 3, 3, 4, 4, 3, 3, 9998, 9998, 9998, 9998, 9998, 9998, 9998, 9998, 9998, 9998, 9998, 9998, 9998, 9998, 9998, 9998, 9998, 9998, 9998, 9998, 9998, 9998, 9998, 9998, 9998, 9998, 9998, 9998, 9998, 9998, 9998, 9998, 9998, 9998, 9998, 9998]]\n",
            "========================\n",
            "[[0, 3, 3, 4, 4, 107, 107, 194, 194, 5, 49, 3, 58, 4, 153, 3, 10, 4, 3, 3, 4, 4, 3, 3, 4, 4, 3, 3, 4, 4, 3, 3, 4, 4, 3, 3, 4, 4, 3, 3, 4, 4, 3, 3, 4, 4, 3, 3, 4, 4, 3, 3, 4, 4, 3, 3, 4, 4, 3, 3, 4, 4, 3, 3, 4, 9998, 9998, 9998, 9998, 9998, 9998, 9998, 9998, 9998, 9998, 9998, 9998, 9998, 9998, 9998, 9998, 9998, 9998, 9998, 9998, 9998, 9998, 9998, 9998, 9998, 9998, 9998, 9998, 9998, 9998, 9998, 9998, 9998, 9998, 9998]]\n",
            "========================\n",
            "[[0, 3, 3, 4, 4, 107, 107, 194, 194, 5, 49, 3, 58, 4, 153, 3, 10, 4, 3, 3, 4, 4, 3, 3, 4, 4, 3, 3, 4, 4, 3, 3, 4, 4, 3, 3, 4, 4, 3, 3, 4, 4, 3, 3, 4, 4, 3, 3, 4, 4, 3, 3, 4, 4, 3, 3, 4, 4, 3, 3, 4, 4, 3, 3, 4, 4, 9998, 9998, 9998, 9998, 9998, 9998, 9998, 9998, 9998, 9998, 9998, 9998, 9998, 9998, 9998, 9998, 9998, 9998, 9998, 9998, 9998, 9998, 9998, 9998, 9998, 9998, 9998, 9998, 9998, 9998, 9998, 9998, 9998, 9998]]\n",
            "========================\n",
            "[[0, 3, 3, 4, 4, 107, 107, 194, 194, 5, 49, 3, 58, 4, 153, 3, 10, 4, 3, 3, 4, 4, 3, 3, 4, 4, 3, 3, 4, 4, 3, 3, 4, 4, 3, 3, 4, 4, 3, 3, 4, 4, 3, 3, 4, 4, 3, 3, 4, 4, 3, 3, 4, 4, 3, 3, 4, 4, 3, 3, 4, 4, 3, 3, 4, 4, 3, 9998, 9998, 9998, 9998, 9998, 9998, 9998, 9998, 9998, 9998, 9998, 9998, 9998, 9998, 9998, 9998, 9998, 9998, 9998, 9998, 9998, 9998, 9998, 9998, 9998, 9998, 9998, 9998, 9998, 9998, 9998, 9998, 9998]]\n",
            "========================\n",
            "[[0, 3, 3, 4, 4, 107, 107, 194, 194, 5, 49, 3, 58, 4, 153, 3, 10, 4, 3, 3, 4, 4, 3, 3, 4, 4, 3, 3, 4, 4, 3, 3, 4, 4, 3, 3, 4, 4, 3, 3, 4, 4, 3, 3, 4, 4, 3, 3, 4, 4, 3, 3, 4, 4, 3, 3, 4, 4, 3, 3, 4, 4, 3, 3, 4, 4, 3, 3, 9998, 9998, 9998, 9998, 9998, 9998, 9998, 9998, 9998, 9998, 9998, 9998, 9998, 9998, 9998, 9998, 9998, 9998, 9998, 9998, 9998, 9998, 9998, 9998, 9998, 9998, 9998, 9998, 9998, 9998, 9998, 9998]]\n",
            "========================\n",
            "[[0, 3, 3, 4, 4, 107, 107, 194, 194, 5, 49, 3, 58, 4, 153, 3, 10, 4, 3, 3, 4, 4, 3, 3, 4, 4, 3, 3, 4, 4, 3, 3, 4, 4, 3, 3, 4, 4, 3, 3, 4, 4, 3, 3, 4, 4, 3, 3, 4, 4, 3, 3, 4, 4, 3, 3, 4, 4, 3, 3, 4, 4, 3, 3, 4, 4, 3, 3, 4, 9998, 9998, 9998, 9998, 9998, 9998, 9998, 9998, 9998, 9998, 9998, 9998, 9998, 9998, 9998, 9998, 9998, 9998, 9998, 9998, 9998, 9998, 9998, 9998, 9998, 9998, 9998, 9998, 9998, 9998, 9998]]\n",
            "========================\n",
            "[[0, 3, 3, 4, 4, 107, 107, 194, 194, 5, 49, 3, 58, 4, 153, 3, 10, 4, 3, 3, 4, 4, 3, 3, 4, 4, 3, 3, 4, 4, 3, 3, 4, 4, 3, 3, 4, 4, 3, 3, 4, 4, 3, 3, 4, 4, 3, 3, 4, 4, 3, 3, 4, 4, 3, 3, 4, 4, 3, 3, 4, 4, 3, 3, 4, 4, 3, 3, 4, 4, 9998, 9998, 9998, 9998, 9998, 9998, 9998, 9998, 9998, 9998, 9998, 9998, 9998, 9998, 9998, 9998, 9998, 9998, 9998, 9998, 9998, 9998, 9998, 9998, 9998, 9998, 9998, 9998, 9998, 9998]]\n",
            "========================\n",
            "[[0, 3, 3, 4, 4, 107, 107, 194, 194, 5, 49, 3, 58, 4, 153, 3, 10, 4, 3, 3, 4, 4, 3, 3, 4, 4, 3, 3, 4, 4, 3, 3, 4, 4, 3, 3, 4, 4, 3, 3, 4, 4, 3, 3, 4, 4, 3, 3, 4, 4, 3, 3, 4, 4, 3, 3, 4, 4, 3, 3, 4, 4, 3, 3, 4, 4, 3, 3, 4, 4, 3, 9998, 9998, 9998, 9998, 9998, 9998, 9998, 9998, 9998, 9998, 9998, 9998, 9998, 9998, 9998, 9998, 9998, 9998, 9998, 9998, 9998, 9998, 9998, 9998, 9998, 9998, 9998, 9998, 9998]]\n",
            "========================\n",
            "[[0, 3, 3, 4, 4, 107, 107, 194, 194, 5, 49, 3, 58, 4, 153, 3, 10, 4, 3, 3, 4, 4, 3, 3, 4, 4, 3, 3, 4, 4, 3, 3, 4, 4, 3, 3, 4, 4, 3, 3, 4, 4, 3, 3, 4, 4, 3, 3, 4, 4, 3, 3, 4, 4, 3, 3, 4, 4, 3, 3, 4, 4, 3, 3, 4, 4, 3, 3, 4, 4, 3, 3, 9998, 9998, 9998, 9998, 9998, 9998, 9998, 9998, 9998, 9998, 9998, 9998, 9998, 9998, 9998, 9998, 9998, 9998, 9998, 9998, 9998, 9998, 9998, 9998, 9998, 9998, 9998, 9998]]\n",
            "========================\n",
            "[[0, 3, 3, 4, 4, 107, 107, 194, 194, 5, 49, 3, 58, 4, 153, 3, 10, 4, 3, 3, 4, 4, 3, 3, 4, 4, 3, 3, 4, 4, 3, 3, 4, 4, 3, 3, 4, 4, 3, 3, 4, 4, 3, 3, 4, 4, 3, 3, 4, 4, 3, 3, 4, 4, 3, 3, 4, 4, 3, 3, 4, 4, 3, 3, 4, 4, 3, 3, 4, 4, 3, 3, 4, 9998, 9998, 9998, 9998, 9998, 9998, 9998, 9998, 9998, 9998, 9998, 9998, 9998, 9998, 9998, 9998, 9998, 9998, 9998, 9998, 9998, 9998, 9998, 9998, 9998, 9998, 9998]]\n",
            "========================\n",
            "[[0, 3, 3, 4, 4, 107, 107, 194, 194, 5, 49, 3, 58, 4, 153, 3, 10, 4, 3, 3, 4, 4, 3, 3, 4, 4, 3, 3, 4, 4, 3, 3, 4, 4, 3, 3, 4, 4, 3, 3, 4, 4, 3, 3, 4, 4, 3, 3, 4, 4, 3, 3, 4, 4, 3, 3, 4, 4, 3, 3, 4, 4, 3, 3, 4, 4, 3, 3, 4, 4, 3, 3, 4, 4, 9998, 9998, 9998, 9998, 9998, 9998, 9998, 9998, 9998, 9998, 9998, 9998, 9998, 9998, 9998, 9998, 9998, 9998, 9998, 9998, 9998, 9998, 9998, 9998, 9998, 9998]]\n",
            "========================\n",
            "[[0, 3, 3, 4, 4, 107, 107, 194, 194, 5, 49, 3, 58, 4, 153, 3, 10, 4, 3, 3, 4, 4, 3, 3, 4, 4, 3, 3, 4, 4, 3, 3, 4, 4, 3, 3, 4, 4, 3, 3, 4, 4, 3, 3, 4, 4, 3, 3, 4, 4, 3, 3, 4, 4, 3, 3, 4, 4, 3, 3, 4, 4, 3, 3, 4, 4, 3, 3, 4, 4, 3, 3, 4, 4, 3, 9998, 9998, 9998, 9998, 9998, 9998, 9998, 9998, 9998, 9998, 9998, 9998, 9998, 9998, 9998, 9998, 9998, 9998, 9998, 9998, 9998, 9998, 9998, 9998, 9998]]\n",
            "========================\n",
            "[[0, 3, 3, 4, 4, 107, 107, 194, 194, 5, 49, 3, 58, 4, 153, 3, 10, 4, 3, 3, 4, 4, 3, 3, 4, 4, 3, 3, 4, 4, 3, 3, 4, 4, 3, 3, 4, 4, 3, 3, 4, 4, 3, 3, 4, 4, 3, 3, 4, 4, 3, 3, 4, 4, 3, 3, 4, 4, 3, 3, 4, 4, 3, 3, 4, 4, 3, 3, 4, 4, 3, 3, 4, 4, 3, 3, 9998, 9998, 9998, 9998, 9998, 9998, 9998, 9998, 9998, 9998, 9998, 9998, 9998, 9998, 9998, 9998, 9998, 9998, 9998, 9998, 9998, 9998, 9998, 9998]]\n",
            "========================\n",
            "[[0, 3, 3, 4, 4, 107, 107, 194, 194, 5, 49, 3, 58, 4, 153, 3, 10, 4, 3, 3, 4, 4, 3, 3, 4, 4, 3, 3, 4, 4, 3, 3, 4, 4, 3, 3, 4, 4, 3, 3, 4, 4, 3, 3, 4, 4, 3, 3, 4, 4, 3, 3, 4, 4, 3, 3, 4, 4, 3, 3, 4, 4, 3, 3, 4, 4, 3, 3, 4, 4, 3, 3, 4, 4, 3, 3, 4, 9998, 9998, 9998, 9998, 9998, 9998, 9998, 9998, 9998, 9998, 9998, 9998, 9998, 9998, 9998, 9998, 9998, 9998, 9998, 9998, 9998, 9998, 9998]]\n",
            "========================\n",
            "[[0, 3, 3, 4, 4, 107, 107, 194, 194, 5, 49, 3, 58, 4, 153, 3, 10, 4, 3, 3, 4, 4, 3, 3, 4, 4, 3, 3, 4, 4, 3, 3, 4, 4, 3, 3, 4, 4, 3, 3, 4, 4, 3, 3, 4, 4, 3, 3, 4, 4, 3, 3, 4, 4, 3, 3, 4, 4, 3, 3, 4, 4, 3, 3, 4, 4, 3, 3, 4, 4, 3, 3, 4, 4, 3, 3, 4, 4, 9998, 9998, 9998, 9998, 9998, 9998, 9998, 9998, 9998, 9998, 9998, 9998, 9998, 9998, 9998, 9998, 9998, 9998, 9998, 9998, 9998, 9998]]\n",
            "========================\n",
            "[[0, 3, 3, 4, 4, 107, 107, 194, 194, 5, 49, 3, 58, 4, 153, 3, 10, 4, 3, 3, 4, 4, 3, 3, 4, 4, 3, 3, 4, 4, 3, 3, 4, 4, 3, 3, 4, 4, 3, 3, 4, 4, 3, 3, 4, 4, 3, 3, 4, 4, 3, 3, 4, 4, 3, 3, 4, 4, 3, 3, 4, 4, 3, 3, 4, 4, 3, 3, 4, 4, 3, 3, 4, 4, 3, 3, 4, 4, 3, 9998, 9998, 9998, 9998, 9998, 9998, 9998, 9998, 9998, 9998, 9998, 9998, 9998, 9998, 9998, 9998, 9998, 9998, 9998, 9998, 9998]]\n",
            "========================\n",
            "[[0, 3, 3, 4, 4, 107, 107, 194, 194, 5, 49, 3, 58, 4, 153, 3, 10, 4, 3, 3, 4, 4, 3, 3, 4, 4, 3, 3, 4, 4, 3, 3, 4, 4, 3, 3, 4, 4, 3, 3, 4, 4, 3, 3, 4, 4, 3, 3, 4, 4, 3, 3, 4, 4, 3, 3, 4, 4, 3, 3, 4, 4, 3, 3, 4, 4, 3, 3, 4, 4, 3, 3, 4, 4, 3, 3, 4, 4, 3, 3, 9998, 9998, 9998, 9998, 9998, 9998, 9998, 9998, 9998, 9998, 9998, 9998, 9998, 9998, 9998, 9998, 9998, 9998, 9998, 9998]]\n",
            "========================\n",
            "[[0, 3, 3, 4, 4, 107, 107, 194, 194, 5, 49, 3, 58, 4, 153, 3, 10, 4, 3, 3, 4, 4, 3, 3, 4, 4, 3, 3, 4, 4, 3, 3, 4, 4, 3, 3, 4, 4, 3, 3, 4, 4, 3, 3, 4, 4, 3, 3, 4, 4, 3, 3, 4, 4, 3, 3, 4, 4, 3, 3, 4, 4, 3, 3, 4, 4, 3, 3, 4, 4, 3, 3, 4, 4, 3, 3, 4, 4, 3, 3, 4, 9998, 9998, 9998, 9998, 9998, 9998, 9998, 9998, 9998, 9998, 9998, 9998, 9998, 9998, 9998, 9998, 9998, 9998, 9998]]\n",
            "========================\n",
            "[[0, 3, 3, 4, 4, 107, 107, 194, 194, 5, 49, 3, 58, 4, 153, 3, 10, 4, 3, 3, 4, 4, 3, 3, 4, 4, 3, 3, 4, 4, 3, 3, 4, 4, 3, 3, 4, 4, 3, 3, 4, 4, 3, 3, 4, 4, 3, 3, 4, 4, 3, 3, 4, 4, 3, 3, 4, 4, 3, 3, 4, 4, 3, 3, 4, 4, 3, 3, 4, 4, 3, 3, 4, 4, 3, 3, 4, 4, 3, 3, 4, 4, 9998, 9998, 9998, 9998, 9998, 9998, 9998, 9998, 9998, 9998, 9998, 9998, 9998, 9998, 9998, 9998, 9998, 9998]]\n",
            "========================\n",
            "[[0, 3, 3, 4, 4, 107, 107, 194, 194, 5, 49, 3, 58, 4, 153, 3, 10, 4, 3, 3, 4, 4, 3, 3, 4, 4, 3, 3, 4, 4, 3, 3, 4, 4, 3, 3, 4, 4, 3, 3, 4, 4, 3, 3, 4, 4, 3, 3, 4, 4, 3, 3, 4, 4, 3, 3, 4, 4, 3, 3, 4, 4, 3, 3, 4, 4, 3, 3, 4, 4, 3, 3, 4, 4, 3, 3, 4, 4, 3, 3, 4, 4, 3, 9998, 9998, 9998, 9998, 9998, 9998, 9998, 9998, 9998, 9998, 9998, 9998, 9998, 9998, 9998, 9998, 9998]]\n",
            "========================\n",
            "[[0, 3, 3, 4, 4, 107, 107, 194, 194, 5, 49, 3, 58, 4, 153, 3, 10, 4, 3, 3, 4, 4, 3, 3, 4, 4, 3, 3, 4, 4, 3, 3, 4, 4, 3, 3, 4, 4, 3, 3, 4, 4, 3, 3, 4, 4, 3, 3, 4, 4, 3, 3, 4, 4, 3, 3, 4, 4, 3, 3, 4, 4, 3, 3, 4, 4, 3, 3, 4, 4, 3, 3, 4, 4, 3, 3, 4, 4, 3, 3, 4, 4, 3, 3, 9998, 9998, 9998, 9998, 9998, 9998, 9998, 9998, 9998, 9998, 9998, 9998, 9998, 9998, 9998, 9998]]\n",
            "========================\n",
            "[[0, 3, 3, 4, 4, 107, 107, 194, 194, 5, 49, 3, 58, 4, 153, 3, 10, 4, 3, 3, 4, 4, 3, 3, 4, 4, 3, 3, 4, 4, 3, 3, 4, 4, 3, 3, 4, 4, 3, 3, 4, 4, 3, 3, 4, 4, 3, 3, 4, 4, 3, 3, 4, 4, 3, 3, 4, 4, 3, 3, 4, 4, 3, 3, 4, 4, 3, 3, 4, 4, 3, 3, 4, 4, 3, 3, 4, 4, 3, 3, 4, 4, 3, 3, 4, 9998, 9998, 9998, 9998, 9998, 9998, 9998, 9998, 9998, 9998, 9998, 9998, 9998, 9998, 9998]]\n",
            "========================\n",
            "[[0, 3, 3, 4, 4, 107, 107, 194, 194, 5, 49, 3, 58, 4, 153, 3, 10, 4, 3, 3, 4, 4, 3, 3, 4, 4, 3, 3, 4, 4, 3, 3, 4, 4, 3, 3, 4, 4, 3, 3, 4, 4, 3, 3, 4, 4, 3, 3, 4, 4, 3, 3, 4, 4, 3, 3, 4, 4, 3, 3, 4, 4, 3, 3, 4, 4, 3, 3, 4, 4, 3, 3, 4, 4, 3, 3, 4, 4, 3, 3, 4, 4, 3, 3, 4, 4, 9998, 9998, 9998, 9998, 9998, 9998, 9998, 9998, 9998, 9998, 9998, 9998, 9998, 9998]]\n",
            "========================\n",
            "[[0, 3, 3, 4, 4, 107, 107, 194, 194, 5, 49, 3, 58, 4, 153, 3, 10, 4, 3, 3, 4, 4, 3, 3, 4, 4, 3, 3, 4, 4, 3, 3, 4, 4, 3, 3, 4, 4, 3, 3, 4, 4, 3, 3, 4, 4, 3, 3, 4, 4, 3, 3, 4, 4, 3, 3, 4, 4, 3, 3, 4, 4, 3, 3, 4, 4, 3, 3, 4, 4, 3, 3, 4, 4, 3, 3, 4, 4, 3, 3, 4, 4, 3, 3, 4, 4, 3, 9998, 9998, 9998, 9998, 9998, 9998, 9998, 9998, 9998, 9998, 9998, 9998, 9998]]\n",
            "========================\n",
            "[[0, 3, 3, 4, 4, 107, 107, 194, 194, 5, 49, 3, 58, 4, 153, 3, 10, 4, 3, 3, 4, 4, 3, 3, 4, 4, 3, 3, 4, 4, 3, 3, 4, 4, 3, 3, 4, 4, 3, 3, 4, 4, 3, 3, 4, 4, 3, 3, 4, 4, 3, 3, 4, 4, 3, 3, 4, 4, 3, 3, 4, 4, 3, 3, 4, 4, 3, 3, 4, 4, 3, 3, 4, 4, 3, 3, 4, 4, 3, 3, 4, 4, 3, 3, 4, 4, 3, 3, 9998, 9998, 9998, 9998, 9998, 9998, 9998, 9998, 9998, 9998, 9998, 9998]]\n",
            "========================\n",
            "[[0, 3, 3, 4, 4, 107, 107, 194, 194, 5, 49, 3, 58, 4, 153, 3, 10, 4, 3, 3, 4, 4, 3, 3, 4, 4, 3, 3, 4, 4, 3, 3, 4, 4, 3, 3, 4, 4, 3, 3, 4, 4, 3, 3, 4, 4, 3, 3, 4, 4, 3, 3, 4, 4, 3, 3, 4, 4, 3, 3, 4, 4, 3, 3, 4, 4, 3, 3, 4, 4, 3, 3, 4, 4, 3, 3, 4, 4, 3, 3, 4, 4, 3, 3, 4, 4, 3, 3, 4, 9998, 9998, 9998, 9998, 9998, 9998, 9998, 9998, 9998, 9998, 9998]]\n",
            "========================\n",
            "[[0, 3, 3, 4, 4, 107, 107, 194, 194, 5, 49, 3, 58, 4, 153, 3, 10, 4, 3, 3, 4, 4, 3, 3, 4, 4, 3, 3, 4, 4, 3, 3, 4, 4, 3, 3, 4, 4, 3, 3, 4, 4, 3, 3, 4, 4, 3, 3, 4, 4, 3, 3, 4, 4, 3, 3, 4, 4, 3, 3, 4, 4, 3, 3, 4, 4, 3, 3, 4, 4, 3, 3, 4, 4, 3, 3, 4, 4, 3, 3, 4, 4, 3, 3, 4, 4, 3, 3, 4, 4, 9998, 9998, 9998, 9998, 9998, 9998, 9998, 9998, 9998, 9998]]\n",
            "========================\n",
            "[[0, 3, 3, 4, 4, 107, 107, 194, 194, 5, 49, 3, 58, 4, 153, 3, 10, 4, 3, 3, 4, 4, 3, 3, 4, 4, 3, 3, 4, 4, 3, 3, 4, 4, 3, 3, 4, 4, 3, 3, 4, 4, 3, 3, 4, 4, 3, 3, 4, 4, 3, 3, 4, 4, 3, 3, 4, 4, 3, 3, 4, 4, 3, 3, 4, 4, 3, 3, 4, 4, 3, 3, 4, 4, 3, 3, 4, 4, 3, 3, 4, 4, 3, 3, 4, 4, 3, 3, 4, 4, 3, 9998, 9998, 9998, 9998, 9998, 9998, 9998, 9998, 9998]]\n",
            "========================\n",
            "[[0, 3, 3, 4, 4, 107, 107, 194, 194, 5, 49, 3, 58, 4, 153, 3, 10, 4, 3, 3, 4, 4, 3, 3, 4, 4, 3, 3, 4, 4, 3, 3, 4, 4, 3, 3, 4, 4, 3, 3, 4, 4, 3, 3, 4, 4, 3, 3, 4, 4, 3, 3, 4, 4, 3, 3, 4, 4, 3, 3, 4, 4, 3, 3, 4, 4, 3, 3, 4, 4, 3, 3, 4, 4, 3, 3, 4, 4, 3, 3, 4, 4, 3, 3, 4, 4, 3, 3, 4, 4, 3, 3, 9998, 9998, 9998, 9998, 9998, 9998, 9998, 9998]]\n",
            "========================\n",
            "[[0, 3, 3, 4, 4, 107, 107, 194, 194, 5, 49, 3, 58, 4, 153, 3, 10, 4, 3, 3, 4, 4, 3, 3, 4, 4, 3, 3, 4, 4, 3, 3, 4, 4, 3, 3, 4, 4, 3, 3, 4, 4, 3, 3, 4, 4, 3, 3, 4, 4, 3, 3, 4, 4, 3, 3, 4, 4, 3, 3, 4, 4, 3, 3, 4, 4, 3, 3, 4, 4, 3, 3, 4, 4, 3, 3, 4, 4, 3, 3, 4, 4, 3, 3, 4, 4, 3, 3, 4, 4, 3, 3, 4, 9998, 9998, 9998, 9998, 9998, 9998, 9998]]\n",
            "========================\n",
            "[[0, 3, 3, 4, 4, 107, 107, 194, 194, 5, 49, 3, 58, 4, 153, 3, 10, 4, 3, 3, 4, 4, 3, 3, 4, 4, 3, 3, 4, 4, 3, 3, 4, 4, 3, 3, 4, 4, 3, 3, 4, 4, 3, 3, 4, 4, 3, 3, 4, 4, 3, 3, 4, 4, 3, 3, 4, 4, 3, 3, 4, 4, 3, 3, 4, 4, 3, 3, 4, 4, 3, 3, 4, 4, 3, 3, 4, 4, 3, 3, 4, 4, 3, 3, 4, 4, 3, 3, 4, 4, 3, 3, 4, 4, 9998, 9998, 9998, 9998, 9998, 9998]]\n",
            "========================\n",
            "[[0, 3, 3, 4, 4, 107, 107, 194, 194, 5, 49, 3, 58, 4, 153, 3, 10, 4, 3, 3, 4, 4, 3, 3, 4, 4, 3, 3, 4, 4, 3, 3, 4, 4, 3, 3, 4, 4, 3, 3, 4, 4, 3, 3, 4, 4, 3, 3, 4, 4, 3, 3, 4, 4, 3, 3, 4, 4, 3, 3, 4, 4, 3, 3, 4, 4, 3, 3, 4, 4, 3, 3, 4, 4, 3, 3, 4, 4, 3, 3, 4, 4, 3, 3, 4, 4, 3, 3, 4, 4, 3, 3, 4, 4, 3, 9998, 9998, 9998, 9998, 9998]]\n",
            "========================\n",
            "[[0, 3, 3, 4, 4, 107, 107, 194, 194, 5, 49, 3, 58, 4, 153, 3, 10, 4, 3, 3, 4, 4, 3, 3, 4, 4, 3, 3, 4, 4, 3, 3, 4, 4, 3, 3, 4, 4, 3, 3, 4, 4, 3, 3, 4, 4, 3, 3, 4, 4, 3, 3, 4, 4, 3, 3, 4, 4, 3, 3, 4, 4, 3, 3, 4, 4, 3, 3, 4, 4, 3, 3, 4, 4, 3, 3, 4, 4, 3, 3, 4, 4, 3, 3, 4, 4, 3, 3, 4, 4, 3, 3, 4, 4, 3, 3, 9998, 9998, 9998, 9998]]\n",
            "========================\n",
            "[[0, 3, 3, 4, 4, 107, 107, 194, 194, 5, 49, 3, 58, 4, 153, 3, 10, 4, 3, 3, 4, 4, 3, 3, 4, 4, 3, 3, 4, 4, 3, 3, 4, 4, 3, 3, 4, 4, 3, 3, 4, 4, 3, 3, 4, 4, 3, 3, 4, 4, 3, 3, 4, 4, 3, 3, 4, 4, 3, 3, 4, 4, 3, 3, 4, 4, 3, 3, 4, 4, 3, 3, 4, 4, 3, 3, 4, 4, 3, 3, 4, 4, 3, 3, 4, 4, 3, 3, 4, 4, 3, 3, 4, 4, 3, 3, 4, 9998, 9998, 9998]]\n",
            "========================\n",
            "[[0, 3, 3, 4, 4, 107, 107, 194, 194, 5, 49, 3, 58, 4, 153, 3, 10, 4, 3, 3, 4, 4, 3, 3, 4, 4, 3, 3, 4, 4, 3, 3, 4, 4, 3, 3, 4, 4, 3, 3, 4, 4, 3, 3, 4, 4, 3, 3, 4, 4, 3, 3, 4, 4, 3, 3, 4, 4, 3, 3, 4, 4, 3, 3, 4, 4, 3, 3, 4, 4, 3, 3, 4, 4, 3, 3, 4, 4, 3, 3, 4, 4, 3, 3, 4, 4, 3, 3, 4, 4, 3, 3, 4, 4, 3, 3, 4, 4, 9998, 9998]]\n",
            "========================\n",
            "[[0, 3, 3, 4, 4, 107, 107, 194, 194, 5, 49, 3, 58, 4, 153, 3, 10, 4, 3, 3, 4, 4, 3, 3, 4, 4, 3, 3, 4, 4, 3, 3, 4, 4, 3, 3, 4, 4, 3, 3, 4, 4, 3, 3, 4, 4, 3, 3, 4, 4, 3, 3, 4, 4, 3, 3, 4, 4, 3, 3, 4, 4, 3, 3, 4, 4, 3, 3, 4, 4, 3, 3, 4, 4, 3, 3, 4, 4, 3, 3, 4, 4, 3, 3, 4, 4, 3, 3, 4, 4, 3, 3, 4, 4, 3, 3, 4, 4, 3, 9998]]\n",
            "========================\n",
            "[[0, 3, 3, 4, 4, 107, 107, 194, 194, 5, 49, 3, 58, 4, 153, 3, 10, 4, 3, 3, 4, 4, 3, 3, 4, 4, 3, 3, 4, 4, 3, 3, 4, 4, 3, 3, 4, 4, 3, 3, 4, 4, 3, 3, 4, 4, 3, 3, 4, 4, 3, 3, 4, 4, 3, 3, 4, 4, 3, 3, 4, 4, 3, 3, 4, 4, 3, 3, 4, 4, 3, 3, 4, 4, 3, 3, 4, 4, 3, 3, 4, 4, 3, 3, 4, 4, 3, 3, 4, 4, 3, 3, 4, 4, 3, 3, 4, 4, 3, 3]]\n",
            "The final summary:\n",
            "<unk>  ↑↑ police police say say the they  were↑ found  a↑  ↑↑  ↑↑  ↑↑  ↑↑  ↑↑  ↑↑  ↑↑  ↑↑  ↑↑  ↑↑  ↑↑  ↑↑  ↑↑  ↑↑  ↑↑  ↑↑  ↑↑  ↑↑  ↑↑  ↑↑  ↑\n"
          ]
        }
      ],
      "source": [
        "article_text = \"A 34-year-old Chicago police officer has been shot in the shoulder during the execution of a search warrant in the Humboldt Park neighborhood, police say. The alleged shooter, a 19-year-old woman, was in custody. The shooting happened about 7:20 p.m. in the 2700 block of West Potomac Avenue, police said. The officer, part of the Grand Central District tactical unit, was taken to Stroger Hospital. While officers were serving a \\\"typical\\\" search warrant for \\\"narcotics and illegal weapons\\\" and were attempting to reach a rear door, \\\"a shot was fired,\\\" striking the tactical officer in the shoulder, said Chicago police Superintendent Eddie Johnson during a news briefing outside the hospital. He said the officer, who has about four or five years on the job, was \\\"stable\\\" but in critical condition. \\\"His family is here,\\\" Johnson said. \\\"He’s talking a lot and just wants the ordeal to be over.\\\" He said this incident serves as just another reminder of how dangerous a police officer’s job is. At the scene of the shooting, crime tape closed Potomac from Washtenaw Avenue to California Avenue and encompassed the alley west of the brick apartment building, south of Potomac. Dozens of officers stood in the alley, while even more walked up and down the street. Neighbors gathered at the edge of the yellow tape on the sidewalk along California and watched them work. Standing next to a man, a woman talked to police in the crime scene, across the street. \\\"We're not under arrest? We can go?\\\" the woman checked with officers. They told her she could go, and she and the man walked underneath the yellow tape and out of the crime scene.\"\n",
        "input_length = 400\n",
        "output_length = 100\n",
        "\n",
        "# Process the capitalization with the preprocess_capitalization of the capita package.\n",
        "article_text = capita.preprocess_capitalization(article_text)\n",
        "\n",
        "# Numerize the tokens of the processed text using the loaded sentencepiece model.\n",
        "numerized = sp.EncodeAsIds(article_text)\n",
        "\n",
        "# Pad the sequence and keep the mask of the input\n",
        "padded, mask = pad_sequence(numerized, pad_index, input_length)\n",
        "\n",
        "# Making the news article into a batch of size one, to be fed to the neural network.\n",
        "encoder_input = np.array([padded])\n",
        "encoder_mask = np.array([mask])\n",
        "\n",
        "decoded_so_far = [0]\n",
        "\n",
        "for j in range(output_length):\n",
        "    padded_decoder_input, decoder_mask = pad_sequence(decoded_so_far, pad_index, output_length)\n",
        "    padded_decoder_input = [padded_decoder_input]\n",
        "    decoder_mask = [decoder_mask]\n",
        "    print(\"========================\")\n",
        "    print(padded_decoder_input)\n",
        "    # Use the model to find the distrbution over the vocabulary for the next word\n",
        "    batch = (encoder_input, encoder_mask, padded_decoder_input, decoder_mask)\n",
        "    batch_input, batch_input_mask, batch_output, batch_output_mask = [torch.tensor(tensor) for tensor in batch]\n",
        "    batch = {'source_sequence': batch_input,      'target_sequence': batch_output,\n",
        "             'encoder_mask':    batch_input_mask, 'decoder_mask':    batch_output_mask}\n",
        "    logits = trainer.model(**batch).cpu().detach().numpy()\n",
        "\n",
        "    chosen_words = np.argmax(logits, axis=2) # Take the argmax, getting the most likely next word\n",
        "    decoded_so_far.append(int(chosen_words[0, j])) # We add it to the summary so far\n",
        "\n",
        "\n",
        "print(\"The final summary:\")\n",
        "print(\"\".join([vocab[i] for i in decoded_so_far]).replace(\"▁\", \" \"))"
      ]
    },
    {
      "cell_type": "markdown",
      "metadata": {
        "id": "4cQee2cnFLrY"
      },
      "source": [
        "## Word vectors"
      ]
    },
    {
      "cell_type": "markdown",
      "metadata": {
        "id": "quAhOWx-FLrZ"
      },
      "source": [
        "The model we train learns word representations for each word in our vocabulary. A word represention is a vector of **dim** size.\n",
        "\n",
        "It is common in NLP to inspect the word vectors, as some properties of language often appear in the embedding structure.\n",
        "\n",
        "\n",
        "We are going to load the word embeddings learned by our model, and inspect it.\n",
        "Because our network was not trained for long, we are going for the simplest patterns, but if we let the network train longer, it learns more complex, semantic patterns."
      ]
    },
    {
      "cell_type": "code",
      "execution_count": 23,
      "metadata": {
        "colab": {
          "base_uri": "https://localhost:8080/"
        },
        "id": "Sny1RT7cFLrZ",
        "outputId": "a8298950-a4ff-42cc-ac56-3f32bf0948c7"
      },
      "outputs": [
        {
          "output_type": "stream",
          "name": "stdout",
          "text": [
            "The embedding matrix has shape: (10000, 256)\n",
            "The vocabulary has length: 10000\n"
          ]
        }
      ],
      "source": [
        "# We help you load the matrix, as it is hidden within the Transformer structure.\n",
        "E = trainer.model.encoder.embedding_layer.embedding.weight.cpu().detach().numpy()\n",
        "\n",
        "print(\"The embedding matrix has shape:\", E.shape)\n",
        "print(\"The vocabulary has length:\", len(vocab))"
      ]
    },
    {
      "cell_type": "markdown",
      "metadata": {
        "id": "MR4SX887FLra"
      },
      "source": [
        "Pronouns serve very similar purposes, therefore we should expect the representation of \"he\" and \"she\" to be similar, and have cosine similarity.\n",
        "\n",
        "- **TODO**:  Find the cosine similarity between the vectors that represent words \"she\" and \"he\".\n",
        "- **TODO**:  Find the cosine similarity between the vectors that represent words \"more\" and \"less\".\n",
        "\n",
        "We can contrast that with the cosine similarity to a random, non-related word, like \"ball\", or \"gorilla\".\n",
        "- **TODO**: Compute the cosine similarity between \"she\" and \"ball\".\n",
        "- **TODO**: Compute the cosine similarity between \"more\" and \"protest\".\n",
        "\n"
      ]
    },
    {
      "cell_type": "code",
      "execution_count": 47,
      "metadata": {
        "colab": {
          "base_uri": "https://localhost:8080/"
        },
        "id": "4wR1tDGMFLrb",
        "outputId": "e606a80b-8d18-4954-9735-3f0e17899ce1"
      },
      "outputs": [
        {
          "output_type": "stream",
          "name": "stdout",
          "text": [
            "gun  vs.  knife similarity: -0.0046270206\n",
            "she  vs.  he similarity: 0.021105306\n",
            "more  vs.  less similarity: -0.104122266\n",
            "she  vs.  ball similarity: -0.11319418\n",
            "more  vs.  gorilla similarity: -0.04415771\n"
          ]
        }
      ],
      "source": [
        "def cosine_sim(v1, v2):\n",
        "    # return F.cosine_similarity(torch.Tensor([v1]), torch.Tensor([v2]))\n",
        "    return np.dot(v1, v2) / (np.sqrt(np.sum(v1**2)) * np.sqrt(np.sum(v2**2)))\n",
        "\n",
        "for w1, w2 in [(\"gun\", \"knife\"), (\"she\", \"he\"), (\"more\", \"less\"), (\"she\", \"ball\"), (\"more\", \"gorilla\")]:\n",
        "    w1_index = vocab.index('▁'+w1) # The index of the first  word in our vocabulary\n",
        "    w2_index = vocab.index('▁'+w2) # The index of the second word in our vocabulary\n",
        "    w1_vec = E[w1_index] # Get the embedding vector of the first  word\n",
        "    w2_vec = E[w2_index] # Get the embedding vector of the second word\n",
        "\n",
        "    print(w1,\" vs. \", w2, \"similarity:\",cosine_sim(w1_vec, w2_vec))"
      ]
    },
    {
      "cell_type": "markdown",
      "metadata": {
        "id": "5kJaau6wFLrc"
      },
      "source": [
        "These effects are unfortunately small, as we have only trained the network on a few hours on a few thousand articles.\n",
        "However, the same model trained for longer on more data exhibits many interesting semantic and syntactic patterns, such as:\n",
        "\n",
        "- Words vectors with high cosine similarity usually represent words that have semantic similarity (such as duck and pigeon)\n",
        "- Analogies can occur, a famous case is that of: woman - man + king ≈ queen. Or france - paris + rome ≈ italy.\n",
        "\n",
        "- Looking at top-k similar words can help find synonyms.\n",
        "\n",
        "To read examples of more complex patterns that appear in word embedding spaces, read [this blog](https://explosion.ai/blog/sense2vec-with-spacy). To play with a live demo and try similarities on rich word embeddings, [go here.](https://explosion.ai/demos/sense2vec)"
      ]
    },
    {
      "cell_type": "code",
      "execution_count": null,
      "metadata": {
        "id": "lHxM8eDmFLrd"
      },
      "outputs": [],
      "source": []
    }
  ],
  "metadata": {
    "anaconda-cloud": {},
    "colab": {
      "name": "2 Summarization.ipynb",
      "provenance": [],
      "toc_visible": true
    },
    "kernelspec": {
      "display_name": "Python 3",
      "name": "python3"
    },
    "language_info": {
      "codemirror_mode": {
        "name": "ipython",
        "version": 3
      },
      "file_extension": ".py",
      "mimetype": "text/x-python",
      "name": "python",
      "nbconvert_exporter": "python",
      "pygments_lexer": "ipython3",
      "version": "3.10.12"
    }
  },
  "nbformat": 4,
  "nbformat_minor": 0
}