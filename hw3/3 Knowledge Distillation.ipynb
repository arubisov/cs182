{
  "cells": [
    {
      "cell_type": "markdown",
      "metadata": {
        "id": "e1tA4eBQ-p7H"
      },
      "source": [
        "# Knowledge Distillation\n",
        "\n",
        "This notebook is an experimental part of the homework and not worth points. It is not guaranteed to work correctly.\n",
        "\n",
        "A trend in Natural Language Processing is to pretrain large models that can then be fine-tuned for specific problems. However the state-of-the-art models can be quite large: the \"base\" BERT model has 110M parameters and the \"large\" BERT model has 350M parameters! In many applications, such as client-side mobile apps, we do not have the compute to run the BERT model even in an evaluation setting.\n",
        "\n",
        "Here we look at a method for reducing model size, called Knowledge Distillation. Specifically, we will follow the paper **[TinyBERT: Distilling BERT for Natural Language Understanding](https://arxiv.org/abs/1909.10351)**.\n",
        "In this assignment you will:\n",
        "- Use an off-the-shelf API to replicate a paper method\n",
        "- Implement loss functions for KD as specified by the paper\n",
        "\n",
        "## Before You Get Started\n",
        "\n",
        "Read the paper. Also, the API we will be using is the Transformers API released by HuggingFace. It may be helpful to look at the **[documentation](https://huggingface.co/transformers/)**."
      ]
    },
    {
      "cell_type": "markdown",
      "metadata": {
        "id": "xQIyP__s-p7g"
      },
      "source": [
        "# Library Imports"
      ]
    },
    {
      "cell_type": "code",
      "execution_count": 1,
      "metadata": {
        "id": "UO1rSB3s_Ed5",
        "colab": {
          "base_uri": "https://localhost:8080/"
        },
        "outputId": "69ffa74d-584a-4f56-ad55-80ce38beeba3"
      },
      "outputs": [
        {
          "output_type": "stream",
          "name": "stdout",
          "text": [
            "Collecting transformers\n",
            "  Downloading transformers-4.33.1-py3-none-any.whl (7.6 MB)\n",
            "\u001b[2K     \u001b[90m━━━━━━━━━━━━━━━━━━━━━━━━━━━━━━━━━━━━━━━━\u001b[0m \u001b[32m7.6/7.6 MB\u001b[0m \u001b[31m13.4 MB/s\u001b[0m eta \u001b[36m0:00:00\u001b[0m\n",
            "\u001b[?25hRequirement already satisfied: filelock in /usr/local/lib/python3.10/dist-packages (from transformers) (3.12.2)\n",
            "Collecting huggingface-hub<1.0,>=0.15.1 (from transformers)\n",
            "  Downloading huggingface_hub-0.17.1-py3-none-any.whl (294 kB)\n",
            "\u001b[2K     \u001b[90m━━━━━━━━━━━━━━━━━━━━━━━━━━━━━━━━━━━━━━\u001b[0m \u001b[32m294.8/294.8 kB\u001b[0m \u001b[31m31.3 MB/s\u001b[0m eta \u001b[36m0:00:00\u001b[0m\n",
            "\u001b[?25hRequirement already satisfied: numpy>=1.17 in /usr/local/lib/python3.10/dist-packages (from transformers) (1.23.5)\n",
            "Requirement already satisfied: packaging>=20.0 in /usr/local/lib/python3.10/dist-packages (from transformers) (23.1)\n",
            "Requirement already satisfied: pyyaml>=5.1 in /usr/local/lib/python3.10/dist-packages (from transformers) (6.0.1)\n",
            "Requirement already satisfied: regex!=2019.12.17 in /usr/local/lib/python3.10/dist-packages (from transformers) (2023.6.3)\n",
            "Requirement already satisfied: requests in /usr/local/lib/python3.10/dist-packages (from transformers) (2.31.0)\n",
            "Collecting tokenizers!=0.11.3,<0.14,>=0.11.1 (from transformers)\n",
            "  Downloading tokenizers-0.13.3-cp310-cp310-manylinux_2_17_x86_64.manylinux2014_x86_64.whl (7.8 MB)\n",
            "\u001b[2K     \u001b[90m━━━━━━━━━━━━━━━━━━━━━━━━━━━━━━━━━━━━━━━━\u001b[0m \u001b[32m7.8/7.8 MB\u001b[0m \u001b[31m29.7 MB/s\u001b[0m eta \u001b[36m0:00:00\u001b[0m\n",
            "\u001b[?25hCollecting safetensors>=0.3.1 (from transformers)\n",
            "  Downloading safetensors-0.3.3-cp310-cp310-manylinux_2_17_x86_64.manylinux2014_x86_64.whl (1.3 MB)\n",
            "\u001b[2K     \u001b[90m━━━━━━━━━━━━━━━━━━━━━━━━━━━━━━━━━━━━━━━━\u001b[0m \u001b[32m1.3/1.3 MB\u001b[0m \u001b[31m31.6 MB/s\u001b[0m eta \u001b[36m0:00:00\u001b[0m\n",
            "\u001b[?25hRequirement already satisfied: tqdm>=4.27 in /usr/local/lib/python3.10/dist-packages (from transformers) (4.66.1)\n",
            "Requirement already satisfied: fsspec in /usr/local/lib/python3.10/dist-packages (from huggingface-hub<1.0,>=0.15.1->transformers) (2023.6.0)\n",
            "Requirement already satisfied: typing-extensions>=3.7.4.3 in /usr/local/lib/python3.10/dist-packages (from huggingface-hub<1.0,>=0.15.1->transformers) (4.5.0)\n",
            "Requirement already satisfied: charset-normalizer<4,>=2 in /usr/local/lib/python3.10/dist-packages (from requests->transformers) (3.2.0)\n",
            "Requirement already satisfied: idna<4,>=2.5 in /usr/local/lib/python3.10/dist-packages (from requests->transformers) (3.4)\n",
            "Requirement already satisfied: urllib3<3,>=1.21.1 in /usr/local/lib/python3.10/dist-packages (from requests->transformers) (2.0.4)\n",
            "Requirement already satisfied: certifi>=2017.4.17 in /usr/local/lib/python3.10/dist-packages (from requests->transformers) (2023.7.22)\n",
            "Installing collected packages: tokenizers, safetensors, huggingface-hub, transformers\n",
            "Successfully installed huggingface-hub-0.17.1 safetensors-0.3.3 tokenizers-0.13.3 transformers-4.33.1\n",
            "Collecting datasets\n",
            "  Downloading datasets-2.14.5-py3-none-any.whl (519 kB)\n",
            "\u001b[2K     \u001b[90m━━━━━━━━━━━━━━━━━━━━━━━━━━━━━━━━━━━━━━━\u001b[0m \u001b[32m519.6/519.6 kB\u001b[0m \u001b[31m6.2 MB/s\u001b[0m eta \u001b[36m0:00:00\u001b[0m\n",
            "\u001b[?25hRequirement already satisfied: numpy>=1.17 in /usr/local/lib/python3.10/dist-packages (from datasets) (1.23.5)\n",
            "Requirement already satisfied: pyarrow>=8.0.0 in /usr/local/lib/python3.10/dist-packages (from datasets) (9.0.0)\n",
            "Collecting dill<0.3.8,>=0.3.0 (from datasets)\n",
            "  Downloading dill-0.3.7-py3-none-any.whl (115 kB)\n",
            "\u001b[2K     \u001b[90m━━━━━━━━━━━━━━━━━━━━━━━━━━━━━━━━━━━━━━━\u001b[0m \u001b[32m115.3/115.3 kB\u001b[0m \u001b[31m8.9 MB/s\u001b[0m eta \u001b[36m0:00:00\u001b[0m\n",
            "\u001b[?25hRequirement already satisfied: pandas in /usr/local/lib/python3.10/dist-packages (from datasets) (1.5.3)\n",
            "Requirement already satisfied: requests>=2.19.0 in /usr/local/lib/python3.10/dist-packages (from datasets) (2.31.0)\n",
            "Requirement already satisfied: tqdm>=4.62.1 in /usr/local/lib/python3.10/dist-packages (from datasets) (4.66.1)\n",
            "Collecting xxhash (from datasets)\n",
            "  Downloading xxhash-3.3.0-cp310-cp310-manylinux_2_17_x86_64.manylinux2014_x86_64.whl (194 kB)\n",
            "\u001b[2K     \u001b[90m━━━━━━━━━━━━━━━━━━━━━━━━━━━━━━━━━━━━━━\u001b[0m \u001b[32m194.1/194.1 kB\u001b[0m \u001b[31m10.3 MB/s\u001b[0m eta \u001b[36m0:00:00\u001b[0m\n",
            "\u001b[?25hCollecting multiprocess (from datasets)\n",
            "  Downloading multiprocess-0.70.15-py310-none-any.whl (134 kB)\n",
            "\u001b[2K     \u001b[90m━━━━━━━━━━━━━━━━━━━━━━━━━━━━━━━━━━━━━━━\u001b[0m \u001b[32m134.8/134.8 kB\u001b[0m \u001b[31m9.1 MB/s\u001b[0m eta \u001b[36m0:00:00\u001b[0m\n",
            "\u001b[?25hRequirement already satisfied: fsspec[http]<2023.9.0,>=2023.1.0 in /usr/local/lib/python3.10/dist-packages (from datasets) (2023.6.0)\n",
            "Requirement already satisfied: aiohttp in /usr/local/lib/python3.10/dist-packages (from datasets) (3.8.5)\n",
            "Requirement already satisfied: huggingface-hub<1.0.0,>=0.14.0 in /usr/local/lib/python3.10/dist-packages (from datasets) (0.17.1)\n",
            "Requirement already satisfied: packaging in /usr/local/lib/python3.10/dist-packages (from datasets) (23.1)\n",
            "Requirement already satisfied: pyyaml>=5.1 in /usr/local/lib/python3.10/dist-packages (from datasets) (6.0.1)\n",
            "Requirement already satisfied: attrs>=17.3.0 in /usr/local/lib/python3.10/dist-packages (from aiohttp->datasets) (23.1.0)\n",
            "Requirement already satisfied: charset-normalizer<4.0,>=2.0 in /usr/local/lib/python3.10/dist-packages (from aiohttp->datasets) (3.2.0)\n",
            "Requirement already satisfied: multidict<7.0,>=4.5 in /usr/local/lib/python3.10/dist-packages (from aiohttp->datasets) (6.0.4)\n",
            "Requirement already satisfied: async-timeout<5.0,>=4.0.0a3 in /usr/local/lib/python3.10/dist-packages (from aiohttp->datasets) (4.0.3)\n",
            "Requirement already satisfied: yarl<2.0,>=1.0 in /usr/local/lib/python3.10/dist-packages (from aiohttp->datasets) (1.9.2)\n",
            "Requirement already satisfied: frozenlist>=1.1.1 in /usr/local/lib/python3.10/dist-packages (from aiohttp->datasets) (1.4.0)\n",
            "Requirement already satisfied: aiosignal>=1.1.2 in /usr/local/lib/python3.10/dist-packages (from aiohttp->datasets) (1.3.1)\n",
            "Requirement already satisfied: filelock in /usr/local/lib/python3.10/dist-packages (from huggingface-hub<1.0.0,>=0.14.0->datasets) (3.12.2)\n",
            "Requirement already satisfied: typing-extensions>=3.7.4.3 in /usr/local/lib/python3.10/dist-packages (from huggingface-hub<1.0.0,>=0.14.0->datasets) (4.5.0)\n",
            "Requirement already satisfied: idna<4,>=2.5 in /usr/local/lib/python3.10/dist-packages (from requests>=2.19.0->datasets) (3.4)\n",
            "Requirement already satisfied: urllib3<3,>=1.21.1 in /usr/local/lib/python3.10/dist-packages (from requests>=2.19.0->datasets) (2.0.4)\n",
            "Requirement already satisfied: certifi>=2017.4.17 in /usr/local/lib/python3.10/dist-packages (from requests>=2.19.0->datasets) (2023.7.22)\n",
            "Requirement already satisfied: python-dateutil>=2.8.1 in /usr/local/lib/python3.10/dist-packages (from pandas->datasets) (2.8.2)\n",
            "Requirement already satisfied: pytz>=2020.1 in /usr/local/lib/python3.10/dist-packages (from pandas->datasets) (2023.3.post1)\n",
            "Requirement already satisfied: six>=1.5 in /usr/local/lib/python3.10/dist-packages (from python-dateutil>=2.8.1->pandas->datasets) (1.16.0)\n",
            "Installing collected packages: xxhash, dill, multiprocess, datasets\n",
            "Successfully installed datasets-2.14.5 dill-0.3.7 multiprocess-0.70.15 xxhash-3.3.0\n"
          ]
        }
      ],
      "source": [
        "#%%capture\n",
        "#block the output to keep not pollute the notebook\n",
        "!pip install transformers\n",
        "!pip install datasets\n",
        "# !conda install -c huggingface -c conda-forge transformers datasets"
      ]
    },
    {
      "cell_type": "code",
      "execution_count": 2,
      "metadata": {
        "colab": {
          "base_uri": "https://localhost:8080/"
        },
        "id": "8frISYlT_Lri",
        "outputId": "44f831fd-0186-4833-a7e3-8ef925f18944"
      },
      "outputs": [
        {
          "output_type": "stream",
          "name": "stdout",
          "text": [
            "Mounted at /content/drive\n",
            "Running on Colab\n"
          ]
        }
      ],
      "source": [
        "import sys\n",
        "\n",
        "if 'google.colab' in sys.modules:\n",
        "    from google.colab import drive\n",
        "    DRIVE=True\n",
        "    drive.mount('/content/drive')\n",
        "    root_folder = \"/content/drive/My Drive/cs182_hw3_anton/\"\n",
        "    public_folder = \"/content/drive/My Drive/cs182_hw3_public/\"\n",
        "    dataset_folder = \"/content/drive/My Drive/cs182_hw3_public/dataset/\"\n",
        "    print('Running on Colab')\n",
        "else:\n",
        "    DRIVE=False\n",
        "    root_folder = \"\"\n",
        "    public_folder = \"\"\n",
        "    dataset_folder = \"dataset/\"\n",
        "    print('Running on localhost')"
      ]
    },
    {
      "cell_type": "code",
      "execution_count": 3,
      "metadata": {
        "colab": {
          "base_uri": "https://localhost:8080/"
        },
        "id": "2Ih0h2mU-p7m",
        "outputId": "799fac95-44d2-4033-f221-68e00182938e"
      },
      "outputs": [
        {
          "output_type": "stream",
          "name": "stdout",
          "text": [
            "cuda\n"
          ]
        }
      ],
      "source": [
        "import os\n",
        "import sys\n",
        "sys.path.append(root_folder)\n",
        "import json\n",
        "from utils import validate_to_array, model_out_to_list\n",
        "import torch\n",
        "from torch.nn import functional as F\n",
        "from torch import nn\n",
        "from torch import optim\n",
        "import numpy as np\n",
        "import math\n",
        "\n",
        "from transformers import BertTokenizer, BertModel, BertForMaskedLM, BertConfig, BertForPreTraining\n",
        "\n",
        "device = torch.device(\"cuda\" if torch.cuda.is_available() else \"cpu\")\n",
        "# device = th.device(\"cpu\")\n",
        "print(device)\n",
        "\n",
        "%load_ext autoreload\n",
        "%autoreload 2"
      ]
    },
    {
      "cell_type": "markdown",
      "metadata": {
        "id": "2Sqe9HiM-p7q"
      },
      "source": [
        "# BERT Architecture"
      ]
    },
    {
      "cell_type": "markdown",
      "metadata": {
        "id": "V6PbKRQD-p7s"
      },
      "source": [
        "First load the BERT base model and take a look at the architecture. Don't mind the warnings for now. Based on the nn.Module names, what major component from the Transformer architecture in \"Attention is All You Need\" is substantially smaller in the BERT model? What is the purpose of the component?"
      ]
    },
    {
      "cell_type": "markdown",
      "metadata": {
        "id": "l0dtE6Y0-p7t"
      },
      "source": [
        "**Answer**: BERT doesn't really have a decoder component, whereas the original Transformer architecture had one encoder stack and a parallel decoder stack which used masked self-attention. Here, BERT doesn't use masked self-attention. Instead, it uses a masked language model (here abbreviated MLM) pre-training objective, which means that some of the tokens in the input sequence are masked out, and the model is trained to learn what the masked tokens are.\n",
        "\n",
        "In other words, it has half the components. That said, it uses N=12 stacks, whereas Transformer used N=6, so it kinda comes out like a net wash parameter-wise..."
      ]
    },
    {
      "cell_type": "code",
      "execution_count": 4,
      "metadata": {
        "colab": {
          "base_uri": "https://localhost:8080/",
          "height": 89
        },
        "id": "EjJWcena-p7v",
        "outputId": "8072d5fb-3890-4bb2-d6a0-d63e67757b40"
      },
      "outputs": [
        {
          "output_type": "stream",
          "name": "stderr",
          "text": [
            "Some weights of the model checkpoint at bert-base-uncased were not used when initializing BertForMaskedLM: ['cls.seq_relationship.weight', 'bert.pooler.dense.bias', 'cls.seq_relationship.bias', 'bert.pooler.dense.weight']\n",
            "- This IS expected if you are initializing BertForMaskedLM from the checkpoint of a model trained on another task or with another architecture (e.g. initializing a BertForSequenceClassification model from a BertForPreTraining model).\n",
            "- This IS NOT expected if you are initializing BertForMaskedLM from the checkpoint of a model that you expect to be exactly identical (initializing a BertForSequenceClassification model from a BertForSequenceClassification model).\n"
          ]
        }
      ],
      "source": [
        "%%capture\n",
        "tokenizer = BertTokenizer.from_pretrained(\"bert-base-uncased\",do_lower_case=True)\n",
        "teacher_model = BertForMaskedLM.from_pretrained(\"bert-base-uncased\").to(device)"
      ]
    },
    {
      "cell_type": "code",
      "execution_count": 5,
      "metadata": {
        "colab": {
          "base_uri": "https://localhost:8080/"
        },
        "id": "lRp-Utp7-p7x",
        "outputId": "a51bdd6e-18d1-4eea-9f48-7e8552b74920"
      },
      "outputs": [
        {
          "output_type": "stream",
          "name": "stdout",
          "text": [
            "BertForMaskedLM(\n",
            "  (bert): BertModel(\n",
            "    (embeddings): BertEmbeddings(\n",
            "      (word_embeddings): Embedding(30522, 768, padding_idx=0)\n",
            "      (position_embeddings): Embedding(512, 768)\n",
            "      (token_type_embeddings): Embedding(2, 768)\n",
            "      (LayerNorm): LayerNorm((768,), eps=1e-12, elementwise_affine=True)\n",
            "      (dropout): Dropout(p=0.1, inplace=False)\n",
            "    )\n",
            "    (encoder): BertEncoder(\n",
            "      (layer): ModuleList(\n",
            "        (0-11): 12 x BertLayer(\n",
            "          (attention): BertAttention(\n",
            "            (self): BertSelfAttention(\n",
            "              (query): Linear(in_features=768, out_features=768, bias=True)\n",
            "              (key): Linear(in_features=768, out_features=768, bias=True)\n",
            "              (value): Linear(in_features=768, out_features=768, bias=True)\n",
            "              (dropout): Dropout(p=0.1, inplace=False)\n",
            "            )\n",
            "            (output): BertSelfOutput(\n",
            "              (dense): Linear(in_features=768, out_features=768, bias=True)\n",
            "              (LayerNorm): LayerNorm((768,), eps=1e-12, elementwise_affine=True)\n",
            "              (dropout): Dropout(p=0.1, inplace=False)\n",
            "            )\n",
            "          )\n",
            "          (intermediate): BertIntermediate(\n",
            "            (dense): Linear(in_features=768, out_features=3072, bias=True)\n",
            "            (intermediate_act_fn): GELUActivation()\n",
            "          )\n",
            "          (output): BertOutput(\n",
            "            (dense): Linear(in_features=3072, out_features=768, bias=True)\n",
            "            (LayerNorm): LayerNorm((768,), eps=1e-12, elementwise_affine=True)\n",
            "            (dropout): Dropout(p=0.1, inplace=False)\n",
            "          )\n",
            "        )\n",
            "      )\n",
            "    )\n",
            "  )\n",
            "  (cls): BertOnlyMLMHead(\n",
            "    (predictions): BertLMPredictionHead(\n",
            "      (transform): BertPredictionHeadTransform(\n",
            "        (dense): Linear(in_features=768, out_features=768, bias=True)\n",
            "        (transform_act_fn): GELUActivation()\n",
            "        (LayerNorm): LayerNorm((768,), eps=1e-12, elementwise_affine=True)\n",
            "      )\n",
            "      (decoder): Linear(in_features=768, out_features=30522, bias=True)\n",
            "    )\n",
            "  )\n",
            ")\n"
          ]
        }
      ],
      "source": [
        "print(teacher_model)"
      ]
    },
    {
      "cell_type": "markdown",
      "metadata": {
        "id": "u3vhv5zl-p7z"
      },
      "source": [
        "# KD Losses"
      ]
    },
    {
      "cell_type": "markdown",
      "metadata": {
        "id": "A5AUU7sv-p70"
      },
      "source": [
        "First, we need to access the intermediate layer outputs of the model. Read section 3 of the paper and take a look at the documentation for __[the forward function](https://huggingface.co/transformers/model_doc/bert.html#transformers.BertModel.forward)__, or look at the docstring below. Fill in the kwargs to retrieve the necessary outputs from the model. Note that returning the embedding is not an option, you can retrieve the embeddings via a method attribute of BERT, `get_input_embeddings(self)`. Consider what an embedding is; why wouldn't we need to return an embedding for every sample in a batch?"
      ]
    },
    {
      "cell_type": "code",
      "execution_count": 5,
      "metadata": {
        "id": "C-nAHNNw-p72"
      },
      "outputs": [],
      "source": [
        "# ok so our KD loss is going to include Transformer-layer distillation, embedding-layer distillation, and prediction-layer distillation.\n",
        "# for prediction layer we'll obviously get the outputs to compare\n",
        "# for embedding layer, ... unclear.\n",
        "# that leaves transformer-layer, which has losses for multi-headed attention matrices A_i, and hidden states H. those are the ones we need to get here.\n",
        "\n",
        "# looking at the documentation, the relevant kwargs are pretty obvious. implemented below.\n",
        "\n",
        "forward_kwargs = dict(\n",
        "    output_attentions=True,      # for L_attn\n",
        "    output_hidden_states=True,   # for L_hidn\n",
        "    return_dict=True,            # provided by template\n",
        ")"
      ]
    },
    {
      "cell_type": "markdown",
      "metadata": {
        "id": "FEgc5DzN-p75"
      },
      "source": [
        "Implement to EmbeddingLayerLoss, AttentionLayerLoss, HiddenLayerLoss, PredictionLoss, and KnowledgeDistillationLoss as specified in section 3 of the paper. The output of BERT will be a dictionary, look at 'return' in the documentation or the docstring for the relevant keys in the return dictionary. We will add the embedding in under 'embeddings'"
      ]
    },
    {
      "cell_type": "markdown",
      "metadata": {
        "id": "8SNGTQXNAz6E"
      },
      "source": [
        "## (1) Implementing the Attention Layer Loss"
      ]
    },
    {
      "cell_type": "markdown",
      "metadata": {
        "id": "RKVTOLVwBEv7"
      },
      "source": [
        "This part is located in AttentionLayerLoss in kd_loss.py. You must implement the call function of the class. You will need to implement the formula (7) in section 3 of __[TinyBERT](https://arxiv.org/pdf/1909.10351.pdf)__. Note that the actual implemetation compares raw output from attention. The transformers API returns the softmax output."
      ]
    },
    {
      "cell_type": "code",
      "execution_count": 7,
      "metadata": {
        "colab": {
          "base_uri": "https://localhost:8080/"
        },
        "id": "lNdxuQ2v6vDy",
        "outputId": "f65201da-6d09-4f1e-e63c-31058151fdf9"
      },
      "outputs": [
        {
          "output_type": "stream",
          "name": "stdout",
          "text": [
            "Total error on the output: 0.0 (should be 0.0 or close to 0.0)\n"
          ]
        }
      ],
      "source": [
        "from kd_loss import AttentionLayerLoss\n",
        "num_channels = 10\n",
        "batch_size = 2\n",
        "\n",
        "with open(public_folder+\"kd_checks/kd_attention_loss.json\",'r') as f:\n",
        "  io = json.load(f)\n",
        "  teacher_attn = torch.tensor(io['teacher_attention'])\n",
        "  student_attn = torch.tensor(io['student_attention'])\n",
        "  expected_output = torch.tensor(io['expected_output'])\n",
        "\n",
        "attn_loss = AttentionLayerLoss()\n",
        "output = attn_loss(teacher_attn, student_attn)\n",
        "\n",
        "print(\"Total error on the output:\",torch.sum(torch.abs(expected_output-output)).item(), \"(should be 0.0 or close to 0.0)\")"
      ]
    },
    {
      "cell_type": "markdown",
      "metadata": {
        "id": "yTPdLyBTd1Vq"
      },
      "source": [
        "## (2) Implementing the Hidden Layer Loss"
      ]
    },
    {
      "cell_type": "markdown",
      "metadata": {
        "id": "nDnqWEcEd1WD"
      },
      "source": [
        "This part is located in HiddenLayerLoss in kd_loss.py. You must implement the call function of the class. You will need to implement the formula (8) in section 3 of __[TinyBERT](https://arxiv.org/pdf/1909.10351.pdf)__"
      ]
    },
    {
      "cell_type": "code",
      "source": [
        "public_folder+\"kd_checks/\""
      ],
      "metadata": {
        "colab": {
          "base_uri": "https://localhost:8080/",
          "height": 35
        },
        "id": "Pe42CKkd5SG3",
        "outputId": "61cec19e-1d4f-40c5-a248-a87286ac28aa"
      },
      "execution_count": 13,
      "outputs": [
        {
          "output_type": "execute_result",
          "data": {
            "text/plain": [
              "'/content/drive/My Drive/cs182_hw3_public/kd_checks/'"
            ],
            "application/vnd.google.colaboratory.intrinsic+json": {
              "type": "string"
            }
          },
          "metadata": {},
          "execution_count": 13
        }
      ]
    },
    {
      "cell_type": "code",
      "source": [
        "!ls '/content/drive/My Drive/cs182_hw3_public/kd_checks/'"
      ],
      "metadata": {
        "colab": {
          "base_uri": "https://localhost:8080/"
        },
        "id": "uVTBLK_j5Kks",
        "outputId": "89f9b0af-76e6-4728-fd62-c7f9c93f32b8"
      },
      "execution_count": 15,
      "outputs": [
        {
          "output_type": "stream",
          "name": "stdout",
          "text": [
            "kd_attention_loss.json\tkd_embed_loss.zip    kd_loss\t   kd_pred_loss\n",
            "kd_embed_loss\t\tkd_hidden_loss.json  kd_loss.json  kd_pred_loss.json\n",
            "kd_embed_loss.json\tkd_hidden_loss.zip   kd_loss.zip   kd_pred_loss.zip\n"
          ]
        }
      ]
    },
    {
      "cell_type": "code",
      "execution_count": 16,
      "metadata": {
        "colab": {
          "base_uri": "https://localhost:8080/"
        },
        "id": "R1itJLead1WG",
        "outputId": "2371105b-a10b-4572-dc32-c9e08c192ebb"
      },
      "outputs": [
        {
          "output_type": "stream",
          "name": "stdout",
          "text": [
            "Total error on the output: 0.0 (should be 0.0 or close to 0.0)\n"
          ]
        }
      ],
      "source": [
        "from kd_loss import HiddenLayerLoss\n",
        "teacher_hidden_dim = 50\n",
        "student_hidden_dim = 10\n",
        "batch_size = 2\n",
        "\n",
        "with open(public_folder+\"kd_checks/kd_hidden_loss.json\",'r') as f:\n",
        "  io = json.load(f)\n",
        "  teacher_hddn = torch.tensor(io['teacher_hidden'])\n",
        "  student_hddn = torch.tensor(io['student_hidden'])\n",
        "  expected_output = torch.tensor(io['expected_output'])\n",
        "\n",
        "hddn_loss = HiddenLayerLoss(teacher_hidden_dim,student_hidden_dim)\n",
        "hddn_loss.load_state_dict(torch.load(public_folder+\"kd_checks/kd_hidden_loss.zip\"))\n",
        "output = hddn_loss(teacher_hddn, student_hddn)\n",
        "\n",
        "print(\"Total error on the output:\",\n",
        "      torch.sum(torch.abs(expected_output-output)).item(),\n",
        "      \"(should be 0.0 or close to 0.0)\")"
      ]
    },
    {
      "cell_type": "markdown",
      "metadata": {
        "id": "wCnb9WhBte-r"
      },
      "source": [
        "## (3) Implementing the Embedding Layer Loss"
      ]
    },
    {
      "cell_type": "markdown",
      "metadata": {
        "id": "rUMedWUOte_N"
      },
      "source": [
        "This part is located in EmbedLayerLoss in kd_loss.py. You must implement the call function of the class. You will need to implement the formula (9) in section 3 of __[TinyBERT](https://arxiv.org/pdf/1909.10351.pdf)__"
      ]
    },
    {
      "cell_type": "code",
      "execution_count": 17,
      "metadata": {
        "colab": {
          "base_uri": "https://localhost:8080/"
        },
        "id": "FFegY_gNte_R",
        "outputId": "86156985-6e5b-4a32-cec3-4bbd8419f007"
      },
      "outputs": [
        {
          "output_type": "stream",
          "name": "stdout",
          "text": [
            "Total error on the output: 0.0 (should be 0.0 or close to 0.0)\n"
          ]
        }
      ],
      "source": [
        "from kd_loss import EmbeddingLayerLoss\n",
        "teacher_embed_dim = 50\n",
        "student_embed_dim = 10\n",
        "batch_size = 2\n",
        "\n",
        "with open(public_folder+\"kd_checks/kd_embed_loss.json\",'r') as f:\n",
        "  io = json.load(f)\n",
        "  teacher_embd = torch.tensor(io['teacher_embed'])\n",
        "  student_embd = torch.tensor(io['student_embed'])\n",
        "  expected_output = torch.tensor(io['expected_output'])\n",
        "\n",
        "embd_loss = EmbeddingLayerLoss(teacher_embed_dim,student_embed_dim)\n",
        "embd_loss.load_state_dict(torch.load(public_folder+\"kd_checks/kd_embed_loss\"))\n",
        "output = embd_loss(teacher_embd, student_embd)\n",
        "\n",
        "print(\"Total error on the output:\",\n",
        "      torch.sum(torch.abs(expected_output-output)).item(),\n",
        "      \"(should be 0.0 or close to 0.0)\")"
      ]
    },
    {
      "cell_type": "markdown",
      "metadata": {
        "id": "-LFwH1IPvsNV"
      },
      "source": [
        "## (4) Implementing the Prediction Loss"
      ]
    },
    {
      "cell_type": "markdown",
      "metadata": {
        "id": "woCYlCLlvsN3"
      },
      "source": [
        "This part is located in PredictionLoss in kd_loss.py. You must implement the call function of the class. You will need to implement the formula (10) in section 3 of __[TinyBERT](https://arxiv.org/pdf/1909.10351.pdf)__"
      ]
    },
    {
      "cell_type": "code",
      "execution_count": 18,
      "metadata": {
        "colab": {
          "base_uri": "https://localhost:8080/"
        },
        "id": "bsHNe0iWvsN6",
        "outputId": "9e1fc208-f442-4a88-91fe-acb893feec66"
      },
      "outputs": [
        {
          "output_type": "stream",
          "name": "stdout",
          "text": [
            "Total error on the output: 0.02235579490661621 (should be 0.0 or close to 0.0)\n"
          ]
        }
      ],
      "source": [
        "from kd_loss import PredictionLoss\n",
        "word_count = 10\n",
        "batch_size = 2\n",
        "\n",
        "with open(public_folder+\"kd_checks/kd_pred_loss.json\",'r') as f:\n",
        "  io = json.load(f)\n",
        "  teacher_pred = torch.tensor(io['teacher_pred'])\n",
        "  student_pred = torch.tensor(io['student_pred'])\n",
        "  expected_output = torch.tensor(io['expected_output'])\n",
        "\n",
        "pred_loss = PredictionLoss()\n",
        "output = pred_loss(teacher_pred, student_pred)\n",
        "\n",
        "print(\"Total error on the output:\",\n",
        "      torch.sum(torch.abs(expected_output-output)).item(),\n",
        "      \"(should be 0.0 or close to 0.0)\")"
      ]
    },
    {
      "cell_type": "markdown",
      "metadata": {
        "id": "Z0Fm6jwlyRnU"
      },
      "source": [
        "## (5) Implementing the Knowledge Distillation Loss"
      ]
    },
    {
      "cell_type": "markdown",
      "metadata": {
        "id": "2m5gjJyOyRn3"
      },
      "source": [
        "This part is located in KnowledgeDistillationLoss in kd_loss.py. You must implement the call function of the class. You will need to implement the formula (11) in section 3 of __[TinyBERT](https://arxiv.org/pdf/1909.10351.pdf)__"
      ]
    },
    {
      "cell_type": "code",
      "execution_count": 22,
      "metadata": {
        "colab": {
          "base_uri": "https://localhost:8080/"
        },
        "id": "yq2GI2UUyRn7",
        "outputId": "4cf6f201-48d1-49fe-d03e-6290c934d1a5"
      },
      "outputs": [
        {
          "output_type": "stream",
          "name": "stdout",
          "text": [
            "Total error on the output: 0.4856206178665161 (should be 0.0 or close to 0.0)\n"
          ]
        }
      ],
      "source": [
        "from kd_loss import KnowledgeDistillationLoss\n",
        "num_channels = 12\n",
        "teacher_hidden_dim = 60\n",
        "student_hidden_dim = 15\n",
        "teacher_embed_dim = 50\n",
        "student_embed_dim = 10\n",
        "word_count = 5\n",
        "teacher_num_blocks = 6\n",
        "student_num_blocks = 2\n",
        "batch_size = 2\n",
        "layer_mapping = range(2,6,3)\n",
        "\n",
        "with open(public_folder+\"kd_checks/kd_loss.json\",'r') as f:\n",
        "  io = json.load(f)\n",
        "  teacher_out = io['teacher_out']\n",
        "  student_out = io['student_out']\n",
        "  teacher_out = dict(\n",
        "      embeddings=torch.tensor(teacher_out['embeddings']),\n",
        "      attentions=[torch.tensor(o) for o in teacher_out['attentions']],\n",
        "      hidden_states=[torch.tensor(o) for o in teacher_out['hidden_states']],\n",
        "      logits=torch.tensor(teacher_out['embeddings'])\n",
        "  )\n",
        "  student_out = dict(\n",
        "      embeddings=torch.tensor(student_out['embeddings']),\n",
        "      attentions=[torch.tensor(o) for o in student_out['attentions']],\n",
        "      hidden_states=[torch.tensor(o) for o in student_out['hidden_states']],\n",
        "      logits=torch.tensor(student_out['embeddings'])\n",
        "  )\n",
        "  expected_output = torch.tensor(io['expected_output'])\n",
        "\n",
        "kd_loss = KnowledgeDistillationLoss(teacher_embed_dim,student_embed_dim,teacher_hidden_dim,student_hidden_dim,layer_mapping)\n",
        "kd_loss.load_state_dict(torch.load(public_folder+\"kd_checks/kd_loss\"))\n",
        "output = kd_loss(teacher_out, student_out)\n",
        "\n",
        "print(\"Total error on the output:\",\n",
        "      torch.sum(torch.abs(expected_output-output)).item(),\n",
        "      \"(should be 0.0 or close to 0.0)\")"
      ]
    },
    {
      "cell_type": "markdown",
      "metadata": {
        "id": "9ZFUAhfr-p8q"
      },
      "source": [
        "# Experimental Setup\n",
        "\n",
        "## General Distillation\n",
        "\n",
        "### Data Loading"
      ]
    },
    {
      "cell_type": "markdown",
      "metadata": {
        "id": "E_E6d-DN-p8y"
      },
      "source": [
        "Below is the text parsing set up. We will be using the wikitext dataset as used in the paper. But since we are just demonstrating the method, we will use the small wikitext-2 dataset instead of the standard wikitext-103 set. Wikitext contains thousands of cleaned English Wikipedia articles separated by sentence. Since the order of sentences is left in tact, the dataset can be used to model long term dependencies between words."
      ]
    },
    {
      "cell_type": "code",
      "execution_count": 6,
      "metadata": {
        "id": "PoH6OWg0-p8z"
      },
      "outputs": [],
      "source": [
        "%%capture\n",
        "from datasets import load_dataset\n",
        "datasets = load_dataset('wikitext', 'wikitext-2-raw-v1')"
      ]
    },
    {
      "cell_type": "markdown",
      "metadata": {
        "id": "JGhXJ86gDr_W"
      },
      "source": [
        "See that the data has been split into training, validation, and testing sets."
      ]
    },
    {
      "cell_type": "code",
      "execution_count": 24,
      "metadata": {
        "colab": {
          "base_uri": "https://localhost:8080/"
        },
        "id": "96VeMWrs-p80",
        "outputId": "5ec5c698-886d-4c98-f1c9-e79a4678b7db"
      },
      "outputs": [
        {
          "output_type": "stream",
          "name": "stdout",
          "text": [
            "DatasetDict({\n",
            "    test: Dataset({\n",
            "        features: ['text'],\n",
            "        num_rows: 4358\n",
            "    })\n",
            "    train: Dataset({\n",
            "        features: ['text'],\n",
            "        num_rows: 36718\n",
            "    })\n",
            "    validation: Dataset({\n",
            "        features: ['text'],\n",
            "        num_rows: 3760\n",
            "    })\n",
            "})\n"
          ]
        }
      ],
      "source": [
        "print(datasets)"
      ]
    },
    {
      "cell_type": "markdown",
      "metadata": {
        "id": "nOPPgsaGGLHb"
      },
      "source": [
        "A sample of the dataset:"
      ]
    },
    {
      "cell_type": "code",
      "source": [
        "datasets['train'][5]"
      ],
      "metadata": {
        "colab": {
          "base_uri": "https://localhost:8080/"
        },
        "id": "jrL63--h5rTX",
        "outputId": "45dd86a8-1729-48b6-bb4c-3e5c4ef56153"
      },
      "execution_count": 25,
      "outputs": [
        {
          "output_type": "execute_result",
          "data": {
            "text/plain": [
              "{'text': \" It met with positive sales in Japan , and was praised by both Japanese and western critics . After release , it received downloadable content , along with an expanded edition in November of that year . It was also adapted into manga and an original video animation series . Due to low sales of Valkyria Chronicles II , Valkyria Chronicles III was not localized , but a fan translation compatible with the game 's expanded edition was released in 2014 . Media.Vision would return to the franchise with the development of Valkyria : Azure Revolution for the PlayStation 4 . \\n\"}"
            ]
          },
          "metadata": {},
          "execution_count": 25
        }
      ]
    },
    {
      "cell_type": "code",
      "execution_count": 27,
      "metadata": {
        "colab": {
          "base_uri": "https://localhost:8080/"
        },
        "id": "dQODO5ZMDzxo",
        "outputId": "8a5f0653-b8e7-47c7-c597-f32f33ac3c31"
      },
      "outputs": [
        {
          "output_type": "stream",
          "name": "stdout",
          "text": [
            " = Valkyria Chronicles III = \n",
            "\n"
          ]
        }
      ],
      "source": [
        "print(\"\".join(datasets['train'][:2]['text']))"
      ]
    },
    {
      "cell_type": "markdown",
      "metadata": {
        "id": "CCqAtGMyGQoo"
      },
      "source": [
        "The words must be parsed and hashed according to the vocabulary of our model. Instead of masking sentences to equal length, this time we will separate the contiguous text sequence into equal size blocks, possibly breaking up whole sentences."
      ]
    },
    {
      "cell_type": "code",
      "execution_count": 7,
      "metadata": {
        "colab": {
          "base_uri": "https://localhost:8080/",
          "height": 104
        },
        "id": "yK5jjAPu-p82",
        "outputId": "350aaf0f-e9ec-4299-d78e-37a2d7d3894f"
      },
      "outputs": [
        {
          "output_type": "stream",
          "name": "stderr",
          "text": [
            "Token indices sequence length is longer than the specified maximum sequence length for this model (525 > 512). Running this sequence through the model will result in indexing errors\n",
            "Token indices sequence length is longer than the specified maximum sequence length for this model (552 > 512). Running this sequence through the model will result in indexing errors\n",
            "Token indices sequence length is longer than the specified maximum sequence length for this model (647 > 512). Running this sequence through the model will result in indexing errors\n",
            "Token indices sequence length is longer than the specified maximum sequence length for this model (592 > 512). Running this sequence through the model will result in indexing errors\n",
            "Token indices sequence length is longer than the specified maximum sequence length for this model (515 > 512). Running this sequence through the model will result in indexing errors\n"
          ]
        }
      ],
      "source": [
        "%%capture\n",
        "tokenized_datasets = datasets.map(lambda samples: tokenizer(samples['text']), batched=True, num_proc=4, remove_columns=[\"text\"])"
      ]
    },
    {
      "cell_type": "code",
      "source": [
        "# look at a sample\n",
        "print(datasets['train'][1])\n",
        "print(tokenized_datasets['train'][1])"
      ],
      "metadata": {
        "colab": {
          "base_uri": "https://localhost:8080/"
        },
        "id": "hL_32X-36Clo",
        "outputId": "87f236d2-5e49-4434-81b3-7b536e8379a9"
      },
      "execution_count": 35,
      "outputs": [
        {
          "output_type": "stream",
          "name": "stdout",
          "text": [
            "{'text': ' = Valkyria Chronicles III = \\n'}\n",
            "{'input_ids': [101, 1027, 11748, 4801, 4360, 11906, 3523, 1027, 102], 'token_type_ids': [0, 0, 0, 0, 0, 0, 0, 0, 0], 'attention_mask': [1, 1, 1, 1, 1, 1, 1, 1, 1]}\n"
          ]
        }
      ]
    },
    {
      "cell_type": "code",
      "source": [
        "tokenizer.convert_ids_to_tokens(tokenized_datasets['train'][1]['input_ids'])"
      ],
      "metadata": {
        "colab": {
          "base_uri": "https://localhost:8080/"
        },
        "id": "rfcVS6yW7Ha7",
        "outputId": "c4e6604f-95fd-49e9-9954-b5f4a440e967"
      },
      "execution_count": 38,
      "outputs": [
        {
          "output_type": "execute_result",
          "data": {
            "text/plain": [
              "['[CLS]', '=', 'val', '##ky', '##ria', 'chronicles', 'iii', '=', '[SEP]']"
            ]
          },
          "metadata": {},
          "execution_count": 38
        }
      ]
    },
    {
      "cell_type": "code",
      "execution_count": 8,
      "metadata": {
        "id": "x1lM3fWe-p84"
      },
      "outputs": [],
      "source": [
        "block_size = 128\n",
        "def group_texts(examples):\n",
        "    # Concatenate all texts.\n",
        "    # passing start=[] to sum() acts as concatenation\n",
        "    concatenated_examples = {k: sum(examples[k], []) for k in examples.keys()}\n",
        "    total_length = len(concatenated_examples[list(examples.keys())[0]])\n",
        "    # We drop the small remainder.\n",
        "    # we could add padding if the model supported it instead of this drop\n",
        "    # you can customize this part to your needs.\n",
        "    total_length = (total_length // block_size) * block_size\n",
        "    # Split by chunks of max_len.\n",
        "    result = {\n",
        "        k: [t[i : i + block_size] for i in range(0, total_length, block_size)]\n",
        "        for k, t in concatenated_examples.items()\n",
        "    }\n",
        "    result[\"labels\"] = result[\"input_ids\"].copy()\n",
        "    return result"
      ]
    },
    {
      "cell_type": "code",
      "execution_count": 9,
      "metadata": {
        "id": "mQhOTXOi-p87"
      },
      "outputs": [],
      "source": [
        "%%capture\n",
        "\n",
        "# in batches of the tokenized dataset (batchsize=1000), split the batches\n",
        "# into blocks of size 128.\n",
        "\n",
        "lm_datasets = tokenized_datasets.map(\n",
        "    group_texts,\n",
        "    batched=True,\n",
        "    batch_size=1000,\n",
        "    num_proc=4,\n",
        "    load_from_cache_file=False\n",
        ")"
      ]
    },
    {
      "cell_type": "code",
      "execution_count": 53,
      "metadata": {
        "colab": {
          "base_uri": "https://localhost:8080/"
        },
        "id": "l3-FYlcd-p89",
        "outputId": "29d93d87-40ac-4ec9-c667-ac4a5907f575"
      },
      "outputs": [
        {
          "output_type": "stream",
          "name": "stdout",
          "text": [
            "before splitting into blocks: 36718 records\n",
            "1st record\n",
            "[CLS] = valkyria chronicles iii = [SEP]\n",
            "\n",
            "after splitting into blocks: 18549 records\n",
            "0th record\n",
            "[CLS] [SEP] [CLS] = valkyria chronicles iii = [SEP] [CLS] [SEP] [CLS] senjo no valkyria 3 : unrecorded chronicles ( japanese : 戦 場 のウァルキュリア3, lit. valkyria of the battlefield 3 ), commonly referred to as valkyria chronicles iii outside japan, is a tactical role @ - @ playing video game developed by sega and media. vision for the playstation portable. released in january 2011 in japan, it is the third game in the valkyria series. employing the same fusion of tactical and real @ - @ time gameplay as its predecessors, the story runs parallel to\n"
          ]
        }
      ],
      "source": [
        "# before\n",
        "print(f\"before splitting into blocks: {tokenized_datasets['train'].num_rows} records\")\n",
        "print('1st record')\n",
        "print(tokenizer.decode(tokenized_datasets['train'][1]['input_ids']))\n",
        "\n",
        "# after\n",
        "print(f\"\\nafter splitting into blocks: {lm_datasets['train'].num_rows} records\")\n",
        "print('0th record')\n",
        "print(tokenizer.decode(lm_datasets[\"train\"][0][\"input_ids\"]))\n"
      ]
    },
    {
      "cell_type": "code",
      "execution_count": 54,
      "metadata": {
        "colab": {
          "base_uri": "https://localhost:8080/"
        },
        "id": "rzsJJQ4S-p8_",
        "outputId": "87f6b278-858c-4b46-c87d-6c708a75e431"
      },
      "outputs": [
        {
          "output_type": "execute_result",
          "data": {
            "text/plain": [
              "dict_keys(['input_ids', 'token_type_ids', 'attention_mask', 'labels'])"
            ]
          },
          "metadata": {},
          "execution_count": 54
        }
      ],
      "source": [
        "lm_datasets[\"train\"][1].keys()"
      ]
    },
    {
      "cell_type": "markdown",
      "metadata": {
        "id": "errlsVm6A_tC"
      },
      "source": [
        "### Set Up Student Model"
      ]
    },
    {
      "cell_type": "markdown",
      "metadata": {
        "id": "IRhmgXFo-p8u"
      },
      "source": [
        "Fill in the dimensions of BERT and the student network as specified in section 4.2 of the paper"
      ]
    },
    {
      "cell_type": "code",
      "execution_count": 10,
      "metadata": {
        "id": "bLpqNBPD-p8v"
      },
      "outputs": [],
      "source": [
        "vocab_size = int(1e4)\n",
        "teacher_hddn_dim = 768\n",
        "student_hddn_dim = 312\n",
        "teacher_num_hddn_layers = 12\n",
        "student_num_hddn_layers =  4\n",
        "teacher_num_attn_heads = 12\n",
        "student_num_attn_heads = 12\n",
        "teacher_ff_dim = 3072\n",
        "student_ff_dim = 1200\n",
        "teacher_embd_dim = teacher_hddn_dim\n",
        "student_embd_dim = student_hddn_dim\n",
        "layer_mapping = range(0,\n",
        "                      teacher_num_attn_heads,\n",
        "                      3)\n",
        "\n",
        "student_config = BertConfig(\n",
        "    hidden_size=student_hddn_dim,\n",
        "    num_hidden_layers=student_num_hddn_layers,\n",
        "    num_attention_heads=student_num_attn_heads,\n",
        "    intermediate_size=student_ff_dim,\n",
        ")"
      ]
    },
    {
      "cell_type": "markdown",
      "metadata": {
        "id": "NhOW156Br6Y1"
      },
      "source": [
        "### Training\n",
        "\n",
        "Train the student model using the Knowledge Distillation loss. This is the general training phase, where we are training over the Wikitext corpus. (Specific task fine-tuning will follow, for one of the NLP benchmark tests.)"
      ]
    },
    {
      "cell_type": "code",
      "execution_count": 11,
      "metadata": {
        "colab": {
          "base_uri": "https://localhost:8080/"
        },
        "id": "BoLfKJ5wSuoD",
        "outputId": "22faeaa5-57f1-4c28-87e8-6ab52d763900"
      },
      "outputs": [
        {
          "output_type": "stream",
          "name": "stderr",
          "text": [
            "Some weights of the model checkpoint at bert-base-uncased were not used when initializing BertForMaskedLM: ['cls.seq_relationship.weight', 'bert.pooler.dense.bias', 'cls.seq_relationship.bias', 'bert.pooler.dense.weight']\n",
            "- This IS expected if you are initializing BertForMaskedLM from the checkpoint of a model trained on another task or with another architecture (e.g. initializing a BertForSequenceClassification model from a BertForPreTraining model).\n",
            "- This IS NOT expected if you are initializing BertForMaskedLM from the checkpoint of a model that you expect to be exactly identical (initializing a BertForSequenceClassification model from a BertForSequenceClassification model).\n"
          ]
        }
      ],
      "source": [
        "from kd_loss import KnowledgeDistillationLoss\n",
        "\n",
        "# from_pretrained loads the config and state of the model.\n",
        "# this model https://huggingface.co/bert-base-uncased was pretrained\n",
        "# on BookCorpus and English Wikipedia\n",
        "teacher_model = BertForMaskedLM.from_pretrained(\"bert-base-uncased\").to(device)\n",
        "\n",
        "# load_state_dict changes the loaded state of the model, here presumably for the finetuning\n",
        "# on the Wikitext dataset that this notebook wanted me to use.\n",
        "# incompatibility of versions, so I can't load it. skipping.\n",
        "# teacher_model.load_state_dict(torch.load(public_folder+'bert_models/teacher_wikitext.pt'))\n",
        "student_model = BertForMaskedLM(student_config).to(device)\n",
        "criterion = KnowledgeDistillationLoss(teacher_embd_dim,\n",
        "                                      student_embd_dim,\n",
        "                                      teacher_hddn_dim,\n",
        "                                      student_hddn_dim,\n",
        "                                      layer_mapping).to(device)"
      ]
    },
    {
      "cell_type": "code",
      "execution_count": 12,
      "metadata": {
        "colab": {
          "base_uri": "https://localhost:8080/",
          "height": 113,
          "referenced_widgets": [
            "a7015541e42d448a9cff677fa045df53",
            "843a2b90a4774d008d382abdc374e8f1",
            "2d8e90f6e0f84d9ca97a31cf5f4568f7",
            "1a68adafa7cd4e5c89c65ec7196ef906",
            "095d2412ac164b9ab01c22307cb7044b",
            "784a4a9f27084ea4b2298d5d78a7281e",
            "8c3c9aa498d6407398db22c227bf6e9a",
            "9f8ee16ede78482ea8eed4a040711fe0",
            "4de133596fdf4d1380aed27cc64ed8e4",
            "efe8def82ffe444882a1cd3c57395b07",
            "184df60569ef4e1da1c6c2a94c196ae5",
            "62c1f67cdc6a48a3b4adcad7ed65bf0c",
            "9519259887e64c68987f7a179b04a8d9",
            "5668438617a04f0ab026fbe22ce59fd4",
            "59e25f85997340cfae332be38a82d5f2",
            "a69ea1313fae49189a9ab2b6b139ab2a",
            "d94ac4cd9aed4c89ae88b354add14052",
            "3ce248fd7fd5426c82234b7af17b8b36",
            "0f90cd836ae7486d95d6f6354b23da9e",
            "391baba95ebf445a8db41bdb89045184",
            "a7d7a6bd87a940bcb2568809c393e82c",
            "9b9521894fa648c0b3ccdc078294b335",
            "cd81f0f1a7594aad849ac3bd7d241f09",
            "397b16acfae64b958f2f76a7885828cf",
            "0ce368cef6214de8aabafdd3b089bafe",
            "a77e62199b104fa58770c03df0091cd3",
            "b29970aff0d0479a9b88653739b60012",
            "1310face7147487a89e943f19366c6e0",
            "b1603736657241a1b9e1e35d1989f28b",
            "b70d1ba88ccc4111b627cb3d808ff185",
            "5946014153814e3395fb5fd620a913b2",
            "6cefb01670ee4082934df54e151c2720",
            "de07c012798f456abb7ddd538f75be1a"
          ]
        },
        "id": "TTwV3Lwc-p9E",
        "outputId": "dd95efc3-b518-4713-cd8d-6288b37e387f"
      },
      "outputs": [
        {
          "output_type": "display_data",
          "data": {
            "text/plain": [
              "  0%|          | 0/580 [00:00<?, ?it/s]"
            ],
            "application/vnd.jupyter.widget-view+json": {
              "version_major": 2,
              "version_minor": 0,
              "model_id": "a7015541e42d448a9cff677fa045df53"
            }
          },
          "metadata": {}
        },
        {
          "output_type": "display_data",
          "data": {
            "text/plain": [
              "  0%|          | 0/580 [00:00<?, ?it/s]"
            ],
            "application/vnd.jupyter.widget-view+json": {
              "version_major": 2,
              "version_minor": 0,
              "model_id": "62c1f67cdc6a48a3b4adcad7ed65bf0c"
            }
          },
          "metadata": {}
        },
        {
          "output_type": "display_data",
          "data": {
            "text/plain": [
              "  0%|          | 0/580 [00:00<?, ?it/s]"
            ],
            "application/vnd.jupyter.widget-view+json": {
              "version_major": 2,
              "version_minor": 0,
              "model_id": "cd81f0f1a7594aad849ac3bd7d241f09"
            }
          },
          "metadata": {}
        }
      ],
      "source": [
        "from tqdm.notebook import tqdm\n",
        "import gc\n",
        "\n",
        "gc.collect()\n",
        "\n",
        "# from the BERT paper (Devlin et al):\n",
        "# \"We fine-tune for 3 epochs with a learning rate of 5e-5 and a batch size of 32.\"\n",
        "lr = 5e-5\n",
        "batch_size = 32\n",
        "optimizer = optim.Adam(params=student_model.parameters(),\n",
        "                       lr=lr,\n",
        "                       weight_decay=0.01)\n",
        "\n",
        "# TinyBERT paper uses 3 epochs for general distillation\n",
        "epochs = 3\n",
        "\n",
        "for epoch in range(epochs):\n",
        "    t = tqdm(range(0, len(lm_datasets[\"train\"]), batch_size))\n",
        "    # shuffle the dataset each epoch so that the batches are different\n",
        "    lm_datasets[\"train\"].shuffle(load_from_cache_file=False)\n",
        "    accuracies = []\n",
        "    losses = []\n",
        "\n",
        "    # for each batch\n",
        "    for i in t:\n",
        "        # get the data batch and push it to device\n",
        "        data = lm_datasets[\"train\"][i:i+batch_size]\n",
        "        data = {k: torch.tensor(v).to(device) for k,v in data.items()}\n",
        "\n",
        "        # pass the data through each model\n",
        "        # forward_kwargs is what we defined at the very beginning\n",
        "        # in order to output the hidden states and attention matrices\n",
        "        teacher_out = teacher_model(**data,**forward_kwargs)\n",
        "        student_out = student_model(**data,**forward_kwargs)\n",
        "\n",
        "        # add the embedding to the output\n",
        "        teacher_out['embeddings'] = teacher_model.get_input_embeddings().weight\n",
        "        student_out['embeddings'] = student_model.get_input_embeddings().weight\n",
        "\n",
        "        # calculate the KD loss\n",
        "        loss = criterion(teacher_out,student_out,penalize_prediction=False)\n",
        "        losses.append(loss.detach().cpu().numpy())\n",
        "        optimizer.zero_grad()\n",
        "        loss.backward()\n",
        "        optimizer.step()\n",
        "\n",
        "        # calculate the accuracy for this batch\n",
        "        accuracy = torch.eq(student_out['logits'].argmax(dim=2,keepdim=False).float(),data['labels']).float().mean()\n",
        "        accuracies.append(accuracy.detach().cpu().numpy())\n",
        "\n",
        "        # for the last 100 batches, get average loss and accuracy\n",
        "        loss = np.round(np.mean(losses[-100:]),3)\n",
        "        accuracy = np.round(np.mean(accuracies[-100:]),2)\n",
        "        t.set_description(\"Epoch: \"+str(epoch)+\" Loss: \"+str(loss))\n",
        "\n",
        "    os.makedirs(root_folder+'bert_models',exist_ok=True)\n",
        "    torch.save(student_model.state_dict(),root_folder+'bert_models/student_wikitext.pt')"
      ]
    },
    {
      "cell_type": "code",
      "source": [
        "import matplotlib.pyplot as plt\n",
        "%matplotlib inline\n",
        "plt.rcParams['figure.figsize'] = (10.0, 8.0) # set default size of plots\n",
        "plt.rcParams['image.interpolation'] = 'nearest'\n",
        "plt.rcParams['image.cmap'] = 'gray'\n",
        "\n",
        "plt.subplot(2, 1, 1)\n",
        "plt.plot(losses, 'o')\n",
        "plt.xlabel('iteration')\n",
        "plt.ylabel('loss')\n",
        "\n",
        "plt.subplot(2, 1, 2)\n",
        "plt.plot(accuracies, '-o')\n",
        "plt.legend(['train'], loc='upper left')\n",
        "plt.xlabel('epoch')\n",
        "plt.ylabel('accuracy')\n",
        "plt.show()"
      ],
      "metadata": {
        "id": "CcsQr9LoVGVK",
        "outputId": "826f14ae-418f-4852-91e2-06af2ecb6c2e",
        "colab": {
          "base_uri": "https://localhost:8080/",
          "height": 696
        }
      },
      "execution_count": 14,
      "outputs": [
        {
          "output_type": "display_data",
          "data": {
            "text/plain": [
              "<Figure size 1000x800 with 2 Axes>"
            ],
            "image/png": "[encoded data removed]"
          },
          "metadata": {}
        }
      ]
    },
    {
      "cell_type": "markdown",
      "metadata": {
        "id": "6PMK0aI-os6U"
      },
      "source": [
        "We next train a control, which is just the same BERT shaped student model trained from scratch on general and task specific data."
      ]
    },
    {
      "cell_type": "code",
      "execution_count": 63,
      "metadata": {
        "colab": {
          "base_uri": "https://localhost:8080/",
          "height": 49,
          "referenced_widgets": [
            "2220e96cb70d4e669c89453c64a9f15b",
            "02be85f6cdc640b880b30d155e04652d",
            "f2919dd4d7b2434f83522934cdfb3f5c",
            "d4b4d8f0afe642ca9cf0a4329e418c31",
            "59f700ffd10043be87d017ad0cc1d49e",
            "bcb3a37f2177426a9e5c7a2404ec6c7b",
            "585f84e2b8d24cacbb515f264f60b471",
            "d4bd673b60544d3c8f43dbbea5f0a366",
            "acfac8d47a6f4517abc0c1a95f0d4b19",
            "036797656d3f4cf2b9f557356957788d",
            "89fe2605bae84ef09997f984c7ba4911"
          ]
        },
        "id": "NiJZ7nXajRl3",
        "outputId": "0e638535-45da-4579-eee0-e4e8b40bc97f"
      },
      "outputs": [
        {
          "output_type": "display_data",
          "data": {
            "text/plain": [
              "  0%|          | 0/1855 [00:00<?, ?it/s]"
            ],
            "application/vnd.jupyter.widget-view+json": {
              "version_major": 2,
              "version_minor": 0,
              "model_id": "2220e96cb70d4e669c89453c64a9f15b"
            }
          },
          "metadata": {}
        }
      ],
      "source": [
        "control_model = BertForMaskedLM(student_config).to(device)\n",
        "gc.collect()\n",
        "control_model.train()\n",
        "\n",
        "lr = 1e-4\n",
        "optimizer = optim.Adam(params=control_model.parameters(),\n",
        "                       lr=lr,\n",
        "                       weight_decay=0.01)\n",
        "\n",
        "batch_size = 10\n",
        "epochs=1\n",
        "\n",
        "for epoch in range(epochs):\n",
        "    t = tqdm(range(0,len(lm_datasets[\"train\"]),batch_size))\n",
        "    lm_datasets[\"train\"].shuffle()\n",
        "    accuracies = []\n",
        "    losses = []\n",
        "\n",
        "    for i in t:\n",
        "        data = lm_datasets[\"train\"][i:i+batch_size]\n",
        "        data = {k: torch.tensor(v).to(device) for k,v in data.items()}\n",
        "\n",
        "        control_out = control_model(**data,**forward_kwargs)\n",
        "        losses.append(control_out['loss'].detach().cpu().numpy())\n",
        "\n",
        "        optimizer.zero_grad()\n",
        "        control_out['loss'].backward()\n",
        "        optimizer.step()\n",
        "\n",
        "        accuracy = torch.eq(control_out['logits'].argmax(dim=2,keepdim=False).float(),data['labels']).float().mean()\n",
        "        accuracies.append(accuracy.detach().cpu().numpy())\n",
        "        loss = np.round(np.mean(losses[-100:]),3)\n",
        "        accuracy = np.round(np.mean(accuracies[-100:]),2)\n",
        "        t.set_description(\"Epoch: \"+str(epoch)+\" Loss: \"+str(loss))\n",
        "\n",
        "    os.makedirs(root_folder+'bert_models',exist_ok=True)\n",
        "    torch.save(control_model.state_dict(),root_folder+'bert_models/control_wikitext.pt')"
      ]
    },
    {
      "cell_type": "markdown",
      "source": [
        "### Reload and test!\n",
        "\n",
        "Colab has a tendency to time-out on me ... so here we'll reload the saved model and see what it produces.\n",
        "\n",
        "Execute the first few cells and the student config cell.\n",
        "\n",
        "First time I did this, the student model was spewing out garbage. Same predictions regardless what the input text was. Went back and retrained using batch sizes and epochs from the TinyBERT paper."
      ],
      "metadata": {
        "id": "v3GRR-2zKe8F"
      }
    },
    {
      "cell_type": "code",
      "source": [
        "%%capture\n",
        "tokenizer = BertTokenizer.from_pretrained(\"bert-base-uncased\", do_lower_case=True)\n",
        "teacher_model = BertForMaskedLM.from_pretrained(\"bert-base-uncased\")\n",
        "student_model = BertForMaskedLM(student_config)\n",
        "student_model.load_state_dict(torch.load(root_folder+'bert_models/student_wikitext.pt', map_location=torch.device('cpu')))"
      ],
      "metadata": {
        "id": "sApAdwx0Kemf",
        "outputId": "70748099-85f9-4e45-edba-1c77c7783558",
        "colab": {
          "base_uri": "https://localhost:8080/"
        }
      },
      "execution_count": 7,
      "outputs": [
        {
          "output_type": "stream",
          "name": "stderr",
          "text": [
            "Some weights of the model checkpoint at bert-base-uncased were not used when initializing BertForMaskedLM: ['bert.pooler.dense.weight', 'bert.pooler.dense.bias', 'cls.seq_relationship.bias', 'cls.seq_relationship.weight']\n",
            "- This IS expected if you are initializing BertForMaskedLM from the checkpoint of a model trained on another task or with another architecture (e.g. initializing a BertForSequenceClassification model from a BertForPreTraining model).\n",
            "- This IS NOT expected if you are initializing BertForMaskedLM from the checkpoint of a model that you expect to be exactly identical (initializing a BertForSequenceClassification model from a BertForSequenceClassification model).\n"
          ]
        }
      ]
    },
    {
      "cell_type": "code",
      "source": [
        "from transformers import pipeline\n",
        "\n",
        "unmasker_teacher = pipeline('fill-mask', model=teacher_model, tokenizer=tokenizer, device=device)\n",
        "teacher_out = unmasker_teacher(\"My name is Anton, and therefore I [MASK].\")\n",
        "\n",
        "unmasker_student = pipeline('fill-mask', model=student_model, tokenizer=tokenizer, device=device)\n",
        "student_out = unmasker_student(\"My name is Anton, and therefore I [MASK].\")"
      ],
      "metadata": {
        "id": "b4EnbcwfLmo9"
      },
      "execution_count": 16,
      "outputs": []
    },
    {
      "cell_type": "code",
      "source": [
        "teacher_out"
      ],
      "metadata": {
        "id": "L2HhvtnvNsqI",
        "outputId": "24bb05bc-f4d0-47f1-ac20-bd1a9d4a0df3",
        "colab": {
          "base_uri": "https://localhost:8080/"
        }
      },
      "execution_count": 17,
      "outputs": [
        {
          "output_type": "execute_result",
          "data": {
            "text/plain": [
              "[{'score': 0.6812564134597778,\n",
              "  'token': 2572,\n",
              "  'token_str': 'am',\n",
              "  'sequence': 'my name is anton, and therefore i am.'},\n",
              " {'score': 0.04201137647032738,\n",
              "  'token': 2444,\n",
              "  'token_str': 'live',\n",
              "  'sequence': 'my name is anton, and therefore i live.'},\n",
              " {'score': 0.02546413242816925,\n",
              "  'token': 2079,\n",
              "  'token_str': 'do',\n",
              "  'sequence': 'my name is anton, and therefore i do.'},\n",
              " {'score': 0.016853395849466324,\n",
              "  'token': 4839,\n",
              "  'token_str': 'exist',\n",
              "  'sequence': 'my name is anton, and therefore i exist.'},\n",
              " {'score': 0.013874560594558716,\n",
              "  'token': 3305,\n",
              "  'token_str': 'understand',\n",
              "  'sequence': 'my name is anton, and therefore i understand.'}]"
            ]
          },
          "metadata": {},
          "execution_count": 17
        }
      ]
    },
    {
      "cell_type": "code",
      "source": [
        "student_out"
      ],
      "metadata": {
        "id": "FHwrdguINvHj",
        "outputId": "5210d590-20d7-44c2-bd75-d3f0ffcd5a97",
        "colab": {
          "base_uri": "https://localhost:8080/"
        }
      },
      "execution_count": 18,
      "outputs": [
        {
          "output_type": "execute_result",
          "data": {
            "text/plain": [
              "[{'score': 3.80976744054351e-05,\n",
              "  'token': 101,\n",
              "  'token_str': '[CLS]',\n",
              "  'sequence': 'my name is anton, and therefore i.'},\n",
              " {'score': 3.709072188939899e-05,\n",
              "  'token': 3775,\n",
              "  'token_str': '##ti',\n",
              "  'sequence': 'my name is anton, and therefore iti.'},\n",
              " {'score': 3.688348442665301e-05,\n",
              "  'token': 2101,\n",
              "  'token_str': 'later',\n",
              "  'sequence': 'my name is anton, and therefore i later.'},\n",
              " {'score': 3.681524685816839e-05,\n",
              "  'token': 2048,\n",
              "  'token_str': 'two',\n",
              "  'sequence': 'my name is anton, and therefore i two.'},\n",
              " {'score': 3.661050504888408e-05,\n",
              "  'token': 2275,\n",
              "  'token_str': 'set',\n",
              "  'sequence': 'my name is anton, and therefore i set.'}]"
            ]
          },
          "metadata": {},
          "execution_count": 18
        }
      ]
    },
    {
      "cell_type": "markdown",
      "metadata": {
        "id": "GSGZJmYIpZdq"
      },
      "source": [
        "##Task Specific Distillation"
      ]
    },
    {
      "cell_type": "markdown",
      "metadata": {
        "id": "USC3GiVeqZMN"
      },
      "source": [
        "###Data Loading"
      ]
    },
    {
      "cell_type": "code",
      "execution_count": null,
      "metadata": {
        "id": "vjJWERd7-p9Q"
      },
      "outputs": [],
      "source": [
        "%%capture\n",
        "from datasets import load_dataset\n",
        "datasets = load_dataset('glue', 'mrpc')"
      ]
    },
    {
      "cell_type": "markdown",
      "metadata": {
        "id": "YIf7dyt8qnw-"
      },
      "source": [
        "See that the data has been split into training, validation, and testing sets."
      ]
    },
    {
      "cell_type": "code",
      "execution_count": null,
      "metadata": {
        "id": "dONZeNeI-p9S"
      },
      "outputs": [],
      "source": [
        "datasets"
      ]
    },
    {
      "cell_type": "code",
      "execution_count": null,
      "metadata": {
        "id": "87VliGivqv7Q"
      },
      "outputs": [],
      "source": [
        "print(datasets['train'][0]['sentence1'], datasets['train'][0]['sentence2'])"
      ]
    },
    {
      "cell_type": "code",
      "execution_count": null,
      "metadata": {
        "id": "FqLU14b_-p9U"
      },
      "outputs": [],
      "source": [
        "%%capture\n",
        "mrpc_tok = datasets.map(lambda samples: tokenizer(samples['sentence1'], samples['sentence2'],padding='max_length',max_length=150),\n",
        "                       remove_columns=['sentence1', 'sentence2','idx'],\n",
        "                       load_from_cache_file=False,\n",
        "                      )"
      ]
    },
    {
      "cell_type": "code",
      "execution_count": null,
      "metadata": {
        "id": "VHHVEVkT-p9V"
      },
      "outputs": [],
      "source": [
        "%%capture\n",
        "def filter_texts(examples):\n",
        "    examples[\"labels\"] = examples[\"label\"].copy()\n",
        "    examples.pop('label',None)\n",
        "    return examples\n",
        "mrpc = mrpc_tok.map(\n",
        "    filter_texts,\n",
        "    batched=True,\n",
        "    batch_size=1000,\n",
        "    num_proc=4,\n",
        "    load_from_cache_file=False\n",
        ")"
      ]
    },
    {
      "cell_type": "markdown",
      "metadata": {
        "id": "n58bP7PKrnJ1"
      },
      "source": [
        "###Training"
      ]
    },
    {
      "cell_type": "code",
      "execution_count": null,
      "metadata": {
        "id": "nhg-b7tmsA3V"
      },
      "outputs": [],
      "source": [
        "from kd_loss import KnowledgeDistillationLoss\n",
        "from transformers import BertForNextSentencePrediction, BertForSequenceClassification\n",
        "teacher_model = BertForNextSentencePrediction.from_pretrained(\"bert-base-uncased\").to(device)\n",
        "teacher_model.load_state_dict(th.load(root_folder+'bert_models/teacher_mrpc.pt'))\n",
        "student_model = BertForNextSentencePrediction(student_config).to(device)\n",
        "student_model.load_state_dict(th.load(root_folder+'bert_models/student_wikitext.pt'),strict=False)\n",
        "criterion = KnowledgeDistillationLoss(teacher_embd_dim,student_embd_dim,teacher_hddn_dim,student_hddn_dim,layer_mapping).to(device)\n"
      ]
    },
    {
      "cell_type": "code",
      "execution_count": null,
      "metadata": {
        "id": "M4qnKJsRsA3w"
      },
      "outputs": [],
      "source": [
        "from tqdm.notebook import tqdm\n",
        "import gc\n",
        "gc.collect()\n",
        "optimizer = optim.Adam(params=student_model.parameters(),lr=5e-5,weight_decay=0.01)\n",
        "student_model.to(device)\n",
        "lr = 1e-4\n",
        "batch_size = 10\n",
        "epochs=10\n",
        "for epoch in range(epochs):\n",
        "    mrpc[\"train\"].shuffle(load_from_cache_file=False)\n",
        "    t = tqdm(range(0,len(mrpc[\"train\"]),batch_size))\n",
        "    accuracies = []\n",
        "    losses = []\n",
        "    for i in t:\n",
        "        data = mrpc[\"train\"][i:i+batch_size]\n",
        "        data = {k: th.tensor(v).to(device) for k,v in data.items()}\n",
        "        teacher_out = teacher_model(**data,**forward_kwargs)\n",
        "        student_out = student_model(**data,**forward_kwargs)\n",
        "        teacher_out['embeddings'] = teacher_model.get_input_embeddings().weight\n",
        "        student_out['embeddings'] = student_model.get_input_embeddings().weight\n",
        "        loss = criterion(teacher_out,student_out,penalize_prediction=True)\n",
        "        losses.append(loss.detach().cpu().numpy())\n",
        "        optimizer.zero_grad()\n",
        "        loss.backward()\n",
        "        optimizer.step()\n",
        "\n",
        "        accuracy = th.eq(student_out['logits'].argmax(dim=1,keepdim=False).float(),data['labels']).float().mean()\n",
        "        accuracies.append(accuracy.detach().cpu().numpy())\n",
        "        loss = np.around(np.mean(losses[-100:]),3)\n",
        "        accuracy = np.around(np.mean(accuracies[-100:]),2)\n",
        "        t.set_description(\"Epoch: \"+str(epoch)+\" Loss: \"+str(loss)+\" Accuracy: \"+str(accuracy))\n",
        "    os.makedirs(root_folder+'bert_models',exist_ok=True)\n",
        "    th.save(student_model.state_dict(),root_folder+'bert_models/student_mrpc.pt')"
      ]
    },
    {
      "cell_type": "markdown",
      "metadata": {
        "id": "vdYyORtusA30"
      },
      "source": [
        "We next train a control, which is just the same BERT shaped student model trained from scratch on general and task specific data."
      ]
    },
    {
      "cell_type": "code",
      "execution_count": null,
      "metadata": {
        "id": "PeOX276S-p9f"
      },
      "outputs": [],
      "source": [
        "control_model = BertForNextSentencePrediction(student_config).to(device)\n",
        "control.load_state_dict(th.load(root_folder+'bert_models/control_wikitext.pt'),strict=False)\n",
        "gc.collect()\n",
        "control_model.train()\n",
        "optimizer = optim.Adam(params=student_model.parameters(),lr=lr,weight_decay=0.01)\n",
        "lr = 1e-4\n",
        "batch_size = 10\n",
        "epochs=1\n",
        "for epoch in range(epochs):\n",
        "    mrpc[\"train\"].shuffle()\n",
        "    t = tqdm(range(0,len(mrpc[\"train\"]),batch_size))\n",
        "    accuracies = []\n",
        "    losses = []\n",
        "    for i in t:\n",
        "        data = mrpc[\"train\"][i:i+batch_size]\n",
        "        data = {k: th.tensor(v).to(device) for k,v in data.items()}\n",
        "        student_out = student_model(**data,**forward_kwargs)\n",
        "        losses.append(student_out['loss'].detach().cpu().numpy())\n",
        "\n",
        "        optimizer.zero_grad()\n",
        "        student_out['loss'].backward()\n",
        "        optimizer.step()\n",
        "        accuracy = th.eq(student_out['logits'].argmax(dim=2,keepdim=False).float(),data['labels']).float().mean()\n",
        "        accuracies.append(accuracy.detach().cpu().numpy())\n",
        "        loss = np.around(np.mean(losses[-100:]),3)\n",
        "        accuracy = np.around(np.mean(accuracies[-100:]),2)\n",
        "        t.set_description(\"Epoch: \"+str(epoch)+\" Loss: \"+str(loss))\n",
        "    os.makedirs(root_folder+'bert_models',exist_ok=True)\n",
        "    th.save(control_model.state_dict(),root_folder+'bert_models/control_wikitext.pt')"
      ]
    },
    {
      "cell_type": "markdown",
      "metadata": {
        "id": "P0osHIcMCbFu"
      },
      "source": [
        "# Preprocessing"
      ]
    },
    {
      "cell_type": "markdown",
      "metadata": {
        "id": "JJlXrT73Cjgn"
      },
      "source": [
        "##BERT Wikitext Specific Training"
      ]
    },
    {
      "cell_type": "code",
      "execution_count": null,
      "metadata": {
        "id": "kSfBjx6eCPCr"
      },
      "outputs": [],
      "source": [
        "%%capture\n",
        "from datasets import load_dataset\n",
        "datasets = load_dataset('wikitext', 'wikitext-2-raw-v1')\n",
        "tokenized_datasets = datasets.map(lambda samples: tokenizer(samples['text']), batched=True, num_proc=4, remove_columns=[\"text\"])"
      ]
    },
    {
      "cell_type": "code",
      "execution_count": null,
      "metadata": {
        "id": "zaKg2I6xCPCs"
      },
      "outputs": [],
      "source": [
        "block_size = 128\n",
        "def group_texts(examples):\n",
        "    # Concatenate all texts.\n",
        "    concatenated_examples = {k: sum(examples[k], []) for k in examples.keys()}\n",
        "    total_length = len(concatenated_examples[list(examples.keys())[0]])\n",
        "    # We drop the small remainder, we could add padding if the model supported it instead of this drop, you can\n",
        "        # customize this part to your needs.\n",
        "    total_length = (total_length // block_size) * block_size\n",
        "    # Split by chunks of max_len.\n",
        "    result = {\n",
        "        k: [t[i : i + block_size] for i in range(0, total_length, block_size)]\n",
        "        for k, t in concatenated_examples.items()\n",
        "    }\n",
        "    result[\"labels\"] = result[\"input_ids\"].copy()\n",
        "    return result"
      ]
    },
    {
      "cell_type": "code",
      "execution_count": null,
      "metadata": {
        "id": "_qaFbanmCPCt"
      },
      "outputs": [],
      "source": [
        "%%capture\n",
        "lm_datasets = tokenized_datasets.map(\n",
        "    group_texts,\n",
        "    batched=True,\n",
        "    batch_size=1000,\n",
        "    num_proc=4,\n",
        "    load_from_cache_file=False\n",
        ")"
      ]
    },
    {
      "cell_type": "code",
      "execution_count": null,
      "metadata": {
        "id": "LwOUQXDLCPCz"
      },
      "outputs": [],
      "source": [
        "from tqdm.autonotebook import tqdm\n",
        "import gc\n",
        "gc.collect()\n",
        "teacher_model.train()\n",
        "optimizer = optim.Adam(params=teacher_model.parameters(),lr=lr,weight_decay=0.01)\n",
        "lr = 1e-4\n",
        "batch_size = 10\n",
        "epochs=1\n",
        "for epoch in range(epochs):\n",
        "    lm_datasets[\"train\"].shuffle()\n",
        "    t = tqdm(range(0,len(lm_datasets[\"train\"]),batch_size))\n",
        "    accuracies = []\n",
        "    losses = []\n",
        "    for i in t:\n",
        "        data = lm_datasets[\"train\"][i:i+batch_size]\n",
        "        data = {k: th.tensor(v).to(device) for k,v in data.items()}\n",
        "        teacher_out = teacher_model(**data,**forward_kwargs)\n",
        "        losses.append(teacher_out['loss'].detach().cpu().numpy())\n",
        "\n",
        "        optimizer.zero_grad()\n",
        "        teacher_out['loss'].backward()\n",
        "        optimizer.step()\n",
        "        accuracy = th.eq(teacher_out['logits'].argmax(dim=2,keepdim=False).float(),data['labels']).float().mean()\n",
        "        accuracies.append(accuracy.detach().cpu().numpy())\n",
        "        loss = np.around(np.mean(losses[-100:]),3)\n",
        "        accuracy = np.around(np.mean(accuracies[-100:]),2)\n",
        "        t.set_description(\"Epoch: \"+str(epoch)+\" Loss: \"+str(loss)+\" Accuracy: \"+str(accuracy))"
      ]
    },
    {
      "cell_type": "code",
      "execution_count": null,
      "metadata": {
        "id": "ljmtYeeoCPC0"
      },
      "outputs": [],
      "source": [
        "teacher_model.eval()\n",
        "lm_datasets[\"validation\"].shuffle()\n",
        "t = tqdm(range(0,len(lm_datasets[\"validation\"]),batch_size))\n",
        "for i in t:\n",
        "    data = lm_datasets[\"validation\"][i:i+batch_size]\n",
        "    data = {k: th.tensor(v).to(device) for k,v in data.items()}\n",
        "    teacher_out = teacher_model(**data,**forward_kwargs)\n",
        "    losses.append(teacher_out['loss'].detach().cpu().numpy())\n",
        "\n",
        "    accuracy = th.eq(teacher_out['logits'].argmax(dim=2,keepdim=False).float(),data['labels']).float().mean()\n",
        "    accuracies.append(accuracy.detach().cpu().numpy())\n",
        "    loss = np.around(np.mean(losses),3)\n",
        "    accuracy = np.around(np.mean(accuracies),2)\n",
        "    t.set_description(\"Validation - \"+\"Loss: \"+str(loss)+\" Accuracy: \"+str(accuracy))"
      ]
    },
    {
      "cell_type": "code",
      "execution_count": null,
      "metadata": {
        "id": "E5EBMMfBCPC1"
      },
      "outputs": [],
      "source": [
        "os.makedirs(root_folder+'bert_models',exist_ok=True)\n",
        "th.save(teacher_model.state_dict(),root_folder+'bert_models/teacher_wikitext.pt')"
      ]
    },
    {
      "cell_type": "markdown",
      "metadata": {
        "id": "w4wghDKGvWRm"
      },
      "source": [
        "##BERT MRPC Specific Training"
      ]
    },
    {
      "cell_type": "code",
      "execution_count": null,
      "metadata": {
        "id": "iJstjDEivWw8"
      },
      "outputs": [],
      "source": [
        "%%capture\n",
        "from datasets import load_dataset\n",
        "datasets = load_dataset('glue', 'mrpc')\n",
        "mrpc_tok = datasets.map(lambda samples: tokenizer(samples['sentence1'], samples['sentence2'],padding='max_length',max_length=150),\n",
        "                       remove_columns=['sentence1', 'sentence2','idx'],\n",
        "                       load_from_cache_file=False,\n",
        "                      )"
      ]
    },
    {
      "cell_type": "code",
      "execution_count": null,
      "metadata": {
        "id": "XH2GqNSXvWw9"
      },
      "outputs": [],
      "source": [
        "%%capture\n",
        "def filter_texts(examples):\n",
        "    examples[\"labels\"] = examples[\"label\"].copy()\n",
        "    examples.pop('label',None)\n",
        "    return examples\n",
        "mrpc = mrpc_tok.map(\n",
        "    filter_texts,\n",
        "    batched=True,\n",
        "    batch_size=1000,\n",
        "    num_proc=4,\n",
        "    load_from_cache_file=False\n",
        ")"
      ]
    },
    {
      "cell_type": "code",
      "execution_count": null,
      "metadata": {
        "id": "PnGTEIORvWw_"
      },
      "outputs": [],
      "source": [
        "%%capture\n",
        "from transformers import BertForNextSentencePrediction, BertForSequenceClassification\n",
        "teacher_model = BertForNextSentencePrediction.from_pretrained(\"bert-base-uncased\").to(device)"
      ]
    },
    {
      "cell_type": "code",
      "execution_count": null,
      "metadata": {
        "id": "YiwILDOpv1pH"
      },
      "outputs": [],
      "source": [
        "from tqdm.autonotebook import tqdm\n",
        "import gc\n",
        "gc.collect()\n",
        "teacher_model.train()\n",
        "lr = 2e-5\n",
        "batch_size = 10\n",
        "epochs=10\n",
        "optimizer = optim.Adam(params=teacher_model.parameters(),lr=lr,weight_decay=0.01)\n",
        "for epoch in range(epochs):\n",
        "    mrpc[\"train\"].shuffle(load_from_cache_file=False)\n",
        "    t = tqdm(range(0,len(mrpc[\"train\"]),batch_size))\n",
        "    accuracies = []\n",
        "    losses = []\n",
        "    for i in t:\n",
        "        data = mrpc[\"train\"][i:i+batch_size]\n",
        "        data = {k: th.tensor(v).to(device) for k,v in data.items()}\n",
        "        teacher_out = teacher_model(**data,**forward_kwargs)\n",
        "        losses.append(teacher_out['loss'].detach().cpu().numpy())\n",
        "\n",
        "        optimizer.zero_grad()\n",
        "        teacher_out['loss'].backward()\n",
        "        optimizer.step()\n",
        "        accuracy = th.eq(teacher_out['logits'].argmax(dim=1,keepdim=False).float(),data['labels']).float().mean()\n",
        "        accuracies.append(accuracy.detach().cpu().numpy())\n",
        "        loss = np.around(np.mean(losses[-100:]),3)\n",
        "        accuracy = np.around(np.mean(accuracies[-100:]),2)\n",
        "        t.set_description(\"Epoch: \"+str(epoch)+\" Loss: \"+str(loss)+\" Accuracy: \"+str(accuracy))"
      ]
    },
    {
      "cell_type": "code",
      "execution_count": null,
      "metadata": {
        "id": "VGBVGfo7v1pJ"
      },
      "outputs": [],
      "source": [
        "teacher_model.eval()\n",
        "mrpc[\"validation\"]\n",
        "t = tqdm(range(0,len(mrpc[\"validation\"]),batch_size))\n",
        "for i in t:\n",
        "    data = mrpc[\"validation\"][i:i+batch_size]\n",
        "    data = {k: th.tensor(v).to(device) for k,v in data.items()}\n",
        "    teacher_out = teacher_model(**data,**forward_kwargs)\n",
        "    losses.append(teacher_out['loss'].detach().cpu().numpy())\n",
        "\n",
        "    accuracy = th.eq(teacher_out['logits'].argmax(dim=1,keepdim=False).float(),data['labels']).float().mean()\n",
        "    accuracies.append(accuracy.detach().cpu().numpy())\n",
        "    loss = np.around(np.mean(losses),3)\n",
        "    accuracy = np.around(np.mean(accuracies),2)\n",
        "    t.set_description(\"Validation - \"+\"Loss: \"+str(loss)+\" Accuracy: \"+str(accuracy))"
      ]
    },
    {
      "cell_type": "code",
      "execution_count": null,
      "metadata": {
        "id": "iuenOJXTv1pL"
      },
      "outputs": [],
      "source": [
        "os.makedirs(root_folder+'bert_models',exist_ok=True)\n",
        "th.save(teacher_model.state_dict(),root_folder+'bert_models/teacher_mrpc.pt')"
      ]
    }
  ],
  "metadata": {
    "accelerator": "GPU",
    "colab": {
      "collapsed_sections": [
        "u3vhv5zl-p7z",
        "P0osHIcMCbFu"
      ],
      "name": "3 Knowledge Distillation.ipynb",
      "provenance": [],
      "toc_visible": true,
      "gpuType": "T4"
    },
    "kernelspec": {
      "display_name": "Python 3",
      "name": "python3"
    },
    "language_info": {
      "codemirror_mode": {
        "name": "ipython",
        "version": 3
      },
      "file_extension": ".py",
      "mimetype": "text/x-python",
      "name": "python",
      "nbconvert_exporter": "python",
      "pygments_lexer": "ipython3",
      "version": "3.10.12"
    },
    "widgets": {
      "application/vnd.jupyter.widget-state+json": {
        "a7015541e42d448a9cff677fa045df53": {
          "model_module": "@jupyter-widgets/controls",
          "model_name": "HBoxModel",
          "model_module_version": "1.5.0",
          "state": {
            "_dom_classes": [],
            "_model_module": "@jupyter-widgets/controls",
            "_model_module_version": "1.5.0",
            "_model_name": "HBoxModel",
            "_view_count": null,
            "_view_module": "@jupyter-widgets/controls",
            "_view_module_version": "1.5.0",
            "_view_name": "HBoxView",
            "box_style": "",
            "children": [
              "IPY_MODEL_843a2b90a4774d008d382abdc374e8f1",
              "IPY_MODEL_2d8e90f6e0f84d9ca97a31cf5f4568f7",
              "IPY_MODEL_1a68adafa7cd4e5c89c65ec7196ef906"
            ],
            "layout": "IPY_MODEL_095d2412ac164b9ab01c22307cb7044b"
          }
        },
        "843a2b90a4774d008d382abdc374e8f1": {
          "model_module": "@jupyter-widgets/controls",
          "model_name": "HTMLModel",
          "model_module_version": "1.5.0",
          "state": {
            "_dom_classes": [],
            "_model_module": "@jupyter-widgets/controls",
            "_model_module_version": "1.5.0",
            "_model_name": "HTMLModel",
            "_view_count": null,
            "_view_module": "@jupyter-widgets/controls",
            "_view_module_version": "1.5.0",
            "_view_name": "HTMLView",
            "description": "",
            "description_tooltip": null,
            "layout": "IPY_MODEL_784a4a9f27084ea4b2298d5d78a7281e",
            "placeholder": "​",
            "style": "IPY_MODEL_8c3c9aa498d6407398db22c227bf6e9a",
            "value": "Epoch: 0 Loss: 2.141: 100%"
          }
        },
        "2d8e90f6e0f84d9ca97a31cf5f4568f7": {
          "model_module": "@jupyter-widgets/controls",
          "model_name": "FloatProgressModel",
          "model_module_version": "1.5.0",
          "state": {
            "_dom_classes": [],
            "_model_module": "@jupyter-widgets/controls",
            "_model_module_version": "1.5.0",
            "_model_name": "FloatProgressModel",
            "_view_count": null,
            "_view_module": "@jupyter-widgets/controls",
            "_view_module_version": "1.5.0",
            "_view_name": "ProgressView",
            "bar_style": "success",
            "description": "",
            "description_tooltip": null,
            "layout": "IPY_MODEL_9f8ee16ede78482ea8eed4a040711fe0",
            "max": 580,
            "min": 0,
            "orientation": "horizontal",
            "style": "IPY_MODEL_4de133596fdf4d1380aed27cc64ed8e4",
            "value": 580
          }
        },
        "1a68adafa7cd4e5c89c65ec7196ef906": {
          "model_module": "@jupyter-widgets/controls",
          "model_name": "HTMLModel",
          "model_module_version": "1.5.0",
          "state": {
            "_dom_classes": [],
            "_model_module": "@jupyter-widgets/controls",
            "_model_module_version": "1.5.0",
            "_model_name": "HTMLModel",
            "_view_count": null,
            "_view_module": "@jupyter-widgets/controls",
            "_view_module_version": "1.5.0",
            "_view_name": "HTMLView",
            "description": "",
            "description_tooltip": null,
            "layout": "IPY_MODEL_efe8def82ffe444882a1cd3c57395b07",
            "placeholder": "​",
            "style": "IPY_MODEL_184df60569ef4e1da1c6c2a94c196ae5",
            "value": " 580/580 [03:51&lt;00:00,  2.81it/s]"
          }
        },
        "095d2412ac164b9ab01c22307cb7044b": {
          "model_module": "@jupyter-widgets/base",
          "model_name": "LayoutModel",
          "model_module_version": "1.2.0",
          "state": {
            "_model_module": "@jupyter-widgets/base",
            "_model_module_version": "1.2.0",
            "_model_name": "LayoutModel",
            "_view_count": null,
            "_view_module": "@jupyter-widgets/base",
            "_view_module_version": "1.2.0",
            "_view_name": "LayoutView",
            "align_content": null,
            "align_items": null,
            "align_self": null,
            "border": null,
            "bottom": null,
            "display": null,
            "flex": null,
            "flex_flow": null,
            "grid_area": null,
            "grid_auto_columns": null,
            "grid_auto_flow": null,
            "grid_auto_rows": null,
            "grid_column": null,
            "grid_gap": null,
            "grid_row": null,
            "grid_template_areas": null,
            "grid_template_columns": null,
            "grid_template_rows": null,
            "height": null,
            "justify_content": null,
            "justify_items": null,
            "left": null,
            "margin": null,
            "max_height": null,
            "max_width": null,
            "min_height": null,
            "min_width": null,
            "object_fit": null,
            "object_position": null,
            "order": null,
            "overflow": null,
            "overflow_x": null,
            "overflow_y": null,
            "padding": null,
            "right": null,
            "top": null,
            "visibility": null,
            "width": null
          }
        },
        "784a4a9f27084ea4b2298d5d78a7281e": {
          "model_module": "@jupyter-widgets/base",
          "model_name": "LayoutModel",
          "model_module_version": "1.2.0",
          "state": {
            "_model_module": "@jupyter-widgets/base",
            "_model_module_version": "1.2.0",
            "_model_name": "LayoutModel",
            "_view_count": null,
            "_view_module": "@jupyter-widgets/base",
            "_view_module_version": "1.2.0",
            "_view_name": "LayoutView",
            "align_content": null,
            "align_items": null,
            "align_self": null,
            "border": null,
            "bottom": null,
            "display": null,
            "flex": null,
            "flex_flow": null,
            "grid_area": null,
            "grid_auto_columns": null,
            "grid_auto_flow": null,
            "grid_auto_rows": null,
            "grid_column": null,
            "grid_gap": null,
            "grid_row": null,
            "grid_template_areas": null,
            "grid_template_columns": null,
            "grid_template_rows": null,
            "height": null,
            "justify_content": null,
            "justify_items": null,
            "left": null,
            "margin": null,
            "max_height": null,
            "max_width": null,
            "min_height": null,
            "min_width": null,
            "object_fit": null,
            "object_position": null,
            "order": null,
            "overflow": null,
            "overflow_x": null,
            "overflow_y": null,
            "padding": null,
            "right": null,
            "top": null,
            "visibility": null,
            "width": null
          }
        },
        "8c3c9aa498d6407398db22c227bf6e9a": {
          "model_module": "@jupyter-widgets/controls",
          "model_name": "DescriptionStyleModel",
          "model_module_version": "1.5.0",
          "state": {
            "_model_module": "@jupyter-widgets/controls",
            "_model_module_version": "1.5.0",
            "_model_name": "DescriptionStyleModel",
            "_view_count": null,
            "_view_module": "@jupyter-widgets/base",
            "_view_module_version": "1.2.0",
            "_view_name": "StyleView",
            "description_width": ""
          }
        },
        "9f8ee16ede78482ea8eed4a040711fe0": {
          "model_module": "@jupyter-widgets/base",
          "model_name": "LayoutModel",
          "model_module_version": "1.2.0",
          "state": {
            "_model_module": "@jupyter-widgets/base",
            "_model_module_version": "1.2.0",
            "_model_name": "LayoutModel",
            "_view_count": null,
            "_view_module": "@jupyter-widgets/base",
            "_view_module_version": "1.2.0",
            "_view_name": "LayoutView",
            "align_content": null,
            "align_items": null,
            "align_self": null,
            "border": null,
            "bottom": null,
            "display": null,
            "flex": null,
            "flex_flow": null,
            "grid_area": null,
            "grid_auto_columns": null,
            "grid_auto_flow": null,
            "grid_auto_rows": null,
            "grid_column": null,
            "grid_gap": null,
            "grid_row": null,
            "grid_template_areas": null,
            "grid_template_columns": null,
            "grid_template_rows": null,
            "height": null,
            "justify_content": null,
            "justify_items": null,
            "left": null,
            "margin": null,
            "max_height": null,
            "max_width": null,
            "min_height": null,
            "min_width": null,
            "object_fit": null,
            "object_position": null,
            "order": null,
            "overflow": null,
            "overflow_x": null,
            "overflow_y": null,
            "padding": null,
            "right": null,
            "top": null,
            "visibility": null,
            "width": null
          }
        },
        "4de133596fdf4d1380aed27cc64ed8e4": {
          "model_module": "@jupyter-widgets/controls",
          "model_name": "ProgressStyleModel",
          "model_module_version": "1.5.0",
          "state": {
            "_model_module": "@jupyter-widgets/controls",
            "_model_module_version": "1.5.0",
            "_model_name": "ProgressStyleModel",
            "_view_count": null,
            "_view_module": "@jupyter-widgets/base",
            "_view_module_version": "1.2.0",
            "_view_name": "StyleView",
            "bar_color": null,
            "description_width": ""
          }
        },
        "efe8def82ffe444882a1cd3c57395b07": {
          "model_module": "@jupyter-widgets/base",
          "model_name": "LayoutModel",
          "model_module_version": "1.2.0",
          "state": {
            "_model_module": "@jupyter-widgets/base",
            "_model_module_version": "1.2.0",
            "_model_name": "LayoutModel",
            "_view_count": null,
            "_view_module": "@jupyter-widgets/base",
            "_view_module_version": "1.2.0",
            "_view_name": "LayoutView",
            "align_content": null,
            "align_items": null,
            "align_self": null,
            "border": null,
            "bottom": null,
            "display": null,
            "flex": null,
            "flex_flow": null,
            "grid_area": null,
            "grid_auto_columns": null,
            "grid_auto_flow": null,
            "grid_auto_rows": null,
            "grid_column": null,
            "grid_gap": null,
            "grid_row": null,
            "grid_template_areas": null,
            "grid_template_columns": null,
            "grid_template_rows": null,
            "height": null,
            "justify_content": null,
            "justify_items": null,
            "left": null,
            "margin": null,
            "max_height": null,
            "max_width": null,
            "min_height": null,
            "min_width": null,
            "object_fit": null,
            "object_position": null,
            "order": null,
            "overflow": null,
            "overflow_x": null,
            "overflow_y": null,
            "padding": null,
            "right": null,
            "top": null,
            "visibility": null,
            "width": null
          }
        },
        "184df60569ef4e1da1c6c2a94c196ae5": {
          "model_module": "@jupyter-widgets/controls",
          "model_name": "DescriptionStyleModel",
          "model_module_version": "1.5.0",
          "state": {
            "_model_module": "@jupyter-widgets/controls",
            "_model_module_version": "1.5.0",
            "_model_name": "DescriptionStyleModel",
            "_view_count": null,
            "_view_module": "@jupyter-widgets/base",
            "_view_module_version": "1.2.0",
            "_view_name": "StyleView",
            "description_width": ""
          }
        },
        "62c1f67cdc6a48a3b4adcad7ed65bf0c": {
          "model_module": "@jupyter-widgets/controls",
          "model_name": "HBoxModel",
          "model_module_version": "1.5.0",
          "state": {
            "_dom_classes": [],
            "_model_module": "@jupyter-widgets/controls",
            "_model_module_version": "1.5.0",
            "_model_name": "HBoxModel",
            "_view_count": null,
            "_view_module": "@jupyter-widgets/controls",
            "_view_module_version": "1.5.0",
            "_view_name": "HBoxView",
            "box_style": "",
            "children": [
              "IPY_MODEL_9519259887e64c68987f7a179b04a8d9",
              "IPY_MODEL_5668438617a04f0ab026fbe22ce59fd4",
              "IPY_MODEL_59e25f85997340cfae332be38a82d5f2"
            ],
            "layout": "IPY_MODEL_a69ea1313fae49189a9ab2b6b139ab2a"
          }
        },
        "9519259887e64c68987f7a179b04a8d9": {
          "model_module": "@jupyter-widgets/controls",
          "model_name": "HTMLModel",
          "model_module_version": "1.5.0",
          "state": {
            "_dom_classes": [],
            "_model_module": "@jupyter-widgets/controls",
            "_model_module_version": "1.5.0",
            "_model_name": "HTMLModel",
            "_view_count": null,
            "_view_module": "@jupyter-widgets/controls",
            "_view_module_version": "1.5.0",
            "_view_name": "HTMLView",
            "description": "",
            "description_tooltip": null,
            "layout": "IPY_MODEL_d94ac4cd9aed4c89ae88b354add14052",
            "placeholder": "​",
            "style": "IPY_MODEL_3ce248fd7fd5426c82234b7af17b8b36",
            "value": "Epoch: 1 Loss: 2.032: 100%"
          }
        },
        "5668438617a04f0ab026fbe22ce59fd4": {
          "model_module": "@jupyter-widgets/controls",
          "model_name": "FloatProgressModel",
          "model_module_version": "1.5.0",
          "state": {
            "_dom_classes": [],
            "_model_module": "@jupyter-widgets/controls",
            "_model_module_version": "1.5.0",
            "_model_name": "FloatProgressModel",
            "_view_count": null,
            "_view_module": "@jupyter-widgets/controls",
            "_view_module_version": "1.5.0",
            "_view_name": "ProgressView",
            "bar_style": "success",
            "description": "",
            "description_tooltip": null,
            "layout": "IPY_MODEL_0f90cd836ae7486d95d6f6354b23da9e",
            "max": 580,
            "min": 0,
            "orientation": "horizontal",
            "style": "IPY_MODEL_391baba95ebf445a8db41bdb89045184",
            "value": 580
          }
        },
        "59e25f85997340cfae332be38a82d5f2": {
          "model_module": "@jupyter-widgets/controls",
          "model_name": "HTMLModel",
          "model_module_version": "1.5.0",
          "state": {
            "_dom_classes": [],
            "_model_module": "@jupyter-widgets/controls",
            "_model_module_version": "1.5.0",
            "_model_name": "HTMLModel",
            "_view_count": null,
            "_view_module": "@jupyter-widgets/controls",
            "_view_module_version": "1.5.0",
            "_view_name": "HTMLView",
            "description": "",
            "description_tooltip": null,
            "layout": "IPY_MODEL_a7d7a6bd87a940bcb2568809c393e82c",
            "placeholder": "​",
            "style": "IPY_MODEL_9b9521894fa648c0b3ccdc078294b335",
            "value": " 580/580 [03:49&lt;00:00,  2.78it/s]"
          }
        },
        "a69ea1313fae49189a9ab2b6b139ab2a": {
          "model_module": "@jupyter-widgets/base",
          "model_name": "LayoutModel",
          "model_module_version": "1.2.0",
          "state": {
            "_model_module": "@jupyter-widgets/base",
            "_model_module_version": "1.2.0",
            "_model_name": "LayoutModel",
            "_view_count": null,
            "_view_module": "@jupyter-widgets/base",
            "_view_module_version": "1.2.0",
            "_view_name": "LayoutView",
            "align_content": null,
            "align_items": null,
            "align_self": null,
            "border": null,
            "bottom": null,
            "display": null,
            "flex": null,
            "flex_flow": null,
            "grid_area": null,
            "grid_auto_columns": null,
            "grid_auto_flow": null,
            "grid_auto_rows": null,
            "grid_column": null,
            "grid_gap": null,
            "grid_row": null,
            "grid_template_areas": null,
            "grid_template_columns": null,
            "grid_template_rows": null,
            "height": null,
            "justify_content": null,
            "justify_items": null,
            "left": null,
            "margin": null,
            "max_height": null,
            "max_width": null,
            "min_height": null,
            "min_width": null,
            "object_fit": null,
            "object_position": null,
            "order": null,
            "overflow": null,
            "overflow_x": null,
            "overflow_y": null,
            "padding": null,
            "right": null,
            "top": null,
            "visibility": null,
            "width": null
          }
        },
        "d94ac4cd9aed4c89ae88b354add14052": {
          "model_module": "@jupyter-widgets/base",
          "model_name": "LayoutModel",
          "model_module_version": "1.2.0",
          "state": {
            "_model_module": "@jupyter-widgets/base",
            "_model_module_version": "1.2.0",
            "_model_name": "LayoutModel",
            "_view_count": null,
            "_view_module": "@jupyter-widgets/base",
            "_view_module_version": "1.2.0",
            "_view_name": "LayoutView",
            "align_content": null,
            "align_items": null,
            "align_self": null,
            "border": null,
            "bottom": null,
            "display": null,
            "flex": null,
            "flex_flow": null,
            "grid_area": null,
            "grid_auto_columns": null,
            "grid_auto_flow": null,
            "grid_auto_rows": null,
            "grid_column": null,
            "grid_gap": null,
            "grid_row": null,
            "grid_template_areas": null,
            "grid_template_columns": null,
            "grid_template_rows": null,
            "height": null,
            "justify_content": null,
            "justify_items": null,
            "left": null,
            "margin": null,
            "max_height": null,
            "max_width": null,
            "min_height": null,
            "min_width": null,
            "object_fit": null,
            "object_position": null,
            "order": null,
            "overflow": null,
            "overflow_x": null,
            "overflow_y": null,
            "padding": null,
            "right": null,
            "top": null,
            "visibility": null,
            "width": null
          }
        },
        "3ce248fd7fd5426c82234b7af17b8b36": {
          "model_module": "@jupyter-widgets/controls",
          "model_name": "DescriptionStyleModel",
          "model_module_version": "1.5.0",
          "state": {
            "_model_module": "@jupyter-widgets/controls",
            "_model_module_version": "1.5.0",
            "_model_name": "DescriptionStyleModel",
            "_view_count": null,
            "_view_module": "@jupyter-widgets/base",
            "_view_module_version": "1.2.0",
            "_view_name": "StyleView",
            "description_width": ""
          }
        },
        "0f90cd836ae7486d95d6f6354b23da9e": {
          "model_module": "@jupyter-widgets/base",
          "model_name": "LayoutModel",
          "model_module_version": "1.2.0",
          "state": {
            "_model_module": "@jupyter-widgets/base",
            "_model_module_version": "1.2.0",
            "_model_name": "LayoutModel",
            "_view_count": null,
            "_view_module": "@jupyter-widgets/base",
            "_view_module_version": "1.2.0",
            "_view_name": "LayoutView",
            "align_content": null,
            "align_items": null,
            "align_self": null,
            "border": null,
            "bottom": null,
            "display": null,
            "flex": null,
            "flex_flow": null,
            "grid_area": null,
            "grid_auto_columns": null,
            "grid_auto_flow": null,
            "grid_auto_rows": null,
            "grid_column": null,
            "grid_gap": null,
            "grid_row": null,
            "grid_template_areas": null,
            "grid_template_columns": null,
            "grid_template_rows": null,
            "height": null,
            "justify_content": null,
            "justify_items": null,
            "left": null,
            "margin": null,
            "max_height": null,
            "max_width": null,
            "min_height": null,
            "min_width": null,
            "object_fit": null,
            "object_position": null,
            "order": null,
            "overflow": null,
            "overflow_x": null,
            "overflow_y": null,
            "padding": null,
            "right": null,
            "top": null,
            "visibility": null,
            "width": null
          }
        },
        "391baba95ebf445a8db41bdb89045184": {
          "model_module": "@jupyter-widgets/controls",
          "model_name": "ProgressStyleModel",
          "model_module_version": "1.5.0",
          "state": {
            "_model_module": "@jupyter-widgets/controls",
            "_model_module_version": "1.5.0",
            "_model_name": "ProgressStyleModel",
            "_view_count": null,
            "_view_module": "@jupyter-widgets/base",
            "_view_module_version": "1.2.0",
            "_view_name": "StyleView",
            "bar_color": null,
            "description_width": ""
          }
        },
        "a7d7a6bd87a940bcb2568809c393e82c": {
          "model_module": "@jupyter-widgets/base",
          "model_name": "LayoutModel",
          "model_module_version": "1.2.0",
          "state": {
            "_model_module": "@jupyter-widgets/base",
            "_model_module_version": "1.2.0",
            "_model_name": "LayoutModel",
            "_view_count": null,
            "_view_module": "@jupyter-widgets/base",
            "_view_module_version": "1.2.0",
            "_view_name": "LayoutView",
            "align_content": null,
            "align_items": null,
            "align_self": null,
            "border": null,
            "bottom": null,
            "display": null,
            "flex": null,
            "flex_flow": null,
            "grid_area": null,
            "grid_auto_columns": null,
            "grid_auto_flow": null,
            "grid_auto_rows": null,
            "grid_column": null,
            "grid_gap": null,
            "grid_row": null,
            "grid_template_areas": null,
            "grid_template_columns": null,
            "grid_template_rows": null,
            "height": null,
            "justify_content": null,
            "justify_items": null,
            "left": null,
            "margin": null,
            "max_height": null,
            "max_width": null,
            "min_height": null,
            "min_width": null,
            "object_fit": null,
            "object_position": null,
            "order": null,
            "overflow": null,
            "overflow_x": null,
            "overflow_y": null,
            "padding": null,
            "right": null,
            "top": null,
            "visibility": null,
            "width": null
          }
        },
        "9b9521894fa648c0b3ccdc078294b335": {
          "model_module": "@jupyter-widgets/controls",
          "model_name": "DescriptionStyleModel",
          "model_module_version": "1.5.0",
          "state": {
            "_model_module": "@jupyter-widgets/controls",
            "_model_module_version": "1.5.0",
            "_model_name": "DescriptionStyleModel",
            "_view_count": null,
            "_view_module": "@jupyter-widgets/base",
            "_view_module_version": "1.2.0",
            "_view_name": "StyleView",
            "description_width": ""
          }
        },
        "cd81f0f1a7594aad849ac3bd7d241f09": {
          "model_module": "@jupyter-widgets/controls",
          "model_name": "HBoxModel",
          "model_module_version": "1.5.0",
          "state": {
            "_dom_classes": [],
            "_model_module": "@jupyter-widgets/controls",
            "_model_module_version": "1.5.0",
            "_model_name": "HBoxModel",
            "_view_count": null,
            "_view_module": "@jupyter-widgets/controls",
            "_view_module_version": "1.5.0",
            "_view_name": "HBoxView",
            "box_style": "",
            "children": [
              "IPY_MODEL_397b16acfae64b958f2f76a7885828cf",
              "IPY_MODEL_0ce368cef6214de8aabafdd3b089bafe",
              "IPY_MODEL_a77e62199b104fa58770c03df0091cd3"
            ],
            "layout": "IPY_MODEL_b29970aff0d0479a9b88653739b60012"
          }
        },
        "397b16acfae64b958f2f76a7885828cf": {
          "model_module": "@jupyter-widgets/controls",
          "model_name": "HTMLModel",
          "model_module_version": "1.5.0",
          "state": {
            "_dom_classes": [],
            "_model_module": "@jupyter-widgets/controls",
            "_model_module_version": "1.5.0",
            "_model_name": "HTMLModel",
            "_view_count": null,
            "_view_module": "@jupyter-widgets/controls",
            "_view_module_version": "1.5.0",
            "_view_name": "HTMLView",
            "description": "",
            "description_tooltip": null,
            "layout": "IPY_MODEL_1310face7147487a89e943f19366c6e0",
            "placeholder": "​",
            "style": "IPY_MODEL_b1603736657241a1b9e1e35d1989f28b",
            "value": "Epoch: 2 Loss: 1.975: 100%"
          }
        },
        "0ce368cef6214de8aabafdd3b089bafe": {
          "model_module": "@jupyter-widgets/controls",
          "model_name": "FloatProgressModel",
          "model_module_version": "1.5.0",
          "state": {
            "_dom_classes": [],
            "_model_module": "@jupyter-widgets/controls",
            "_model_module_version": "1.5.0",
            "_model_name": "FloatProgressModel",
            "_view_count": null,
            "_view_module": "@jupyter-widgets/controls",
            "_view_module_version": "1.5.0",
            "_view_name": "ProgressView",
            "bar_style": "success",
            "description": "",
            "description_tooltip": null,
            "layout": "IPY_MODEL_b70d1ba88ccc4111b627cb3d808ff185",
            "max": 580,
            "min": 0,
            "orientation": "horizontal",
            "style": "IPY_MODEL_5946014153814e3395fb5fd620a913b2",
            "value": 580
          }
        },
        "a77e62199b104fa58770c03df0091cd3": {
          "model_module": "@jupyter-widgets/controls",
          "model_name": "HTMLModel",
          "model_module_version": "1.5.0",
          "state": {
            "_dom_classes": [],
            "_model_module": "@jupyter-widgets/controls",
            "_model_module_version": "1.5.0",
            "_model_name": "HTMLModel",
            "_view_count": null,
            "_view_module": "@jupyter-widgets/controls",
            "_view_module_version": "1.5.0",
            "_view_name": "HTMLView",
            "description": "",
            "description_tooltip": null,
            "layout": "IPY_MODEL_6cefb01670ee4082934df54e151c2720",
            "placeholder": "​",
            "style": "IPY_MODEL_de07c012798f456abb7ddd538f75be1a",
            "value": " 580/580 [03:51&lt;00:00,  2.79it/s]"
          }
        },
        "b29970aff0d0479a9b88653739b60012": {
          "model_module": "@jupyter-widgets/base",
          "model_name": "LayoutModel",
          "model_module_version": "1.2.0",
          "state": {
            "_model_module": "@jupyter-widgets/base",
            "_model_module_version": "1.2.0",
            "_model_name": "LayoutModel",
            "_view_count": null,
            "_view_module": "@jupyter-widgets/base",
            "_view_module_version": "1.2.0",
            "_view_name": "LayoutView",
            "align_content": null,
            "align_items": null,
            "align_self": null,
            "border": null,
            "bottom": null,
            "display": null,
            "flex": null,
            "flex_flow": null,
            "grid_area": null,
            "grid_auto_columns": null,
            "grid_auto_flow": null,
            "grid_auto_rows": null,
            "grid_column": null,
            "grid_gap": null,
            "grid_row": null,
            "grid_template_areas": null,
            "grid_template_columns": null,
            "grid_template_rows": null,
            "height": null,
            "justify_content": null,
            "justify_items": null,
            "left": null,
            "margin": null,
            "max_height": null,
            "max_width": null,
            "min_height": null,
            "min_width": null,
            "object_fit": null,
            "object_position": null,
            "order": null,
            "overflow": null,
            "overflow_x": null,
            "overflow_y": null,
            "padding": null,
            "right": null,
            "top": null,
            "visibility": null,
            "width": null
          }
        },
        "1310face7147487a89e943f19366c6e0": {
          "model_module": "@jupyter-widgets/base",
          "model_name": "LayoutModel",
          "model_module_version": "1.2.0",
          "state": {
            "_model_module": "@jupyter-widgets/base",
            "_model_module_version": "1.2.0",
            "_model_name": "LayoutModel",
            "_view_count": null,
            "_view_module": "@jupyter-widgets/base",
            "_view_module_version": "1.2.0",
            "_view_name": "LayoutView",
            "align_content": null,
            "align_items": null,
            "align_self": null,
            "border": null,
            "bottom": null,
            "display": null,
            "flex": null,
            "flex_flow": null,
            "grid_area": null,
            "grid_auto_columns": null,
            "grid_auto_flow": null,
            "grid_auto_rows": null,
            "grid_column": null,
            "grid_gap": null,
            "grid_row": null,
            "grid_template_areas": null,
            "grid_template_columns": null,
            "grid_template_rows": null,
            "height": null,
            "justify_content": null,
            "justify_items": null,
            "left": null,
            "margin": null,
            "max_height": null,
            "max_width": null,
            "min_height": null,
            "min_width": null,
            "object_fit": null,
            "object_position": null,
            "order": null,
            "overflow": null,
            "overflow_x": null,
            "overflow_y": null,
            "padding": null,
            "right": null,
            "top": null,
            "visibility": null,
            "width": null
          }
        },
        "b1603736657241a1b9e1e35d1989f28b": {
          "model_module": "@jupyter-widgets/controls",
          "model_name": "DescriptionStyleModel",
          "model_module_version": "1.5.0",
          "state": {
            "_model_module": "@jupyter-widgets/controls",
            "_model_module_version": "1.5.0",
            "_model_name": "DescriptionStyleModel",
            "_view_count": null,
            "_view_module": "@jupyter-widgets/base",
            "_view_module_version": "1.2.0",
            "_view_name": "StyleView",
            "description_width": ""
          }
        },
        "b70d1ba88ccc4111b627cb3d808ff185": {
          "model_module": "@jupyter-widgets/base",
          "model_name": "LayoutModel",
          "model_module_version": "1.2.0",
          "state": {
            "_model_module": "@jupyter-widgets/base",
            "_model_module_version": "1.2.0",
            "_model_name": "LayoutModel",
            "_view_count": null,
            "_view_module": "@jupyter-widgets/base",
            "_view_module_version": "1.2.0",
            "_view_name": "LayoutView",
            "align_content": null,
            "align_items": null,
            "align_self": null,
            "border": null,
            "bottom": null,
            "display": null,
            "flex": null,
            "flex_flow": null,
            "grid_area": null,
            "grid_auto_columns": null,
            "grid_auto_flow": null,
            "grid_auto_rows": null,
            "grid_column": null,
            "grid_gap": null,
            "grid_row": null,
            "grid_template_areas": null,
            "grid_template_columns": null,
            "grid_template_rows": null,
            "height": null,
            "justify_content": null,
            "justify_items": null,
            "left": null,
            "margin": null,
            "max_height": null,
            "max_width": null,
            "min_height": null,
            "min_width": null,
            "object_fit": null,
            "object_position": null,
            "order": null,
            "overflow": null,
            "overflow_x": null,
            "overflow_y": null,
            "padding": null,
            "right": null,
            "top": null,
            "visibility": null,
            "width": null
          }
        },
        "5946014153814e3395fb5fd620a913b2": {
          "model_module": "@jupyter-widgets/controls",
          "model_name": "ProgressStyleModel",
          "model_module_version": "1.5.0",
          "state": {
            "_model_module": "@jupyter-widgets/controls",
            "_model_module_version": "1.5.0",
            "_model_name": "ProgressStyleModel",
            "_view_count": null,
            "_view_module": "@jupyter-widgets/base",
            "_view_module_version": "1.2.0",
            "_view_name": "StyleView",
            "bar_color": null,
            "description_width": ""
          }
        },
        "6cefb01670ee4082934df54e151c2720": {
          "model_module": "@jupyter-widgets/base",
          "model_name": "LayoutModel",
          "model_module_version": "1.2.0",
          "state": {
            "_model_module": "@jupyter-widgets/base",
            "_model_module_version": "1.2.0",
            "_model_name": "LayoutModel",
            "_view_count": null,
            "_view_module": "@jupyter-widgets/base",
            "_view_module_version": "1.2.0",
            "_view_name": "LayoutView",
            "align_content": null,
            "align_items": null,
            "align_self": null,
            "border": null,
            "bottom": null,
            "display": null,
            "flex": null,
            "flex_flow": null,
            "grid_area": null,
            "grid_auto_columns": null,
            "grid_auto_flow": null,
            "grid_auto_rows": null,
            "grid_column": null,
            "grid_gap": null,
            "grid_row": null,
            "grid_template_areas": null,
            "grid_template_columns": null,
            "grid_template_rows": null,
            "height": null,
            "justify_content": null,
            "justify_items": null,
            "left": null,
            "margin": null,
            "max_height": null,
            "max_width": null,
            "min_height": null,
            "min_width": null,
            "object_fit": null,
            "object_position": null,
            "order": null,
            "overflow": null,
            "overflow_x": null,
            "overflow_y": null,
            "padding": null,
            "right": null,
            "top": null,
            "visibility": null,
            "width": null
          }
        },
        "de07c012798f456abb7ddd538f75be1a": {
          "model_module": "@jupyter-widgets/controls",
          "model_name": "DescriptionStyleModel",
          "model_module_version": "1.5.0",
          "state": {
            "_model_module": "@jupyter-widgets/controls",
            "_model_module_version": "1.5.0",
            "_model_name": "DescriptionStyleModel",
            "_view_count": null,
            "_view_module": "@jupyter-widgets/base",
            "_view_module_version": "1.2.0",
            "_view_name": "StyleView",
            "description_width": ""
          }
        },
        "2220e96cb70d4e669c89453c64a9f15b": {
          "model_module": "@jupyter-widgets/controls",
          "model_name": "HBoxModel",
          "model_module_version": "1.5.0",
          "state": {
            "_dom_classes": [],
            "_model_module": "@jupyter-widgets/controls",
            "_model_module_version": "1.5.0",
            "_model_name": "HBoxModel",
            "_view_count": null,
            "_view_module": "@jupyter-widgets/controls",
            "_view_module_version": "1.5.0",
            "_view_name": "HBoxView",
            "box_style": "",
            "children": [
              "IPY_MODEL_02be85f6cdc640b880b30d155e04652d",
              "IPY_MODEL_f2919dd4d7b2434f83522934cdfb3f5c",
              "IPY_MODEL_d4b4d8f0afe642ca9cf0a4329e418c31"
            ],
            "layout": "IPY_MODEL_59f700ffd10043be87d017ad0cc1d49e"
          }
        },
        "02be85f6cdc640b880b30d155e04652d": {
          "model_module": "@jupyter-widgets/controls",
          "model_name": "HTMLModel",
          "model_module_version": "1.5.0",
          "state": {
            "_dom_classes": [],
            "_model_module": "@jupyter-widgets/controls",
            "_model_module_version": "1.5.0",
            "_model_name": "HTMLModel",
            "_view_count": null,
            "_view_module": "@jupyter-widgets/controls",
            "_view_module_version": "1.5.0",
            "_view_name": "HTMLView",
            "description": "",
            "description_tooltip": null,
            "layout": "IPY_MODEL_bcb3a37f2177426a9e5c7a2404ec6c7b",
            "placeholder": "​",
            "style": "IPY_MODEL_585f84e2b8d24cacbb515f264f60b471",
            "value": "Epoch: 0 Loss: 4.054: 100%"
          }
        },
        "f2919dd4d7b2434f83522934cdfb3f5c": {
          "model_module": "@jupyter-widgets/controls",
          "model_name": "FloatProgressModel",
          "model_module_version": "1.5.0",
          "state": {
            "_dom_classes": [],
            "_model_module": "@jupyter-widgets/controls",
            "_model_module_version": "1.5.0",
            "_model_name": "FloatProgressModel",
            "_view_count": null,
            "_view_module": "@jupyter-widgets/controls",
            "_view_module_version": "1.5.0",
            "_view_name": "ProgressView",
            "bar_style": "success",
            "description": "",
            "description_tooltip": null,
            "layout": "IPY_MODEL_d4bd673b60544d3c8f43dbbea5f0a366",
            "max": 1855,
            "min": 0,
            "orientation": "horizontal",
            "style": "IPY_MODEL_acfac8d47a6f4517abc0c1a95f0d4b19",
            "value": 1855
          }
        },
        "d4b4d8f0afe642ca9cf0a4329e418c31": {
          "model_module": "@jupyter-widgets/controls",
          "model_name": "HTMLModel",
          "model_module_version": "1.5.0",
          "state": {
            "_dom_classes": [],
            "_model_module": "@jupyter-widgets/controls",
            "_model_module_version": "1.5.0",
            "_model_name": "HTMLModel",
            "_view_count": null,
            "_view_module": "@jupyter-widgets/controls",
            "_view_module_version": "1.5.0",
            "_view_name": "HTMLView",
            "description": "",
            "description_tooltip": null,
            "layout": "IPY_MODEL_036797656d3f4cf2b9f557356957788d",
            "placeholder": "​",
            "style": "IPY_MODEL_89fe2605bae84ef09997f984c7ba4911",
            "value": " 1855/1855 [01:49&lt;00:00, 17.46it/s]"
          }
        },
        "59f700ffd10043be87d017ad0cc1d49e": {
          "model_module": "@jupyter-widgets/base",
          "model_name": "LayoutModel",
          "model_module_version": "1.2.0",
          "state": {
            "_model_module": "@jupyter-widgets/base",
            "_model_module_version": "1.2.0",
            "_model_name": "LayoutModel",
            "_view_count": null,
            "_view_module": "@jupyter-widgets/base",
            "_view_module_version": "1.2.0",
            "_view_name": "LayoutView",
            "align_content": null,
            "align_items": null,
            "align_self": null,
            "border": null,
            "bottom": null,
            "display": null,
            "flex": null,
            "flex_flow": null,
            "grid_area": null,
            "grid_auto_columns": null,
            "grid_auto_flow": null,
            "grid_auto_rows": null,
            "grid_column": null,
            "grid_gap": null,
            "grid_row": null,
            "grid_template_areas": null,
            "grid_template_columns": null,
            "grid_template_rows": null,
            "height": null,
            "justify_content": null,
            "justify_items": null,
            "left": null,
            "margin": null,
            "max_height": null,
            "max_width": null,
            "min_height": null,
            "min_width": null,
            "object_fit": null,
            "object_position": null,
            "order": null,
            "overflow": null,
            "overflow_x": null,
            "overflow_y": null,
            "padding": null,
            "right": null,
            "top": null,
            "visibility": null,
            "width": null
          }
        },
        "bcb3a37f2177426a9e5c7a2404ec6c7b": {
          "model_module": "@jupyter-widgets/base",
          "model_name": "LayoutModel",
          "model_module_version": "1.2.0",
          "state": {
            "_model_module": "@jupyter-widgets/base",
            "_model_module_version": "1.2.0",
            "_model_name": "LayoutModel",
            "_view_count": null,
            "_view_module": "@jupyter-widgets/base",
            "_view_module_version": "1.2.0",
            "_view_name": "LayoutView",
            "align_content": null,
            "align_items": null,
            "align_self": null,
            "border": null,
            "bottom": null,
            "display": null,
            "flex": null,
            "flex_flow": null,
            "grid_area": null,
            "grid_auto_columns": null,
            "grid_auto_flow": null,
            "grid_auto_rows": null,
            "grid_column": null,
            "grid_gap": null,
            "grid_row": null,
            "grid_template_areas": null,
            "grid_template_columns": null,
            "grid_template_rows": null,
            "height": null,
            "justify_content": null,
            "justify_items": null,
            "left": null,
            "margin": null,
            "max_height": null,
            "max_width": null,
            "min_height": null,
            "min_width": null,
            "object_fit": null,
            "object_position": null,
            "order": null,
            "overflow": null,
            "overflow_x": null,
            "overflow_y": null,
            "padding": null,
            "right": null,
            "top": null,
            "visibility": null,
            "width": null
          }
        },
        "585f84e2b8d24cacbb515f264f60b471": {
          "model_module": "@jupyter-widgets/controls",
          "model_name": "DescriptionStyleModel",
          "model_module_version": "1.5.0",
          "state": {
            "_model_module": "@jupyter-widgets/controls",
            "_model_module_version": "1.5.0",
            "_model_name": "DescriptionStyleModel",
            "_view_count": null,
            "_view_module": "@jupyter-widgets/base",
            "_view_module_version": "1.2.0",
            "_view_name": "StyleView",
            "description_width": ""
          }
        },
        "d4bd673b60544d3c8f43dbbea5f0a366": {
          "model_module": "@jupyter-widgets/base",
          "model_name": "LayoutModel",
          "model_module_version": "1.2.0",
          "state": {
            "_model_module": "@jupyter-widgets/base",
            "_model_module_version": "1.2.0",
            "_model_name": "LayoutModel",
            "_view_count": null,
            "_view_module": "@jupyter-widgets/base",
            "_view_module_version": "1.2.0",
            "_view_name": "LayoutView",
            "align_content": null,
            "align_items": null,
            "align_self": null,
            "border": null,
            "bottom": null,
            "display": null,
            "flex": null,
            "flex_flow": null,
            "grid_area": null,
            "grid_auto_columns": null,
            "grid_auto_flow": null,
            "grid_auto_rows": null,
            "grid_column": null,
            "grid_gap": null,
            "grid_row": null,
            "grid_template_areas": null,
            "grid_template_columns": null,
            "grid_template_rows": null,
            "height": null,
            "justify_content": null,
            "justify_items": null,
            "left": null,
            "margin": null,
            "max_height": null,
            "max_width": null,
            "min_height": null,
            "min_width": null,
            "object_fit": null,
            "object_position": null,
            "order": null,
            "overflow": null,
            "overflow_x": null,
            "overflow_y": null,
            "padding": null,
            "right": null,
            "top": null,
            "visibility": null,
            "width": null
          }
        },
        "acfac8d47a6f4517abc0c1a95f0d4b19": {
          "model_module": "@jupyter-widgets/controls",
          "model_name": "ProgressStyleModel",
          "model_module_version": "1.5.0",
          "state": {
            "_model_module": "@jupyter-widgets/controls",
            "_model_module_version": "1.5.0",
            "_model_name": "ProgressStyleModel",
            "_view_count": null,
            "_view_module": "@jupyter-widgets/base",
            "_view_module_version": "1.2.0",
            "_view_name": "StyleView",
            "bar_color": null,
            "description_width": ""
          }
        },
        "036797656d3f4cf2b9f557356957788d": {
          "model_module": "@jupyter-widgets/base",
          "model_name": "LayoutModel",
          "model_module_version": "1.2.0",
          "state": {
            "_model_module": "@jupyter-widgets/base",
            "_model_module_version": "1.2.0",
            "_model_name": "LayoutModel",
            "_view_count": null,
            "_view_module": "@jupyter-widgets/base",
            "_view_module_version": "1.2.0",
            "_view_name": "LayoutView",
            "align_content": null,
            "align_items": null,
            "align_self": null,
            "border": null,
            "bottom": null,
            "display": null,
            "flex": null,
            "flex_flow": null,
            "grid_area": null,
            "grid_auto_columns": null,
            "grid_auto_flow": null,
            "grid_auto_rows": null,
            "grid_column": null,
            "grid_gap": null,
            "grid_row": null,
            "grid_template_areas": null,
            "grid_template_columns": null,
            "grid_template_rows": null,
            "height": null,
            "justify_content": null,
            "justify_items": null,
            "left": null,
            "margin": null,
            "max_height": null,
            "max_width": null,
            "min_height": null,
            "min_width": null,
            "object_fit": null,
            "object_position": null,
            "order": null,
            "overflow": null,
            "overflow_x": null,
            "overflow_y": null,
            "padding": null,
            "right": null,
            "top": null,
            "visibility": null,
            "width": null
          }
        },
        "89fe2605bae84ef09997f984c7ba4911": {
          "model_module": "@jupyter-widgets/controls",
          "model_name": "DescriptionStyleModel",
          "model_module_version": "1.5.0",
          "state": {
            "_model_module": "@jupyter-widgets/controls",
            "_model_module_version": "1.5.0",
            "_model_name": "DescriptionStyleModel",
            "_view_count": null,
            "_view_module": "@jupyter-widgets/base",
            "_view_module_version": "1.2.0",
            "_view_name": "StyleView",
            "description_width": ""
          }
        }
      }
    }
  },
  "nbformat": 4,
  "nbformat_minor": 0
}